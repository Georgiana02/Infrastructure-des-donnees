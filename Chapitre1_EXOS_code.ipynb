{
 "cells": [
  {
   "cell_type": "markdown",
   "id": "1377e3be",
   "metadata": {},
   "source": [
    "### SQLITE\n",
    "1: Read all the data from bc.csv, how many rows is there ? Columns ?\n",
    "\n",
    "2: Insert the bc.csv in the sqlite format.\n",
    "\n",
    "3: In the same db create a new table called tomatch with two variables id_ and rdm_float.\n",
    "\n",
    "4: In the table tomatch insert observations where the id_ starts from 50k, ends at 10000000 and is only even numbers. rdm_float is a random float for each observation.\n",
    "\n",
    "5: Do an Inner join between the two tables and compute the different aggregate functions on a column of your choice.\n",
    "\n",
    "6: How many observations have a radius_mean greater than 15 ? From them how many have a texture_mean greater than 20 ?\n",
    "\n",
    "7: For each category in diagnosis do the mean of a variable and round it to get only 2 numbers after the comma. Compute the difference between the mean of both groups\n",
    "\n",
    "8: Change the name of the column \"diagnosis\" to \"label\"\n",
    "\n",
    "9: Add a column named \"day\" of type DATE.\n",
    "\n",
    "10: Change the type of the column \"area_mean\" to int (hint, not possible on sqlite, create a new column)\n",
    "\n",
    "11: create a new table called tomatch2 exactly the same way as tomatch except you increment id_ by 10.\n",
    "\n",
    "12: Do an inner join of bc, tomatch and tomatch2 where the radius_mean is greater than 15, and the rdm_float is greater than 0.50 in tomatch AND tomatch2."
   ]
  },
  {
   "cell_type": "markdown",
   "id": "00264fcd",
   "metadata": {},
   "source": [
    "### 1: Read all the data from bc.csv, how many rows is there ? Columns ?"
   ]
  },
  {
   "cell_type": "code",
   "execution_count": 2,
   "id": "04a48bb8",
   "metadata": {},
   "outputs": [
    {
     "name": "stdout",
     "output_type": "stream",
     "text": [
      "(569, 33)\n"
     ]
    },
    {
     "data": {
      "text/html": [
       "<div>\n",
       "<style scoped>\n",
       "    .dataframe tbody tr th:only-of-type {\n",
       "        vertical-align: middle;\n",
       "    }\n",
       "\n",
       "    .dataframe tbody tr th {\n",
       "        vertical-align: top;\n",
       "    }\n",
       "\n",
       "    .dataframe thead th {\n",
       "        text-align: right;\n",
       "    }\n",
       "</style>\n",
       "<table border=\"1\" class=\"dataframe\">\n",
       "  <thead>\n",
       "    <tr style=\"text-align: right;\">\n",
       "      <th></th>\n",
       "      <th>id</th>\n",
       "      <th>diagnosis</th>\n",
       "      <th>radius_mean</th>\n",
       "      <th>texture_mean</th>\n",
       "      <th>perimeter_mean</th>\n",
       "      <th>area_mean</th>\n",
       "      <th>smoothness_mean</th>\n",
       "      <th>compactness_mean</th>\n",
       "      <th>concavity_mean</th>\n",
       "      <th>concave points_mean</th>\n",
       "      <th>...</th>\n",
       "      <th>texture_worst</th>\n",
       "      <th>perimeter_worst</th>\n",
       "      <th>area_worst</th>\n",
       "      <th>smoothness_worst</th>\n",
       "      <th>compactness_worst</th>\n",
       "      <th>concavity_worst</th>\n",
       "      <th>concave points_worst</th>\n",
       "      <th>symmetry_worst</th>\n",
       "      <th>fractal_dimension_worst</th>\n",
       "      <th>Unnamed: 32</th>\n",
       "    </tr>\n",
       "  </thead>\n",
       "  <tbody>\n",
       "    <tr>\n",
       "      <th>0</th>\n",
       "      <td>842302</td>\n",
       "      <td>M</td>\n",
       "      <td>17.99</td>\n",
       "      <td>10.38</td>\n",
       "      <td>122.80</td>\n",
       "      <td>1001.0</td>\n",
       "      <td>0.11840</td>\n",
       "      <td>0.27760</td>\n",
       "      <td>0.3001</td>\n",
       "      <td>0.14710</td>\n",
       "      <td>...</td>\n",
       "      <td>17.33</td>\n",
       "      <td>184.60</td>\n",
       "      <td>2019.0</td>\n",
       "      <td>0.1622</td>\n",
       "      <td>0.6656</td>\n",
       "      <td>0.7119</td>\n",
       "      <td>0.2654</td>\n",
       "      <td>0.4601</td>\n",
       "      <td>0.11890</td>\n",
       "      <td>NaN</td>\n",
       "    </tr>\n",
       "    <tr>\n",
       "      <th>1</th>\n",
       "      <td>842517</td>\n",
       "      <td>M</td>\n",
       "      <td>20.57</td>\n",
       "      <td>17.77</td>\n",
       "      <td>132.90</td>\n",
       "      <td>1326.0</td>\n",
       "      <td>0.08474</td>\n",
       "      <td>0.07864</td>\n",
       "      <td>0.0869</td>\n",
       "      <td>0.07017</td>\n",
       "      <td>...</td>\n",
       "      <td>23.41</td>\n",
       "      <td>158.80</td>\n",
       "      <td>1956.0</td>\n",
       "      <td>0.1238</td>\n",
       "      <td>0.1866</td>\n",
       "      <td>0.2416</td>\n",
       "      <td>0.1860</td>\n",
       "      <td>0.2750</td>\n",
       "      <td>0.08902</td>\n",
       "      <td>NaN</td>\n",
       "    </tr>\n",
       "    <tr>\n",
       "      <th>2</th>\n",
       "      <td>84300903</td>\n",
       "      <td>M</td>\n",
       "      <td>19.69</td>\n",
       "      <td>21.25</td>\n",
       "      <td>130.00</td>\n",
       "      <td>1203.0</td>\n",
       "      <td>0.10960</td>\n",
       "      <td>0.15990</td>\n",
       "      <td>0.1974</td>\n",
       "      <td>0.12790</td>\n",
       "      <td>...</td>\n",
       "      <td>25.53</td>\n",
       "      <td>152.50</td>\n",
       "      <td>1709.0</td>\n",
       "      <td>0.1444</td>\n",
       "      <td>0.4245</td>\n",
       "      <td>0.4504</td>\n",
       "      <td>0.2430</td>\n",
       "      <td>0.3613</td>\n",
       "      <td>0.08758</td>\n",
       "      <td>NaN</td>\n",
       "    </tr>\n",
       "    <tr>\n",
       "      <th>3</th>\n",
       "      <td>84348301</td>\n",
       "      <td>M</td>\n",
       "      <td>11.42</td>\n",
       "      <td>20.38</td>\n",
       "      <td>77.58</td>\n",
       "      <td>386.1</td>\n",
       "      <td>0.14250</td>\n",
       "      <td>0.28390</td>\n",
       "      <td>0.2414</td>\n",
       "      <td>0.10520</td>\n",
       "      <td>...</td>\n",
       "      <td>26.50</td>\n",
       "      <td>98.87</td>\n",
       "      <td>567.7</td>\n",
       "      <td>0.2098</td>\n",
       "      <td>0.8663</td>\n",
       "      <td>0.6869</td>\n",
       "      <td>0.2575</td>\n",
       "      <td>0.6638</td>\n",
       "      <td>0.17300</td>\n",
       "      <td>NaN</td>\n",
       "    </tr>\n",
       "    <tr>\n",
       "      <th>4</th>\n",
       "      <td>84358402</td>\n",
       "      <td>M</td>\n",
       "      <td>20.29</td>\n",
       "      <td>14.34</td>\n",
       "      <td>135.10</td>\n",
       "      <td>1297.0</td>\n",
       "      <td>0.10030</td>\n",
       "      <td>0.13280</td>\n",
       "      <td>0.1980</td>\n",
       "      <td>0.10430</td>\n",
       "      <td>...</td>\n",
       "      <td>16.67</td>\n",
       "      <td>152.20</td>\n",
       "      <td>1575.0</td>\n",
       "      <td>0.1374</td>\n",
       "      <td>0.2050</td>\n",
       "      <td>0.4000</td>\n",
       "      <td>0.1625</td>\n",
       "      <td>0.2364</td>\n",
       "      <td>0.07678</td>\n",
       "      <td>NaN</td>\n",
       "    </tr>\n",
       "  </tbody>\n",
       "</table>\n",
       "<p>5 rows × 33 columns</p>\n",
       "</div>"
      ],
      "text/plain": [
       "         id diagnosis  radius_mean  texture_mean  perimeter_mean  area_mean  \\\n",
       "0    842302         M        17.99         10.38          122.80     1001.0   \n",
       "1    842517         M        20.57         17.77          132.90     1326.0   \n",
       "2  84300903         M        19.69         21.25          130.00     1203.0   \n",
       "3  84348301         M        11.42         20.38           77.58      386.1   \n",
       "4  84358402         M        20.29         14.34          135.10     1297.0   \n",
       "\n",
       "   smoothness_mean  compactness_mean  concavity_mean  concave points_mean  \\\n",
       "0          0.11840           0.27760          0.3001              0.14710   \n",
       "1          0.08474           0.07864          0.0869              0.07017   \n",
       "2          0.10960           0.15990          0.1974              0.12790   \n",
       "3          0.14250           0.28390          0.2414              0.10520   \n",
       "4          0.10030           0.13280          0.1980              0.10430   \n",
       "\n",
       "   ...  texture_worst  perimeter_worst  area_worst  smoothness_worst  \\\n",
       "0  ...          17.33           184.60      2019.0            0.1622   \n",
       "1  ...          23.41           158.80      1956.0            0.1238   \n",
       "2  ...          25.53           152.50      1709.0            0.1444   \n",
       "3  ...          26.50            98.87       567.7            0.2098   \n",
       "4  ...          16.67           152.20      1575.0            0.1374   \n",
       "\n",
       "   compactness_worst  concavity_worst  concave points_worst  symmetry_worst  \\\n",
       "0             0.6656           0.7119                0.2654          0.4601   \n",
       "1             0.1866           0.2416                0.1860          0.2750   \n",
       "2             0.4245           0.4504                0.2430          0.3613   \n",
       "3             0.8663           0.6869                0.2575          0.6638   \n",
       "4             0.2050           0.4000                0.1625          0.2364   \n",
       "\n",
       "   fractal_dimension_worst  Unnamed: 32  \n",
       "0                  0.11890          NaN  \n",
       "1                  0.08902          NaN  \n",
       "2                  0.08758          NaN  \n",
       "3                  0.17300          NaN  \n",
       "4                  0.07678          NaN  \n",
       "\n",
       "[5 rows x 33 columns]"
      ]
     },
     "execution_count": 2,
     "metadata": {},
     "output_type": "execute_result"
    }
   ],
   "source": [
    "\n",
    "import pandas as pd\n",
    "\n",
    "df = pd.read_csv(\"C:/Users/Georgiana/Downloads/bc.csv\")\n",
    "print(df.shape) #569 lignes et 33 colonnes\n",
    "df.head(5)"
   ]
  },
  {
   "cell_type": "markdown",
   "id": "ebbee906",
   "metadata": {},
   "source": [
    "### 2: Insert the bc.csv in the sqlite format."
   ]
  },
  {
   "cell_type": "code",
   "execution_count": 1,
   "id": "b36075cd",
   "metadata": {},
   "outputs": [],
   "source": [
    "# Je l'ai importé sur DB browser directement."
   ]
  },
  {
   "cell_type": "markdown",
   "id": "80001a3d",
   "metadata": {},
   "source": [
    "### 3: In the same db create a new table called tomatch with two variables id_ and rdm_float."
   ]
  },
  {
   "cell_type": "code",
   "execution_count": 28,
   "id": "9f66c28f",
   "metadata": {},
   "outputs": [],
   "source": [
    "\n",
    "import tqdm\n",
    "import sqlite3\n",
    "import pandas as pd\n",
    "\n",
    "df = pd.read_csv('C:/Users/Georgiana/Downloads/bc.csv')\n",
    "\n",
    "conn = sqlite3.connect('C:/Users/Georgiana/Downloads/BCbase.db') #importé à partir de DBbrowser\n",
    "c = conn.cursor()\n",
    "\n",
    "\n",
    "def create_table_tomatch():\n",
    "    try:\n",
    "        c.execute(\"\"\"CREATE TABLE IF NOT EXISTS tomatch(\"id_\" int PRIMARY KEY, \"rdm_float\" FLOAT)\"\"\")\n",
    "        conn.commit()\n",
    "    except Exception as e:\n",
    "        print(str(e))\n",
    "        \n",
    "create_table_tomatch()"
   ]
  },
  {
   "cell_type": "markdown",
   "id": "8baa760c",
   "metadata": {},
   "source": [
    "### 4: In the table tomatch insert observations where the id_ starts from 50k, ends at 10000000 and is only even numbers. rdm_float is a random float for each observation."
   ]
  },
  {
   "cell_type": "code",
   "execution_count": 29,
   "id": "d1f9b5cf",
   "metadata": {},
   "outputs": [
    {
     "name": "stderr",
     "output_type": "stream",
     "text": [
      "100%|████████████████████████████████████████████████████████████████████| 4975001/4975001 [00:10<00:00, 495027.61it/s]\n"
     ]
    }
   ],
   "source": [
    "\n",
    "import random as rd\n",
    "import tqdm\n",
    "c = conn.cursor()\n",
    "\n",
    "query = \"\"\"INSERT INTO tomatch(\"id_\", \"rdm_float\") VALUES (?, ?)\"\"\"\n",
    "liste_insertion=[]\n",
    "for i in tqdm.tqdm(range(50000, 10000001, 2)):\n",
    "    values=(i, rd.random())\n",
    "    liste_insertion.append(values)\n",
    "    if len(liste_insertion)==10000:\n",
    "        c.executemany(query, liste_insertion)\n",
    "        liste_insertion=[]\n",
    "conn.commit()        \n"
   ]
  },
  {
   "cell_type": "markdown",
   "id": "a23ba58b",
   "metadata": {},
   "source": [
    " ### 5: Do an Inner join between the two tables and compute the different aggregate functions on a column of your choice."
   ]
  },
  {
   "cell_type": "code",
   "execution_count": 97,
   "id": "a110a86c",
   "metadata": {},
   "outputs": [
    {
     "name": "stdout",
     "output_type": "stream",
     "text": [
      "[(0.2645051851851851, 64.27475999999999, 0.0, 1.17, 243)]\n"
     ]
    }
   ],
   "source": [
    "import sqlite3\n",
    "conn = sqlite3.connect('C:/Users/Georgiana/Downloads/BCbase.db') \n",
    "c = conn.cursor()\n",
    "c.execute(\"\"\"SELECT AVG(bc.concavity_worst), SUM(bc.concavity_worst), MIN(bc.concavity_worst), \n",
    "       MAX(bc.concavity_worst), COUNT(bc.concavity_worst)\n",
    "FROM bc\n",
    "INNER JOIN tomatch ON bc.id = tomatch.id_\n",
    "\"\"\")\n",
    "docs=c.fetchall()\n",
    "print(docs)"
   ]
  },
  {
   "cell_type": "markdown",
   "id": "1031f9da",
   "metadata": {},
   "source": [
    "### 6: How many observations have a radius_mean greater than 15 ? From them how many have a texture_mean greater than 20 ?"
   ]
  },
  {
   "cell_type": "code",
   "execution_count": 13,
   "id": "6f44e8a1",
   "metadata": {},
   "outputs": [
    {
     "name": "stdout",
     "output_type": "stream",
     "text": [
      "[(106,)]\n"
     ]
    }
   ],
   "source": [
    "\n",
    "c.execute( \"\"\"\n",
    "SELECT COUNT(*)\n",
    "FROM bc\n",
    "WHERE radius_mean > 15 AND texture_mean > 20\n",
    "\"\"\")\n",
    "docs=c.fetchall()\n",
    "print(docs)"
   ]
  },
  {
   "cell_type": "markdown",
   "id": "6018edf9",
   "metadata": {},
   "source": [
    "### 7: For each category in diagnosis do the mean of a variable and round it to get only 2 numbers after the comma. Compute the difference between the mean of both groups"
   ]
  },
  {
   "cell_type": "code",
   "execution_count": 98,
   "id": "54601c07",
   "metadata": {},
   "outputs": [
    {
     "name": "stdout",
     "output_type": "stream",
     "text": [
      "[('B', 0.17, 0.28), ('M', 0.45, 0.28)]\n",
      "La différence des moyennes est: 0.28\n"
     ]
    }
   ],
   "source": [
    "query = \"\"\"\n",
    "SELECT diagnosis,\n",
    "       ROUND(AVG(concavity_worst), 2) AS mean_concavity_stats,\n",
    "       (SELECT ROUND(AVG(concavity_worst), 2) FROM bc WHERE diagnosis = 'M') -\n",
    "       (SELECT ROUND(AVG(concavity_worst), 2) FROM bc WHERE diagnosis = 'B') AS mean_difference\n",
    "FROM bc\n",
    "GROUP BY diagnosis\n",
    "\"\"\"\n",
    "\n",
    "c.execute(query)\n",
    "results = c.fetchall()\n",
    "print(results)\n",
    "\n",
    "# Calcul de la différence moyenne entre 'M' et 'B'\n",
    "mean_difference_between_M_and_B = results[1][1] - results[0][1]\n",
    "print(\"La différence des moyennes est:\", round(mean_difference_between_M_and_B, 2))\n"
   ]
  },
  {
   "cell_type": "markdown",
   "id": "31becc81",
   "metadata": {},
   "source": [
    "### 8: Change the name of the column \"diagnosis\" to \"label\""
   ]
  },
  {
   "cell_type": "code",
   "execution_count": 20,
   "id": "e75d5f26",
   "metadata": {},
   "outputs": [],
   "source": [
    "query = \"\"\"\n",
    "ALTER TABLE bc\n",
    "RENAME COLUMN diagnosis TO label\n",
    "\"\"\"\n",
    "c.execute(query)\n",
    "conn.commit()"
   ]
  },
  {
   "cell_type": "markdown",
   "id": "a78c4893",
   "metadata": {},
   "source": [
    "### 9: Add a column named \"day\" of type DATE."
   ]
  },
  {
   "cell_type": "code",
   "execution_count": 21,
   "id": "04a5191f",
   "metadata": {},
   "outputs": [],
   "source": [
    "query = \"\"\"\n",
    "ALTER TABLE bc\n",
    "ADD COLUMN day DATE\n",
    "\"\"\"\n",
    "c.execute(query)\n",
    "conn.commit()\n",
    "\n"
   ]
  },
  {
   "cell_type": "markdown",
   "id": "6ba9468a",
   "metadata": {},
   "source": [
    "### 10: Change the type of the column \"area_mean\" to int (hint, not possible on sqlite, create a new column)"
   ]
  },
  {
   "cell_type": "code",
   "execution_count": 27,
   "id": "a0afb4a5",
   "metadata": {},
   "outputs": [],
   "source": [
    "query_add_column = \"\"\"\n",
    "ALTER TABLE bc\n",
    "ADD COLUMN area_mean_new INTEGER\n",
    "\"\"\"\n",
    "\n",
    "c.execute(query_add_column)\n",
    "query_update_column = \"\"\"\n",
    "UPDATE bc\n",
    "SET area_mean_new = CAST(area_mean AS INTEGER)\n",
    "\"\"\"\n",
    "\n",
    "c.execute(query_update_column)\n",
    "\n",
    "query_drop_column = \"\"\"\n",
    "ALTER TABLE bc\n",
    "DROP COLUMN area_mean\n",
    "\"\"\"\n",
    "\n",
    "c.execute(query_drop_column)\n",
    "\n",
    "query_rename_column = \"\"\"\n",
    "ALTER TABLE bc\n",
    "RENAME COLUMN area_mean_new TO area_mean\n",
    "\"\"\"\n",
    "\n",
    "c.execute(query_rename_column)\n",
    "conn.commit()\n",
    "\n"
   ]
  },
  {
   "cell_type": "markdown",
   "id": "e8a75cfe",
   "metadata": {},
   "source": [
    "### 11: Create a new table called tomatch2 exactly the same way as tomatch except you increment id_ by 10.\n"
   ]
  },
  {
   "cell_type": "code",
   "execution_count": 1,
   "id": "e5dac45d",
   "metadata": {},
   "outputs": [
    {
     "name": "stderr",
     "output_type": "stream",
     "text": [
      "100%|██████████████████████████████████████████████████████████████████████| 995001/995001 [00:01<00:00, 507748.55it/s]\n"
     ]
    }
   ],
   "source": [
    "import tqdm\n",
    "import sqlite3\n",
    "import pandas as pd\n",
    "import random as rd\n",
    "conn = sqlite3.connect('C:/Users/Georgiana/Downloads/BCbase.db') #importé à partir de DBbrowser\n",
    "c = conn.cursor()\n",
    "def create_table_tomatch2():\n",
    "    try:\n",
    "        c.execute(\"\"\"CREATE TABLE IF NOT EXISTS tomatch2(\"id_\" int PRIMARY KEY, \"rdm_float\" FLOAT)\"\"\")\n",
    "        conn.commit()\n",
    "    except Exception as e:\n",
    "        print(str(e))\n",
    "        \n",
    "create_table_tomatch2()\n",
    "query = \"\"\"INSERT INTO tomatch2(\"id_\", \"rdm_float\") VALUES (?, ?)\"\"\"\n",
    "liste_insertion=[]\n",
    "for i in tqdm.tqdm(range(50000, 10000001, 10)):\n",
    "    values=(i, rd.random())\n",
    "    liste_insertion.append(values)\n",
    "    if len(liste_insertion)==10000:\n",
    "        c.executemany(query, liste_insertion)\n",
    "        liste_insertion=[]\n",
    "conn.commit() \n",
    "\n"
   ]
  },
  {
   "cell_type": "markdown",
   "id": "66b52cd7",
   "metadata": {},
   "source": [
    "### 12: Do an inner join of bc, tomatch and tomatch2 where the radius_mean is greater than 15, and the rdm_float is greater than 0.50 in tomatch AND tomatch2."
   ]
  },
  {
   "cell_type": "code",
   "execution_count": 9,
   "id": "be98a5e0",
   "metadata": {},
   "outputs": [
    {
     "name": "stdout",
     "output_type": "stream",
     "text": [
      "[(857010, 'M', 18.65, 17.6, 123.7, 0.1099, 0.1686, 0.1974, 0.1009, 0.1907, 0.06049, 0.6289, 0.6633, 4.293, 71.56, 0.006294, 0.03994, 0.05554, 0.01695, 0.02428, 0.003535, 22.82, 21.32, 150.6, 1567, 0.1679, 0.509, 0.7345, 0.2378, 0.3799, 0.09185, None, None, 1076, 857010, 0.7232892425912114, 857010, 0.790780418640991), (884180, 'M', 19.4, 23.5, 129.1, 0.1027, 0.1558, 0.2049, 0.08886, 0.1978, 0.06, 0.5243, 1.802, 4.037, 60.41, 0.01061, 0.03252, 0.03915, 0.01559, 0.02186, 0.003949, 21.65, 30.53, 144.9, 1417, 0.1463, 0.2968, 0.3458, 0.1564, 0.292, 0.07614, None, None, 1155, 884180, 0.519257728911011, 884180, 0.9596308788019965), (888570, 'M', 17.29, 22.13, 114.4, 0.08999, 0.1273, 0.09697, 0.07507, 0.2108, 0.05464, 0.8348, 1.633, 6.146, 90.94, 0.006717, 0.05981, 0.04638, 0.02149, 0.02747, 0.005838, 20.39, 27.24, 137.9, 1295, 0.1134, 0.2867, 0.2298, 0.1528, 0.3067, 0.07484, None, None, 947, 888570, 0.5162032333252067, 888570, 0.9935697533170934), (8911670, 'M', 18.81, 19.98, 120.9, 0.08923, 0.05884, 0.0802, 0.05843, 0.155, 0.04996, 0.3283, 0.828, 2.363, 36.74, 0.007571, 0.01114, 0.02623, 0.01463, 0.0193, 0.001676, 19.96, 24.3, 129.0, 1236, 0.1243, 0.116, 0.221, 0.1294, 0.2567, 0.05737, None, None, 1102, 8911670, 0.9676675266010167, 8911670, 0.6467237444810496), (915460, 'M', 15.46, 23.95, 103.8, 0.1183, 0.187, 0.203, 0.0852, 0.1807, 0.07083, 0.3331, 1.961, 2.937, 32.52, 0.009538, 0.0494, 0.06019, 0.02041, 0.02105, 0.006, 17.11, 36.33, 117.7, 909.4, 0.1732, 0.4967, 0.5911, 0.2163, 0.3013, 0.1067, None, None, 731, 915460, 0.8361215105341442, 915460, 0.8416717302017088)]\n"
     ]
    }
   ],
   "source": [
    "conn = sqlite3.connect('C:/Users/Georgiana/Downloads/BCbase.db') #importé à partir de DBbrowser\n",
    "c = conn.cursor()\n",
    "c.execute(\"\"\"SELECT *\n",
    "FROM bc\n",
    "INNER JOIN tomatch ON bc.id = tomatch.id_\n",
    "INNER JOIN tomatch2 ON bc.id = tomatch2.id_\n",
    "WHERE bc.radius_mean > 15\n",
    "  AND tomatch.rdm_float > 0.50\n",
    "  AND tomatch2.rdm_float > 0.50\"\"\")\n",
    "result=c.fetchall()\n",
    "conn.commit()\n",
    "print(result)\n",
    "  "
   ]
  },
  {
   "cell_type": "markdown",
   "id": "1716a6c0",
   "metadata": {},
   "source": [
    "# Questions MySQL\n",
    "1: How many orders were placed in total?\n",
    "\n",
    "2: What is the total sales amount?\n",
    "\n",
    "3: What is the average profit per order?\n",
    "\n",
    "4: Which customer has placed the most orders?\n",
    "\n",
    "5: What is the total profit for each product category?\n",
    "\n",
    "6: What is the average discount percentage?\n",
    "\n",
    "7: Which region has the highest total sales?\n",
    "\n",
    "8: How many orders were shipped using each shipping mode?\n",
    "\n",
    "9: What is the total quantity ordered for each product sub-category?\n",
    "\n",
    "10: Which product has the highest profit margin?\n",
    "\n",
    "11: What is the total sales amount for each year?\n",
    "\n",
    "12: Which customer segment has the highest average sales?"
   ]
  },
  {
   "cell_type": "code",
   "execution_count": 10,
   "id": "989ba7a4",
   "metadata": {},
   "outputs": [
    {
     "data": {
      "text/html": [
       "<div>\n",
       "<style scoped>\n",
       "    .dataframe tbody tr th:only-of-type {\n",
       "        vertical-align: middle;\n",
       "    }\n",
       "\n",
       "    .dataframe tbody tr th {\n",
       "        vertical-align: top;\n",
       "    }\n",
       "\n",
       "    .dataframe thead th {\n",
       "        text-align: right;\n",
       "    }\n",
       "</style>\n",
       "<table border=\"1\" class=\"dataframe\">\n",
       "  <thead>\n",
       "    <tr style=\"text-align: right;\">\n",
       "      <th></th>\n",
       "      <th>Row ID</th>\n",
       "      <th>Order Priority</th>\n",
       "      <th>Discount</th>\n",
       "      <th>Unit Price</th>\n",
       "      <th>Shipping Cost</th>\n",
       "      <th>Customer ID</th>\n",
       "      <th>Customer Name</th>\n",
       "      <th>Ship Mode</th>\n",
       "      <th>Customer Segment</th>\n",
       "      <th>Product Category</th>\n",
       "      <th>...</th>\n",
       "      <th>Region</th>\n",
       "      <th>State or Province</th>\n",
       "      <th>City</th>\n",
       "      <th>Postal Code</th>\n",
       "      <th>Order Date</th>\n",
       "      <th>Ship Date</th>\n",
       "      <th>Profit</th>\n",
       "      <th>Quantity ordered new</th>\n",
       "      <th>Sales</th>\n",
       "      <th>Order ID</th>\n",
       "    </tr>\n",
       "  </thead>\n",
       "  <tbody>\n",
       "    <tr>\n",
       "      <th>0</th>\n",
       "      <td>18606</td>\n",
       "      <td>Not Specified</td>\n",
       "      <td>0.01</td>\n",
       "      <td>2.88</td>\n",
       "      <td>0.50</td>\n",
       "      <td>2</td>\n",
       "      <td>Janice Fletcher</td>\n",
       "      <td>Regular Air</td>\n",
       "      <td>Corporate</td>\n",
       "      <td>Office Supplies</td>\n",
       "      <td>...</td>\n",
       "      <td>Central</td>\n",
       "      <td>Illinois</td>\n",
       "      <td>Addison</td>\n",
       "      <td>60101</td>\n",
       "      <td>5/28/2012</td>\n",
       "      <td>5/30/2012</td>\n",
       "      <td>1.3200</td>\n",
       "      <td>2</td>\n",
       "      <td>5.90</td>\n",
       "      <td>88525</td>\n",
       "    </tr>\n",
       "    <tr>\n",
       "      <th>1</th>\n",
       "      <td>20847</td>\n",
       "      <td>High</td>\n",
       "      <td>0.01</td>\n",
       "      <td>2.84</td>\n",
       "      <td>0.93</td>\n",
       "      <td>3</td>\n",
       "      <td>Bonnie Potter</td>\n",
       "      <td>Express Air</td>\n",
       "      <td>Corporate</td>\n",
       "      <td>Office Supplies</td>\n",
       "      <td>...</td>\n",
       "      <td>West</td>\n",
       "      <td>Washington</td>\n",
       "      <td>Anacortes</td>\n",
       "      <td>98221</td>\n",
       "      <td>7/7/2010</td>\n",
       "      <td>7/8/2010</td>\n",
       "      <td>4.5600</td>\n",
       "      <td>4</td>\n",
       "      <td>13.01</td>\n",
       "      <td>88522</td>\n",
       "    </tr>\n",
       "    <tr>\n",
       "      <th>2</th>\n",
       "      <td>23086</td>\n",
       "      <td>Not Specified</td>\n",
       "      <td>0.03</td>\n",
       "      <td>6.68</td>\n",
       "      <td>6.15</td>\n",
       "      <td>3</td>\n",
       "      <td>Bonnie Potter</td>\n",
       "      <td>Express Air</td>\n",
       "      <td>Corporate</td>\n",
       "      <td>Office Supplies</td>\n",
       "      <td>...</td>\n",
       "      <td>West</td>\n",
       "      <td>Washington</td>\n",
       "      <td>Anacortes</td>\n",
       "      <td>98221</td>\n",
       "      <td>7/27/2011</td>\n",
       "      <td>7/28/2011</td>\n",
       "      <td>-47.6400</td>\n",
       "      <td>7</td>\n",
       "      <td>49.92</td>\n",
       "      <td>88523</td>\n",
       "    </tr>\n",
       "    <tr>\n",
       "      <th>3</th>\n",
       "      <td>23087</td>\n",
       "      <td>Not Specified</td>\n",
       "      <td>0.01</td>\n",
       "      <td>5.68</td>\n",
       "      <td>3.60</td>\n",
       "      <td>3</td>\n",
       "      <td>Bonnie Potter</td>\n",
       "      <td>Regular Air</td>\n",
       "      <td>Corporate</td>\n",
       "      <td>Office Supplies</td>\n",
       "      <td>...</td>\n",
       "      <td>West</td>\n",
       "      <td>Washington</td>\n",
       "      <td>Anacortes</td>\n",
       "      <td>98221</td>\n",
       "      <td>7/27/2011</td>\n",
       "      <td>7/28/2011</td>\n",
       "      <td>-30.5100</td>\n",
       "      <td>7</td>\n",
       "      <td>41.64</td>\n",
       "      <td>88523</td>\n",
       "    </tr>\n",
       "    <tr>\n",
       "      <th>4</th>\n",
       "      <td>23088</td>\n",
       "      <td>Not Specified</td>\n",
       "      <td>0.00</td>\n",
       "      <td>205.99</td>\n",
       "      <td>2.50</td>\n",
       "      <td>3</td>\n",
       "      <td>Bonnie Potter</td>\n",
       "      <td>Express Air</td>\n",
       "      <td>Corporate</td>\n",
       "      <td>Technology</td>\n",
       "      <td>...</td>\n",
       "      <td>West</td>\n",
       "      <td>Washington</td>\n",
       "      <td>Anacortes</td>\n",
       "      <td>98221</td>\n",
       "      <td>7/27/2011</td>\n",
       "      <td>7/27/2011</td>\n",
       "      <td>998.2023</td>\n",
       "      <td>8</td>\n",
       "      <td>1446.67</td>\n",
       "      <td>88523</td>\n",
       "    </tr>\n",
       "  </tbody>\n",
       "</table>\n",
       "<p>5 rows × 24 columns</p>\n",
       "</div>"
      ],
      "text/plain": [
       "   Row ID Order Priority  Discount  Unit Price  Shipping Cost  Customer ID  \\\n",
       "0   18606  Not Specified      0.01        2.88           0.50            2   \n",
       "1   20847           High      0.01        2.84           0.93            3   \n",
       "2   23086  Not Specified      0.03        6.68           6.15            3   \n",
       "3   23087  Not Specified      0.01        5.68           3.60            3   \n",
       "4   23088  Not Specified      0.00      205.99           2.50            3   \n",
       "\n",
       "     Customer Name    Ship Mode Customer Segment Product Category  ...  \\\n",
       "0  Janice Fletcher  Regular Air        Corporate  Office Supplies  ...   \n",
       "1    Bonnie Potter  Express Air        Corporate  Office Supplies  ...   \n",
       "2    Bonnie Potter  Express Air        Corporate  Office Supplies  ...   \n",
       "3    Bonnie Potter  Regular Air        Corporate  Office Supplies  ...   \n",
       "4    Bonnie Potter  Express Air        Corporate       Technology  ...   \n",
       "\n",
       "    Region State or Province       City  Postal Code Order Date  Ship Date  \\\n",
       "0  Central          Illinois    Addison        60101  5/28/2012  5/30/2012   \n",
       "1     West        Washington  Anacortes        98221   7/7/2010   7/8/2010   \n",
       "2     West        Washington  Anacortes        98221  7/27/2011  7/28/2011   \n",
       "3     West        Washington  Anacortes        98221  7/27/2011  7/28/2011   \n",
       "4     West        Washington  Anacortes        98221  7/27/2011  7/27/2011   \n",
       "\n",
       "     Profit  Quantity ordered new    Sales Order ID  \n",
       "0    1.3200                     2     5.90    88525  \n",
       "1    4.5600                     4    13.01    88522  \n",
       "2  -47.6400                     7    49.92    88523  \n",
       "3  -30.5100                     7    41.64    88523  \n",
       "4  998.2023                     8  1446.67    88523  \n",
       "\n",
       "[5 rows x 24 columns]"
      ]
     },
     "execution_count": 10,
     "metadata": {},
     "output_type": "execute_result"
    }
   ],
   "source": [
    "import pandas as pd\n",
    "import mysql.connector\n",
    "\n",
    "mydb = mysql.connector.connect(\n",
    "  host=\"localhost\",\n",
    "  user=\"root\",\n",
    "  password=\"root\",\n",
    "  database=\"m1_ds2e\"\n",
    ")\n",
    "\n",
    "c = mydb.cursor()\n",
    "\n",
    "c.execute(\"SELECT * FROM sample_superstore\")\n",
    "\n",
    "docs = c.fetchall()\n",
    "\n",
    "columns = [description[0] for description in c.description]\n",
    "df = pd.DataFrame(docs, columns=columns)\n",
    "\n",
    "df.head()"
   ]
  },
  {
   "cell_type": "markdown",
   "id": "861451d9",
   "metadata": {},
   "source": [
    "### 1: How many orders were placed in total?"
   ]
  },
  {
   "cell_type": "code",
   "execution_count": 5,
   "id": "c91b2137",
   "metadata": {},
   "outputs": [
    {
     "name": "stdout",
     "output_type": "stream",
     "text": [
      "[(175,)]\n"
     ]
    }
   ],
   "source": [
    "import mysql.connector\n",
    "\n",
    "mydb = mysql.connector.connect(\n",
    "    host=\"localhost\",\n",
    "    user=\"root\",\n",
    "    password=\"root\",\n",
    "    database=\"m1_ds2e\"\n",
    ")\n",
    "\n",
    "c = mydb.cursor()\n",
    "c.execute(\"\"\"SELECT COUNT( \"Order ID\") AS total_commandes\n",
    "FROM sample_superstore\"\"\");\n",
    "result=c.fetchall()\n",
    "print(result)"
   ]
  },
  {
   "cell_type": "markdown",
   "id": "f751c9da",
   "metadata": {},
   "source": [
    "### 2. What is the total sales amount?"
   ]
  },
  {
   "cell_type": "code",
   "execution_count": 25,
   "id": "bd2245f5",
   "metadata": {},
   "outputs": [
    {
     "name": "stdout",
     "output_type": "stream",
     "text": [
      "[(130555.31000000006,)]\n"
     ]
    }
   ],
   "source": [
    "c.execute(\"\"\"SELECT SUM(sales) AS total_sales FROM sample_superstore\"\"\")\n",
    "result = c.fetchall()\n",
    "print(result)\n"
   ]
  },
  {
   "cell_type": "markdown",
   "id": "221f5b78",
   "metadata": {},
   "source": [
    "### 3.What is the average profit per order?"
   ]
  },
  {
   "cell_type": "code",
   "execution_count": 6,
   "id": "6f2d6628",
   "metadata": {},
   "outputs": [
    {
     "name": "stdout",
     "output_type": "stream",
     "text": [
      "[(88525, 1.32), (88522, 4.56), (88523, 306.6841), (88524, 1388.0523), (88526, 1001.4453), (90193, 4390.3665), (90197, -141.26), (90194, 1045.4673), (90200, 406.7419), (90198, 72.9928), (90199, -252.67759875000002), (90195, 142.7955), (90192, -53.8096), (90196, 23.12), (86838, 185.425125), (86845, -44.54), (86837, -59.82), (86839, 261.8757), (86840, -1.17), (86841, -24.03), (86842, 23.2668), (86843, -174.2696), (86836, 327.68155), (86844, 3.4595), (90033, -6.82), (90034, -96.33), (90031, 314.4813), (90035, 164.48680000000002), (90038, -17.49), (90039, 139.54835), (90032, -114.6399), (90036, -491.73199999999997), (90037, -41.82), (41793, 384.38), (42949, -66.06495), (55269, -41.82), (9895, -6.82), (17860, -96.33), (26887, 172.27274999999997), (50533, -491.73199999999997), (18596, 174.845), (87655, 571.89495), (87660, 83.24), (87669, 353.77216), (87651, -16.802), (87656, 1489.8411), (87662, -23.415), (87663, -88.102), (87657, -10.58), (87666, 677.50343), (87658, 420.984), (87667, 19.4097), (87670, -24.118176000000002), (87652, 8.89400000000001), (87659, 149.84715), (87661, 33.4144), (87668, 847.943712), (87653, -2.2072), (87665, 28.81), (87654, -120.52304), (87664, -1.6864), (89206, -43.3316), (89199, 144.69), (89200, -35.8788), (89202, 209.997), (89203, 2568.096), (89207, 345.0), (89201, -30.062800000000003), (89205, -75.12168), (89208, -88.57148), (91256, 803.39986), (91257, 165.501), (88682, -3.3599999999999994), (88684, -15.464), (88683, -71.44), (91455, 24.1868), (91458, 43.271712), (91454, 25.91382), (91456, -17.58), (91457, -336.38464), (91578, 338.6244), (91579, -35.906), (87712, -4.359171999999999), (87713, 60.8097), (87714, 4.772579999999998), (87715, 229.0593), (87710, -12.82), (87711, 7.27), (87716, 391.7199), (87717, -45.1), (87718, 526.608), (87719, -24.08), (88426, 47.588), (88427, 378.1614), (88428, 3.328), (88425, -6923.5992), (88429, 23.1564), (88076, -1513.264896), (88077, -211.0644), (88081, 39.080775), (88075, 8.9879), (88079, 47.0972), (88080, -12.321250000000006), (88082, 3234.0946620000004), (88078, -143.8648), (87413, -47.910000000000004), (87416, -157.18), (87417, -675.62), (87410, -0.18520000000000003), (87420, -180.46656), (87409, 185.266), (87411, 77.372), (87412, 25.116), (87414, 28.59475), (87422, 303.4416), (87407, 2.14), (87408, 349.4091), (87415, 44.495), (87423, -103.96848), (87418, 574.96995), (87419, 247.26885), (87406, 31.980449999999998), (87421, -218.9761), (87948, 1381.9886999999999), (87951, 95.3787), (87946, 845.664), (87949, -770.6166000000001)]\n"
     ]
    }
   ],
   "source": [
    "mydb = mysql.connector.connect(\n",
    "    host=\"localhost\",\n",
    "    user=\"root\",\n",
    "    password=\"root\",\n",
    "    database=\"m1_ds2e\"\n",
    ")\n",
    "\n",
    "c = mydb.cursor()\n",
    "c.execute(\"\"\"SELECT `Order ID` , AVG(Profit) AS avg_profit\n",
    "FROM m1_ds2e.sample_superstore\n",
    "GROUP BY `Order ID`\"\"\")\n",
    "\n",
    "docs = c.fetchall()\n",
    "print(docs)"
   ]
  },
  {
   "cell_type": "markdown",
   "id": "2feaecab",
   "metadata": {},
   "source": [
    "### 4. Which customer has placed the most orders?"
   ]
  },
  {
   "cell_type": "code",
   "execution_count": 24,
   "id": "370dbd03",
   "metadata": {},
   "outputs": [
    {
     "name": "stdout",
     "output_type": "stream",
     "text": [
      "Client avec le plus de commandes : Tony Wilkins Winters avec 533 unités commandéss.\n"
     ]
    }
   ],
   "source": [
    "import mysql.connector\n",
    "mydb = mysql.connector.connect(\n",
    "    host=\"localhost\",\n",
    "    user=\"root\",\n",
    "    password=\"root\",\n",
    "    database=\"m1_ds2e\"\n",
    ")\n",
    "\n",
    "c = mydb.cursor()\n",
    "query = \"\"\"\n",
    "     SELECT `Customer Name` , sum(`Quantity ordered new`) AS Quantity_ordered\n",
    "FROM sample_superstore\n",
    "GROUP BY `Customer Name` order by Quantity_ordered desc;\n",
    "\"\"\"\n",
    "c.execute(query)\n",
    "most_orders_client = c.fetchone()\n",
    "print(f\"Client avec le plus de commandes : {most_orders_client[0]} avec {most_orders_client[1]} unités commandéss.\")"
   ]
  },
  {
   "cell_type": "markdown",
   "id": "20bf0286",
   "metadata": {},
   "source": [
    "### 5: What is the total profit for each product category?"
   ]
  },
  {
   "cell_type": "code",
   "execution_count": 15,
   "id": "ab769bba",
   "metadata": {},
   "outputs": [
    {
     "name": "stdout",
     "output_type": "stream",
     "text": [
      "Profit par catégorie de produit :\n",
      "Office Supplies: 11605.983540000001\n",
      "Technology: 10225.340091999999\n",
      "Furniture: 1976.0725965000036\n"
     ]
    }
   ],
   "source": [
    "query = \"\"\"\n",
    "    SELECT \n",
    "        `Product Category`, \n",
    "        SUM(Profit) AS Total_Profit\n",
    "    FROM \n",
    "        sample_superstore\n",
    "    GROUP BY \n",
    "        `Product Category`;\n",
    "\"\"\"\n",
    "c.execute(query)\n",
    "profit_by_category = c.fetchall()\n",
    "\n",
    "print(\"Profit par catégorie de produit :\")\n",
    "for category, profit in profit_by_category:\n",
    "    print(f\"{category}: {profit}\")\n"
   ]
  },
  {
   "cell_type": "markdown",
   "id": "bbc23054",
   "metadata": {},
   "source": [
    "### 6: What is the average discount percentage?"
   ]
  },
  {
   "cell_type": "code",
   "execution_count": 17,
   "id": "45073cdd",
   "metadata": {},
   "outputs": [
    {
     "name": "stdout",
     "output_type": "stream",
     "text": [
      "Le taux de remise moyen en pourcentage est : 4.97%\n"
     ]
    }
   ],
   "source": [
    "query = \"\"\"\n",
    "    SELECT \n",
    "        AVG(Discount) AS Avg_Discount_Percentage\n",
    "    FROM \n",
    "        sample_superstore;\n",
    "\"\"\"\n",
    "c.execute(query)\n",
    "avg_discount = c.fetchone()[0]\n",
    "print(f\"Le taux de remise moyen en pourcentage est : {avg_discount * 100:.2f}%\")"
   ]
  },
  {
   "cell_type": "markdown",
   "id": "516cd80d",
   "metadata": {},
   "source": [
    "### 7: Which region has the highest total sales?"
   ]
  },
  {
   "cell_type": "code",
   "execution_count": 18,
   "id": "a879ace6",
   "metadata": {},
   "outputs": [
    {
     "name": "stdout",
     "output_type": "stream",
     "text": [
      "La région avec le total des ventes le plus élevé est : West avec un total de ventes de 75678.49999999999.\n"
     ]
    }
   ],
   "source": [
    "query = \"\"\"\n",
    "    SELECT \n",
    "        `Region`, \n",
    "        SUM(Sales) AS Total_Sales\n",
    "    FROM \n",
    "        sample_superstore \n",
    "    GROUP BY \n",
    "        `Region`\n",
    "    ORDER BY \n",
    "        Total_Sales DESC\n",
    "    LIMIT 1;\n",
    "\"\"\"\n",
    "c.execute(query)\n",
    "region_with_highest_sales = c.fetchone()\n",
    "print(f\"La région avec le total des ventes le plus élevé est : {region_with_highest_sales[0]} avec un total de ventes de {region_with_highest_sales[1]}.\")"
   ]
  },
  {
   "cell_type": "markdown",
   "id": "1e064307",
   "metadata": {},
   "source": [
    "### 8: How many orders were shipped using each shipping mode?"
   ]
  },
  {
   "cell_type": "code",
   "execution_count": 23,
   "id": "074ea3d6",
   "metadata": {},
   "outputs": [
    {
     "name": "stdout",
     "output_type": "stream",
     "text": [
      "Nombre de commandes expédiées par mode d'expédition :\n",
      "Delivery Truck: 19\n",
      "Express Air: 20\n",
      "Regular Air: 100\n"
     ]
    }
   ],
   "source": [
    "query = \"\"\"\n",
    "    SELECT \n",
    "        `Ship Mode`, \n",
    "        COUNT(DISTINCT `Order ID`) AS Total_Orders_Shipped\n",
    "    FROM \n",
    "        sample_superstore \n",
    "    GROUP BY \n",
    "        `Ship Mode`;\n",
    "\"\"\"\n",
    "c.execute(query)\n",
    "orders_shipped_by_mode = c.fetchall()\n",
    "print(\"Nombre de commandes expédiées par mode d'expédition :\")\n",
    "for mode, total_orders_shipped in orders_shipped_by_mode:\n",
    "    print(f\"{mode}: {total_orders_shipped}\")"
   ]
  },
  {
   "cell_type": "markdown",
   "id": "a78e61dd",
   "metadata": {},
   "source": [
    "### 9:  What is the total quantity ordered for each product sub-category?"
   ]
  },
  {
   "cell_type": "code",
   "execution_count": 24,
   "id": "2f416aed",
   "metadata": {},
   "outputs": [
    {
     "name": "stdout",
     "output_type": "stream",
     "text": [
      "Quantité totale commandée par sous-catégorie de produit :\n",
      "Labels: 171\n",
      "Pens & Art Supplies: 196\n",
      "Paper: 286\n",
      "Scissors, Rulers and Trimmers: 24\n",
      "Telephones and Communication: 252\n",
      "Office Machines: 123\n",
      "Chairs & Chairmats: 166\n",
      "Appliances: 184\n",
      "Bookcases: 39\n",
      "Tables: 50\n",
      "Envelopes: 46\n",
      "Office Furnishings: 233\n",
      "Rubber Bands: 119\n",
      "Binders and Binder Accessories: 129\n",
      "Storage & Organization: 121\n",
      "Copiers and Fax: 5\n",
      "Computer Peripherals: 69\n"
     ]
    }
   ],
   "source": [
    "query = \"\"\"\n",
    "    SELECT \n",
    "        `Product Sub-Category`, \n",
    "        SUM(`Quantity ordered new`) AS Total_Quantity_Ordered\n",
    "    FROM \n",
    "        sample_superstore \n",
    "    GROUP BY \n",
    "        `Product Sub-Category`;\n",
    "\"\"\"\n",
    "c.execute(query)\n",
    "\n",
    "total_quantity_ordered_by_subcategory = c.fetchall()\n",
    "\n",
    "print(\"Quantité totale commandée par sous-catégorie de produit :\")\n",
    "for subcategory, total_quantity_ordered in total_quantity_ordered_by_subcategory:\n",
    "    print(f\"{subcategory}: {total_quantity_ordered}\")\n"
   ]
  },
  {
   "cell_type": "markdown",
   "id": "18cb207a",
   "metadata": {},
   "source": [
    "### 10: Which product has the highest profit margin?"
   ]
  },
  {
   "cell_type": "code",
   "execution_count": 8,
   "id": "95dcd1a8",
   "metadata": {},
   "outputs": [
    {
     "name": "stdout",
     "output_type": "stream",
     "text": [
      "Le produit avec la marge bénéficiaire la plus élevée est : Canon S750 Color Inkjet Printer avec une marge bénéficiaire de 0.69.\n"
     ]
    }
   ],
   "source": [
    "mydb = mysql.connector.connect(\n",
    "    host=\"localhost\",\n",
    "    user=\"root\",\n",
    "    password=\"root\",\n",
    "    database=\"m1_ds2e\"\n",
    ")\n",
    "\n",
    "c = mydb.cursor()\n",
    "query = \"\"\"\n",
    "    SELECT `Product Name` ,(SUM(Profit) / SUM(Sales)) AS profit_margin\n",
    "FROM sample_superstore\n",
    "GROUP BY `Product Name` \n",
    "ORDER BY profit_margin desc LIMIT 1;\n",
    "\"\"\"\n",
    "c.execute(query)\n",
    "product_with_highest_profit_margin = c.fetchone()\n",
    "print(f\"Le produit avec la marge bénéficiaire la plus élevée est : {product_with_highest_profit_margin[0]} avec une marge bénéficiaire de {product_with_highest_profit_margin[1]:.2f}.\")\n"
   ]
  },
  {
   "cell_type": "markdown",
   "id": "cc11b7d2",
   "metadata": {},
   "source": [
    "### 11:  What is the total sales amount for each year?"
   ]
  },
  {
   "cell_type": "code",
   "execution_count": 36,
   "id": "a97b920c",
   "metadata": {},
   "outputs": [
    {
     "name": "stdout",
     "output_type": "stream",
     "text": [
      "Montant total des ventes pour chaque année :\n",
      "Année 2012: 44893.209999999985$\n",
      "Année 2010: 25377.779999999995$\n",
      "Année 2011: 12048.119999999997$\n",
      "Année 2013: 48236.200000000004$\n"
     ]
    }
   ],
   "source": [
    "query = \"\"\"\n",
    "    SELECT \n",
    "        RIGHT(`Order Date`, 4) AS Year,\n",
    "        SUM(Sales) AS Total_Sales\n",
    "    FROM \n",
    "        sample_superstore\n",
    "    GROUP BY \n",
    "        Year;\n",
    "\"\"\"\n",
    "c.execute(query)\n",
    "\n",
    "total_sales_by_year = c.fetchall()\n",
    "\n",
    "print(\"Montant total des ventes pour chaque année :\")\n",
    "for year, total_sales in total_sales_by_year:\n",
    "    print(f\"Année {year}: {total_sales}$\")"
   ]
  },
  {
   "cell_type": "markdown",
   "id": "48fa5e9d",
   "metadata": {},
   "source": [
    "### 12:  Which customer segment has the highest average sales?"
   ]
  },
  {
   "cell_type": "code",
   "execution_count": 38,
   "id": "5dcb7442",
   "metadata": {},
   "outputs": [
    {
     "name": "stdout",
     "output_type": "stream",
     "text": [
      "Le segment de client avec les ventes moyennes les plus élevées est : Small Business avec une moyenne de ventes de 1041.56.\n"
     ]
    }
   ],
   "source": [
    "query = \"\"\"\n",
    "    SELECT \n",
    "        `Customer Segment`,\n",
    "        AVG(Sales) AS Average_Sales\n",
    "    FROM \n",
    "        sample_superstore\n",
    "    GROUP BY \n",
    "        `Customer Segment`\n",
    "    ORDER BY \n",
    "        Average_Sales DESC\n",
    "    LIMIT 1;\n",
    "\"\"\"\n",
    "c.execute(query)\n",
    "\n",
    "segment_with_highest_average_sales = c.fetchone()\n",
    "average_sales_rounded = round(segment_with_highest_average_sales[1], 2)\n",
    "print(f\"Le segment de client avec les ventes moyennes les plus élevées est : {segment_with_highest_average_sales[0]} avec une moyenne de ventes de {average_sales_rounded}.\")"
   ]
  },
  {
   "cell_type": "markdown",
   "id": "e3d65a6f",
   "metadata": {},
   "source": [
    "### PostgreSQL\n",
    "1: What is the average age of the customers?\n",
    "\n",
    "2: How many customers have defaulted on loans?\n",
    "\n",
    "3: What is the maximum balance in the account?\n",
    "\n",
    "4: How many customers have a housing loan?\n",
    "\n",
    "5: What is the education level of the youngest customer?\n",
    "\n",
    "6: What is the marital status of the oldest customer?\n",
    "\n",
    "7: What is the distribution of the months in which customers were last contacted?\n",
    "\n",
    "8: What is the average duration of contact for customers who have a personal loan?\n",
    "\n",
    "9: How many customers were previously contacted, and what was the average duration of their last contact?\n",
    "\n",
    "10: What is the distribution of job types among customers?\n",
    "\n",
    "11: How many customers have been contacted more than once in the current campaign?\n",
    "\n",
    "12: What is the success rate of previous marketing campaigns (poutcome) among customers"
   ]
  },
  {
   "cell_type": "code",
   "execution_count": 40,
   "id": "d44b6b7a",
   "metadata": {},
   "outputs": [
    {
     "data": {
      "text/plain": [
       "Index(['age', 'job', 'marital', 'education', 'default_', 'balance', 'housing',\n",
       "       'loan', 'contact', 'day', 'month', 'duration', 'campaign', 'pdays',\n",
       "       'previous', 'poutcome', 'y'],\n",
       "      dtype='object')"
      ]
     },
     "execution_count": 40,
     "metadata": {},
     "output_type": "execute_result"
    }
   ],
   "source": [
    "import pandas as pd\n",
    "df = pd.read_csv(\"C:/Users/Georgiana/Downloads/bank_full.csv\")\n",
    "df.columns"
   ]
  },
  {
   "cell_type": "code",
   "execution_count": 10,
   "id": "21c44196",
   "metadata": {},
   "outputs": [],
   "source": [
    "import psycopg2\n",
    "\n",
    "# Connect to PostgreSQL database\n",
    "conn = psycopg2.connect(dbname=\"new_db\", user=\"postgres\", password=\"root\", host=\"localhost\",  port=\"5432\" )"
   ]
  },
  {
   "cell_type": "code",
   "execution_count": 44,
   "id": "8c056ece",
   "metadata": {},
   "outputs": [],
   "source": [
    "cur = conn.cursor()\n",
    "\n",
    "# Define the table schema\n",
    "table_name = \"bank_full\"\n",
    "columns = [\n",
    "    \"age INTEGER\",\n",
    "    \"job VARCHAR(100)\",\n",
    "    \"marital VARCHAR(20)\",\n",
    "    \"education VARCHAR(100)\",\n",
    "    \"default_ VARCHAR(10)\",\n",
    "    \"balance NUMERIC\",\n",
    "    \"housing VARCHAR(10)\",\n",
    "    \"loan VARCHAR(10)\",\n",
    "    \"contact VARCHAR(100)\",\n",
    "    \"day INTEGER\",\n",
    "    \"month VARCHAR(20)\",\n",
    "    \"duration INTEGER\",\n",
    "    \"campaign INTEGER\",\n",
    "    \"pdays INTEGER\",\n",
    "    \"previous INTEGER\",\n",
    "    \"poutcome VARCHAR(100)\",\n",
    "    \"y VARCHAR(10)\"\n",
    "]\n",
    "\n",
    "# Construct the CREATE TABLE query\n",
    "create_table_query = (\n",
    "    \"CREATE TABLE IF NOT EXISTS \" + table_name + \" (\" +\n",
    "    \", \".join(columns) +\n",
    "    \")\"\n",
    ")\n",
    "\n",
    "# Execute the CREATE TABLE query\n",
    "cur.execute(create_table_query)\n",
    "\n",
    "# Commit the transaction\n",
    "conn.commit()\n",
    "\n",
    "# Close cursor and connection\n",
    "cur.close()\n",
    "conn.close()"
   ]
  },
  {
   "cell_type": "markdown",
   "id": "2602f496",
   "metadata": {},
   "source": [
    "### 1: What is the average age of the customers?"
   ]
  },
  {
   "cell_type": "code",
   "execution_count": 52,
   "id": "eb13a8c1",
   "metadata": {},
   "outputs": [
    {
     "name": "stdout",
     "output_type": "stream",
     "text": [
      "L'âge moyen est : 40.9362102143283714\n"
     ]
    }
   ],
   "source": [
    "conn = psycopg2.connect(dbname=\"new_db\", user=\"postgres\", password=\"root\", host=\"localhost\",  port=\"5432\" )\n",
    "cur = conn.cursor()\n",
    "query = \"SELECT AVG(age) FROM bank_full;\"\n",
    "cur.execute(query)\n",
    "\n",
    "average_age = cur.fetchone()[0]\n",
    "\n",
    "\n",
    "print(\"L'âge moyen est :\", average_age )\n"
   ]
  },
  {
   "cell_type": "markdown",
   "id": "9b264569",
   "metadata": {},
   "source": [
    "### 2: How many customers have defaulted on loans?"
   ]
  },
  {
   "cell_type": "code",
   "execution_count": 56,
   "id": "1d31b916",
   "metadata": {},
   "outputs": [
    {
     "name": "stdout",
     "output_type": "stream",
     "text": [
      "Number of clients who have defaulted on loans : 815\n"
     ]
    }
   ],
   "source": [
    "query = \"SELECT COUNT(*) FROM bank_full WHERE default_ = 'yes';\"\n",
    "\n",
    "cur.execute(query)\n",
    "count_yes = cur.fetchone()[0]\n",
    "\n",
    "print(\"Number of clients who have defaulted on loans :\", count_yes)"
   ]
  },
  {
   "cell_type": "markdown",
   "id": "842638c8",
   "metadata": {},
   "source": [
    "### 3: What is the maximum balance in the account?"
   ]
  },
  {
   "cell_type": "code",
   "execution_count": 11,
   "id": "be9f7349",
   "metadata": {},
   "outputs": [
    {
     "name": "stdout",
     "output_type": "stream",
     "text": [
      "Solde maximal : 102127\n"
     ]
    }
   ],
   "source": [
    "conn = psycopg2.connect(dbname=\"new_db\", user=\"postgres\", password=\"root\", host=\"localhost\",  port=\"5432\" )\n",
    "cur = conn.cursor()\n",
    "query = \"SELECT MAX(balance) FROM bank_full;\"\n",
    "cur.execute(query)\n",
    "\n",
    "max_balance = cur.fetchone()[0]\n",
    "print(\"Solde maximal :\", max_balance)"
   ]
  },
  {
   "cell_type": "markdown",
   "id": "117738b3",
   "metadata": {},
   "source": [
    "### 4: How many customers have a housing loan?"
   ]
  },
  {
   "cell_type": "code",
   "execution_count": 21,
   "id": "242b71ed",
   "metadata": {},
   "outputs": [
    {
     "name": "stdout",
     "output_type": "stream",
     "text": [
      "Nombre de clients avec un emprunt : 25130\n"
     ]
    }
   ],
   "source": [
    "query = \"SELECT COUNT(*) FROM bank_full WHERE housing = 'yes';\"\n",
    "\n",
    "cur.execute(query)\n",
    "count_loan_yes = cur.fetchone()[0]\n",
    "print(\"Nombre de clients avec un emprunt :\", count_loan_yes)\n"
   ]
  },
  {
   "cell_type": "markdown",
   "id": "27974204",
   "metadata": {},
   "source": [
    "### 5: What is the education level of the youngest customer?"
   ]
  },
  {
   "cell_type": "code",
   "execution_count": 14,
   "id": "83dd88d6",
   "metadata": {},
   "outputs": [
    {
     "name": "stdout",
     "output_type": "stream",
     "text": [
      " Age et education pour le client le plus jeune: [(18, 'primary'), (18, 'unknown'), (18, 'primary'), (18, 'unknown'), (18, 'secondary'), (18, 'unknown'), (18, 'unknown'), (18, 'secondary'), (18, 'primary'), (18, 'unknown'), (18, 'unknown'), (18, 'unknown')]\n"
     ]
    }
   ],
   "source": [
    "query = \"SELECT age as min_age, education FROM bank_full WHERE age = (SELECT MIN(age) FROM bank_full);\"\n",
    "\n",
    "cur.execute(query)\n",
    "education_min_age = cur.fetchall() \n",
    "print(\" Age et education pour le client le plus jeune:\", education_min_age)\n"
   ]
  },
  {
   "cell_type": "markdown",
   "id": "f0e4dc11",
   "metadata": {},
   "source": [
    "### 6: What is the marital status of the oldest customer?"
   ]
  },
  {
   "cell_type": "code",
   "execution_count": 15,
   "id": "e9645b7e",
   "metadata": {},
   "outputs": [
    {
     "name": "stdout",
     "output_type": "stream",
     "text": [
      "Age et statut marital du client le plus agé: [(95, 'divorced'), (95, 'married')]\n"
     ]
    }
   ],
   "source": [
    "query = \"SELECT age as max_age, marital FROM bank_full WHERE age = (SELECT MAX(age) FROM bank_full);\"\n",
    "\n",
    "cur.execute(query)\n",
    "education_min_age = cur.fetchall() \n",
    "print(\"Age et statut marital du client le plus agé:\", education_min_age)\n"
   ]
  },
  {
   "cell_type": "markdown",
   "id": "ffbc574a",
   "metadata": {},
   "source": [
    "### 7: What is the distribution of the months in which customers were last contacted?"
   ]
  },
  {
   "cell_type": "code",
   "execution_count": 71,
   "id": "631a9a1f",
   "metadata": {
    "scrolled": true
   },
   "outputs": [
    {
     "data": {
      "image/png": "[encoded data removed]",
      "text/plain": [
       "<Figure size 1000x600 with 1 Axes>"
      ]
     },
     "metadata": {},
     "output_type": "display_data"
    }
   ],
   "source": [
    "import matplotlib.pyplot as plt\n",
    "query = \"\"\"\n",
    "    SELECT month, COUNT(*) AS month_occurrences\n",
    "    FROM bank_full\n",
    "    GROUP BY month;\n",
    "    \n",
    "\"\"\"\n",
    "cur.execute(query)\n",
    "\n",
    "results = cur.fetchall()\n",
    "\n",
    "months = [result[0] for result in results]\n",
    "occurrences = [result[1] for result in results]\n",
    "\n",
    "plt.figure(figsize=(10, 6))\n",
    "plt.bar(months, occurrences, color='skyblue')\n",
    "plt.title('Distribution des mois')\n",
    "plt.xlabel('Mois')\n",
    "plt.ylabel('Nombre d\\'occurrences')\n",
    "plt.xticks(rotation=45, ha='right')\n",
    "plt.tight_layout()\n",
    "plt.show()\n",
    "\n",
    "#la plupart des gens ont été contacté précédemment en mai."
   ]
  },
  {
   "cell_type": "markdown",
   "id": "31003d55",
   "metadata": {},
   "source": [
    "### 8:  What is the average duration of contact for customers who have a personal loan?"
   ]
  },
  {
   "cell_type": "code",
   "execution_count": 72,
   "id": "bc5cbbad",
   "metadata": {},
   "outputs": [
    {
     "name": "stdout",
     "output_type": "stream",
     "text": [
      "Durée moyenne de contacts pour les clients ayant un prêt : 250.8453892876863611\n"
     ]
    }
   ],
   "source": [
    "query = \"\"\"\n",
    "    SELECT AVG(duration) AS average_duration\n",
    "    FROM bank_full\n",
    "    WHERE loan = 'yes';\n",
    "\"\"\"\n",
    "cur.execute(query)\n",
    "\n",
    "average_duration = cur.fetchone()[0]\n",
    "print(\"Durée moyenne de contacts pour les clients ayant un prêt :\", average_duration)"
   ]
  },
  {
   "cell_type": "markdown",
   "id": "51ad059e",
   "metadata": {},
   "source": [
    "### 9: How many customers were previously contacted, and what was the average duration of their last contact?"
   ]
  },
  {
   "cell_type": "code",
   "execution_count": 74,
   "id": "3f629b4b",
   "metadata": {},
   "outputs": [
    {
     "name": "stdout",
     "output_type": "stream",
     "text": [
      "Nombre de clients précédemment contactés : 8257\n",
      "Durée moyenne du contact : 260.1186871745185903 \n"
     ]
    }
   ],
   "source": [
    "query = \"\"\"\n",
    "    SELECT COUNT(*) AS num_clients, AVG(duration) AS avg_duration\n",
    "    FROM bank_full\n",
    "    WHERE previous <> 0;\n",
    "\"\"\"\n",
    "cur.execute(query)\n",
    "result = cur.fetchone()\n",
    "num_clients = result[0]\n",
    "avg_duration = result[1]\n",
    "print(f\"Nombre de clients précédemment contactés : {num_clients}\")\n",
    "print(f\"Durée moyenne du contact : {avg_duration} \")"
   ]
  },
  {
   "cell_type": "markdown",
   "id": "5e158d5a",
   "metadata": {},
   "source": [
    "### 10: What is the distribution of job types among customers?"
   ]
  },
  {
   "cell_type": "code",
   "execution_count": 20,
   "id": "2dd616ee",
   "metadata": {},
   "outputs": [
    {
     "name": "stdout",
     "output_type": "stream",
     "text": [
      "Distribution of job types among customers:\n",
      "Job: blue-collar Count: 9732\n",
      "Job: management Count: 9458\n",
      "Job: technician Count: 7597\n",
      "Job: admin. Count: 5171\n",
      "Job: services Count: 4154\n",
      "Job: retired Count: 2264\n",
      "Job: self-employed Count: 1579\n",
      "Job: entrepreneur Count: 1487\n",
      "Job: unemployed Count: 1303\n",
      "Job: housemaid Count: 1240\n",
      "Job: student Count: 938\n",
      "Job: unknown Count: 288\n"
     ]
    },
    {
     "data": {
      "image/png": "[encoded data removed]",
      "text/plain": [
       "<Figure size 1000x600 with 1 Axes>"
      ]
     },
     "metadata": {},
     "output_type": "display_data"
    }
   ],
   "source": [
    "import matplotlib.pyplot as plt\n",
    "query = \"\"\"\n",
    "    SELECT job, COUNT(*) AS job_count\n",
    "    FROM bank_full\n",
    "    GROUP BY job\n",
    "    ORDER BY job_count DESC;\n",
    "\"\"\"\n",
    "cur.execute(query)\n",
    "results = cur.fetchall()\n",
    "jobs = [row[0] for row in results]\n",
    "job_counts = [row[1] for row in results]\n",
    "\n",
    "print(\"Distribution of job types among customers:\")\n",
    "for result in results:\n",
    "    print(\"Job:\", result[0], \"Count:\", result[1])\n",
    "conn.commit()\n",
    "plt.figure(figsize=(10, 6))\n",
    "plt.bar(jobs, job_counts, color='skyblue')\n",
    "plt.title('Distribution des types de job')\n",
    "plt.xlabel('Type de job')\n",
    "plt.ylabel('Nombre d\\'occurrences')\n",
    "plt.xticks(rotation=45, ha='right')\n",
    "plt.tight_layout()\n",
    "plt.show()"
   ]
  },
  {
   "cell_type": "markdown",
   "id": "30d32cae",
   "metadata": {},
   "source": [
    "### 11: How many customers have been contacted more than once in the current campaign?"
   ]
  },
  {
   "cell_type": "code",
   "execution_count": 76,
   "id": "9822f457",
   "metadata": {},
   "outputs": [
    {
     "name": "stdout",
     "output_type": "stream",
     "text": [
      "Nombre de clients contactés plus d'une fois dans cette campagne : 27667\n"
     ]
    }
   ],
   "source": [
    "query = \"\"\"\n",
    "    SELECT COUNT(*) AS num_clients_contactes\n",
    "    FROM bank_full\n",
    "    WHERE campaign > 1;\n",
    "\"\"\"\n",
    "cur.execute(query)\n",
    "num_clients_contactes = cur.fetchone()[0]\n",
    "print(f\"Nombre de clients contactés plus d'une fois dans cette campagne : {num_clients_contactes}\")\n"
   ]
  },
  {
   "cell_type": "markdown",
   "id": "2a3099f2",
   "metadata": {},
   "source": [
    "### 12: What is the success rate of previous marketing campaigns (poutcome) among customers?"
   ]
  },
  {
   "cell_type": "code",
   "execution_count": 89,
   "id": "0c4a8df2",
   "metadata": {},
   "outputs": [
    {
     "name": "stdout",
     "output_type": "stream",
     "text": [
      "Taux de succès des campagnes précédentes : 3.34%\n"
     ]
    }
   ],
   "source": [
    "\n",
    "conn = psycopg2.connect(dbname=\"new_db\", user=\"postgres\", password=\"root\", host=\"localhost\",  port=\"5432\" )\n",
    "cur = conn.cursor()\n",
    "query_success = \"\"\"\n",
    "    SELECT COUNT(*) AS success_count\n",
    "    FROM bank_full\n",
    "    WHERE poutcome = 'success';\n",
    "\"\"\"\n",
    "cur.execute(query_success)\n",
    "success_count = cur.fetchone()[0]\n",
    "query_total = \"\"\"\n",
    "    SELECT COUNT(*) AS total_count\n",
    "    FROM bank_full;\n",
    "\n",
    "\"\"\"\n",
    "cur.execute(query_total)\n",
    "total_count = cur.fetchone()[0]\n",
    "success_rate = (success_count / total_count) * 100\n",
    "print(f\"Taux de succès des campagnes précédentes : {success_rate:.2f}%\")"
   ]
  }
 ],
 "metadata": {
  "kernelspec": {
   "display_name": "Python 3 (ipykernel)",
   "language": "python",
   "name": "python3"
  },
  "language_info": {
   "codemirror_mode": {
    "name": "ipython",
    "version": 3
   },
   "file_extension": ".py",
   "mimetype": "text/x-python",
   "name": "python",
   "nbconvert_exporter": "python",
   "pygments_lexer": "ipython3",
   "version": "3.11.5"
  }
 },
 "nbformat": 4,
 "nbformat_minor": 5
}
