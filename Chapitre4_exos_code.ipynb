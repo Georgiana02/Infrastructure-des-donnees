{
 "cells": [
  {
   "cell_type": "code",
   "execution_count": 2,
   "id": "c40a994a",
   "metadata": {},
   "outputs": [
    {
     "name": "stdout",
     "output_type": "stream",
     "text": [
      "Collecting py2neo\n",
      "  Obtaining dependency information for py2neo from https://files.pythonhosted.org/packages/b6/e5/d97c8adbda3b9a6957c572f05a8427661194832d4709b90c108b7e868268/py2neo-2021.2.4-py2.py3-none-any.whl.metadata\n",
      "  Downloading py2neo-2021.2.4-py2.py3-none-any.whl.metadata (9.9 kB)\n",
      "Requirement already satisfied: certifi in c:\\users\\georgiana\\anaconda3\\lib\\site-packages (from py2neo) (2023.11.17)\n",
      "Collecting interchange~=2021.0.4 (from py2neo)\n",
      "  Obtaining dependency information for interchange~=2021.0.4 from https://files.pythonhosted.org/packages/88/bd/abc58e5a36a28e0e55501f4bc15df74e430f399375b14b83f4ce22a257b4/interchange-2021.0.4-py2.py3-none-any.whl.metadata\n",
      "  Downloading interchange-2021.0.4-py2.py3-none-any.whl.metadata (1.9 kB)\n",
      "Collecting monotonic (from py2neo)\n",
      "  Obtaining dependency information for monotonic from https://files.pythonhosted.org/packages/9a/67/7e8406a29b6c45be7af7740456f7f37025f0506ae2e05fb9009a53946860/monotonic-1.6-py2.py3-none-any.whl.metadata\n",
      "  Downloading monotonic-1.6-py2.py3-none-any.whl.metadata (1.5 kB)\n",
      "Requirement already satisfied: packaging in c:\\users\\georgiana\\anaconda3\\lib\\site-packages (from py2neo) (23.1)\n",
      "Collecting pansi>=2020.7.3 (from py2neo)\n",
      "  Obtaining dependency information for pansi>=2020.7.3 from https://files.pythonhosted.org/packages/0b/15/7972e08b7ec14a8b10d5ff206c644d4478906c909c134123ed7e6bd16724/pansi-2020.7.3-py2.py3-none-any.whl.metadata\n",
      "  Downloading pansi-2020.7.3-py2.py3-none-any.whl.metadata (6.0 kB)\n",
      "Requirement already satisfied: pygments>=2.0.0 in c:\\users\\georgiana\\anaconda3\\lib\\site-packages (from py2neo) (2.15.1)\n",
      "Requirement already satisfied: six>=1.15.0 in c:\\users\\georgiana\\anaconda3\\lib\\site-packages (from py2neo) (1.16.0)\n",
      "Requirement already satisfied: urllib3 in c:\\users\\georgiana\\anaconda3\\lib\\site-packages (from py2neo) (1.26.16)\n",
      "Requirement already satisfied: pytz in c:\\users\\georgiana\\anaconda3\\lib\\site-packages (from interchange~=2021.0.4->py2neo) (2023.3.post1)\n",
      "Downloading py2neo-2021.2.4-py2.py3-none-any.whl (177 kB)\n",
      "   ---------------------------------------- 0.0/177.2 kB ? eta -:--:--\n",
      "   ---------------- ----------------------- 71.7/177.2 kB 2.0 MB/s eta 0:00:01\n",
      "   ---------------------------------------- 177.2/177.2 kB 2.7 MB/s eta 0:00:00\n",
      "Downloading interchange-2021.0.4-py2.py3-none-any.whl (28 kB)\n",
      "Downloading pansi-2020.7.3-py2.py3-none-any.whl (10 kB)\n",
      "Downloading monotonic-1.6-py2.py3-none-any.whl (8.2 kB)\n",
      "Installing collected packages: monotonic, pansi, interchange, py2neo\n",
      "Successfully installed interchange-2021.0.4 monotonic-1.6 pansi-2020.7.3 py2neo-2021.2.4\n"
     ]
    },
    {
     "ename": "ConnectionUnavailable",
     "evalue": "Connection has been closed",
     "output_type": "error",
     "traceback": [
      "\u001b[1;31m---------------------------------------------------------------------------\u001b[0m",
      "\u001b[1;31mIndexError\u001b[0m                                Traceback (most recent call last)",
      "File \u001b[1;32m~\\anaconda3\\Lib\\site-packages\\py2neo\\client\\__init__.py:806\u001b[0m, in \u001b[0;36mConnectionPool.acquire\u001b[1;34m(self, force_reset, can_overfill)\u001b[0m\n\u001b[0;32m    804\u001b[0m \u001b[38;5;28;01mtry\u001b[39;00m:\n\u001b[0;32m    805\u001b[0m     \u001b[38;5;66;03m# Plan A: select a free connection from the pool\u001b[39;00m\n\u001b[1;32m--> 806\u001b[0m     cx \u001b[38;5;241m=\u001b[39m \u001b[38;5;28mself\u001b[39m\u001b[38;5;241m.\u001b[39m_free_list\u001b[38;5;241m.\u001b[39mpopleft()\n\u001b[0;32m    807\u001b[0m \u001b[38;5;28;01mexcept\u001b[39;00m \u001b[38;5;167;01mIndexError\u001b[39;00m:\n",
      "\u001b[1;31mIndexError\u001b[0m: pop from an empty deque",
      "\nDuring handling of the above exception, another exception occurred:\n",
      "\u001b[1;31mClientError\u001b[0m                               Traceback (most recent call last)",
      "File \u001b[1;32m~\\anaconda3\\Lib\\site-packages\\py2neo\\client\\bolt.py:810\u001b[0m, in \u001b[0;36mBolt1._audit\u001b[1;34m(self, task)\u001b[0m\n\u001b[0;32m    809\u001b[0m \u001b[38;5;28;01mtry\u001b[39;00m:\n\u001b[1;32m--> 810\u001b[0m     task\u001b[38;5;241m.\u001b[39maudit()\n\u001b[0;32m    811\u001b[0m \u001b[38;5;28;01mexcept\u001b[39;00m Neo4jError:\n",
      "File \u001b[1;32m~\\anaconda3\\Lib\\site-packages\\py2neo\\client\\bolt.py:1303\u001b[0m, in \u001b[0;36mBoltResponse.audit\u001b[1;34m(self)\u001b[0m\n\u001b[0;32m   1302\u001b[0m \u001b[38;5;28mself\u001b[39m\u001b[38;5;241m.\u001b[39mset_ignored()\n\u001b[1;32m-> 1303\u001b[0m \u001b[38;5;28;01mraise\u001b[39;00m \u001b[38;5;28mself\u001b[39m\u001b[38;5;241m.\u001b[39m_failure\n",
      "\u001b[1;31mClientError\u001b[0m: [Security.Unauthorized] The client is unauthorized due to authentication failure.",
      "\nDuring handling of the above exception, another exception occurred:\n",
      "\u001b[1;31mConnectionUnavailable\u001b[0m                     Traceback (most recent call last)",
      "Cell \u001b[1;32mIn[2], line 7\u001b[0m\n\u001b[0;32m      2\u001b[0m \u001b[38;5;28;01mimport\u001b[39;00m \u001b[38;5;21;01mpy2neo\u001b[39;00m\n\u001b[0;32m      4\u001b[0m \u001b[38;5;66;03m# Connect to graph db , default user is neo4j and default collection is neo4j\u001b[39;00m\n\u001b[0;32m      5\u001b[0m \u001b[38;5;66;03m# to change default auth just go to the localhost\u001b[39;00m\n\u001b[1;32m----> 7\u001b[0m graph \u001b[38;5;241m=\u001b[39m py2neo\u001b[38;5;241m.\u001b[39mGraph(\u001b[38;5;124m\"\u001b[39m\u001b[38;5;124mbolt://localhost:7687\u001b[39m\u001b[38;5;124m\"\u001b[39m, auth\u001b[38;5;241m=\u001b[39m(\u001b[38;5;124m\"\u001b[39m\u001b[38;5;124mneo4j\u001b[39m\u001b[38;5;124m\"\u001b[39m, \u001b[38;5;124m\"\u001b[39m\u001b[38;5;124mpassword_tuts\u001b[39m\u001b[38;5;124m\"\u001b[39m), name\u001b[38;5;241m=\u001b[39m\u001b[38;5;124m\"\u001b[39m\u001b[38;5;124mneo4j\u001b[39m\u001b[38;5;124m\"\u001b[39m)\n\u001b[0;32m      8\u001b[0m graph\u001b[38;5;241m.\u001b[39mdelete_all()\n",
      "File \u001b[1;32m~\\anaconda3\\Lib\\site-packages\\py2neo\\database.py:288\u001b[0m, in \u001b[0;36mGraph.__init__\u001b[1;34m(self, profile, name, **settings)\u001b[0m\n\u001b[0;32m    287\u001b[0m \u001b[38;5;28;01mdef\u001b[39;00m \u001b[38;5;21m__init__\u001b[39m(\u001b[38;5;28mself\u001b[39m, profile\u001b[38;5;241m=\u001b[39m\u001b[38;5;28;01mNone\u001b[39;00m, name\u001b[38;5;241m=\u001b[39m\u001b[38;5;28;01mNone\u001b[39;00m, \u001b[38;5;241m*\u001b[39m\u001b[38;5;241m*\u001b[39msettings):\n\u001b[1;32m--> 288\u001b[0m     \u001b[38;5;28mself\u001b[39m\u001b[38;5;241m.\u001b[39mservice \u001b[38;5;241m=\u001b[39m GraphService(profile, \u001b[38;5;241m*\u001b[39m\u001b[38;5;241m*\u001b[39msettings)\n\u001b[0;32m    289\u001b[0m     \u001b[38;5;28mself\u001b[39m\u001b[38;5;241m.\u001b[39m\u001b[38;5;18m__name__\u001b[39m \u001b[38;5;241m=\u001b[39m name\n\u001b[0;32m    290\u001b[0m     \u001b[38;5;28mself\u001b[39m\u001b[38;5;241m.\u001b[39mschema \u001b[38;5;241m=\u001b[39m Schema(\u001b[38;5;28mself\u001b[39m)\n",
      "File \u001b[1;32m~\\anaconda3\\Lib\\site-packages\\py2neo\\database.py:119\u001b[0m, in \u001b[0;36mGraphService.__init__\u001b[1;34m(self, profile, **settings)\u001b[0m\n\u001b[0;32m    116\u001b[0m \u001b[38;5;28;01mif\u001b[39;00m connector_settings[\u001b[38;5;124m\"\u001b[39m\u001b[38;5;124minit_size\u001b[39m\u001b[38;5;124m\"\u001b[39m] \u001b[38;5;129;01mis\u001b[39;00m \u001b[38;5;28;01mNone\u001b[39;00m \u001b[38;5;129;01mand\u001b[39;00m \u001b[38;5;129;01mnot\u001b[39;00m profile\u001b[38;5;241m.\u001b[39mrouting:\n\u001b[0;32m    117\u001b[0m     \u001b[38;5;66;03m# Ensures credentials are checked on construction\u001b[39;00m\n\u001b[0;32m    118\u001b[0m     connector_settings[\u001b[38;5;124m\"\u001b[39m\u001b[38;5;124minit_size\u001b[39m\u001b[38;5;124m\"\u001b[39m] \u001b[38;5;241m=\u001b[39m \u001b[38;5;241m1\u001b[39m\n\u001b[1;32m--> 119\u001b[0m \u001b[38;5;28mself\u001b[39m\u001b[38;5;241m.\u001b[39m_connector \u001b[38;5;241m=\u001b[39m Connector(profile, \u001b[38;5;241m*\u001b[39m\u001b[38;5;241m*\u001b[39mconnector_settings)\n\u001b[0;32m    120\u001b[0m \u001b[38;5;28mself\u001b[39m\u001b[38;5;241m.\u001b[39m_graphs \u001b[38;5;241m=\u001b[39m {}\n",
      "File \u001b[1;32m~\\anaconda3\\Lib\\site-packages\\py2neo\\client\\__init__.py:960\u001b[0m, in \u001b[0;36mConnector.__init__\u001b[1;34m(self, profile, user_agent, init_size, max_size, max_age, routing_refresh_ttl)\u001b[0m\n\u001b[0;32m    958\u001b[0m \u001b[38;5;28;01melse\u001b[39;00m:\n\u001b[0;32m    959\u001b[0m     \u001b[38;5;28mself\u001b[39m\u001b[38;5;241m.\u001b[39m_router \u001b[38;5;241m=\u001b[39m \u001b[38;5;28;01mNone\u001b[39;00m\n\u001b[1;32m--> 960\u001b[0m \u001b[38;5;28mself\u001b[39m\u001b[38;5;241m.\u001b[39m_add_pools(\u001b[38;5;241m*\u001b[39m\u001b[38;5;28mself\u001b[39m\u001b[38;5;241m.\u001b[39m_initial_routers)\n",
      "File \u001b[1;32m~\\anaconda3\\Lib\\site-packages\\py2neo\\client\\__init__.py:982\u001b[0m, in \u001b[0;36mConnector._add_pools\u001b[1;34m(self, *profiles)\u001b[0m\n\u001b[0;32m    980\u001b[0m     \u001b[38;5;28;01mcontinue\u001b[39;00m\n\u001b[0;32m    981\u001b[0m log\u001b[38;5;241m.\u001b[39mdebug(\u001b[38;5;124m\"\u001b[39m\u001b[38;5;124mAdding connection pool for profile \u001b[39m\u001b[38;5;132;01m%r\u001b[39;00m\u001b[38;5;124m\"\u001b[39m, profile)\n\u001b[1;32m--> 982\u001b[0m pool \u001b[38;5;241m=\u001b[39m ConnectionPool\u001b[38;5;241m.\u001b[39mopen(\n\u001b[0;32m    983\u001b[0m     profile,\n\u001b[0;32m    984\u001b[0m     user_agent\u001b[38;5;241m=\u001b[39m\u001b[38;5;28mself\u001b[39m\u001b[38;5;241m.\u001b[39m_user_agent,\n\u001b[0;32m    985\u001b[0m     init_size\u001b[38;5;241m=\u001b[39m\u001b[38;5;28mself\u001b[39m\u001b[38;5;241m.\u001b[39m_init_size,\n\u001b[0;32m    986\u001b[0m     max_size\u001b[38;5;241m=\u001b[39m\u001b[38;5;28mself\u001b[39m\u001b[38;5;241m.\u001b[39m_max_size,\n\u001b[0;32m    987\u001b[0m     max_age\u001b[38;5;241m=\u001b[39m\u001b[38;5;28mself\u001b[39m\u001b[38;5;241m.\u001b[39m_max_age,\n\u001b[0;32m    988\u001b[0m     on_broken\u001b[38;5;241m=\u001b[39m\u001b[38;5;28mself\u001b[39m\u001b[38;5;241m.\u001b[39m_on_broken)\n\u001b[0;32m    989\u001b[0m \u001b[38;5;28mself\u001b[39m\u001b[38;5;241m.\u001b[39m_pools[profile] \u001b[38;5;241m=\u001b[39m pool\n",
      "File \u001b[1;32m~\\anaconda3\\Lib\\site-packages\\py2neo\\client\\__init__.py:649\u001b[0m, in \u001b[0;36mConnectionPool.open\u001b[1;34m(cls, profile, user_agent, init_size, max_size, max_age, on_broken)\u001b[0m\n\u001b[0;32m    627\u001b[0m \u001b[38;5;250m\u001b[39m\u001b[38;5;124;03m\"\"\" Create a new connection pool, with an option to seed one\u001b[39;00m\n\u001b[0;32m    628\u001b[0m \u001b[38;5;124;03mor more initial connections.\u001b[39;00m\n\u001b[0;32m    629\u001b[0m \n\u001b[1;32m   (...)\u001b[0m\n\u001b[0;32m    646\u001b[0m \u001b[38;5;124;03m    scheme\u001b[39;00m\n\u001b[0;32m    647\u001b[0m \u001b[38;5;124;03m\"\"\"\u001b[39;00m\n\u001b[0;32m    648\u001b[0m pool \u001b[38;5;241m=\u001b[39m \u001b[38;5;28mcls\u001b[39m(profile, user_agent, max_size, max_age, on_broken)\n\u001b[1;32m--> 649\u001b[0m seeds \u001b[38;5;241m=\u001b[39m [pool\u001b[38;5;241m.\u001b[39macquire() \u001b[38;5;28;01mfor\u001b[39;00m _ \u001b[38;5;129;01min\u001b[39;00m \u001b[38;5;28mrange\u001b[39m(init_size \u001b[38;5;129;01mor\u001b[39;00m \u001b[38;5;28mcls\u001b[39m\u001b[38;5;241m.\u001b[39mdefault_init_size)]\n\u001b[0;32m    650\u001b[0m \u001b[38;5;28;01mfor\u001b[39;00m seed \u001b[38;5;129;01min\u001b[39;00m seeds:\n\u001b[0;32m    651\u001b[0m     seed\u001b[38;5;241m.\u001b[39mrelease()\n",
      "File \u001b[1;32m~\\anaconda3\\Lib\\site-packages\\py2neo\\client\\__init__.py:649\u001b[0m, in \u001b[0;36m<listcomp>\u001b[1;34m(.0)\u001b[0m\n\u001b[0;32m    627\u001b[0m \u001b[38;5;250m\u001b[39m\u001b[38;5;124;03m\"\"\" Create a new connection pool, with an option to seed one\u001b[39;00m\n\u001b[0;32m    628\u001b[0m \u001b[38;5;124;03mor more initial connections.\u001b[39;00m\n\u001b[0;32m    629\u001b[0m \n\u001b[1;32m   (...)\u001b[0m\n\u001b[0;32m    646\u001b[0m \u001b[38;5;124;03m    scheme\u001b[39;00m\n\u001b[0;32m    647\u001b[0m \u001b[38;5;124;03m\"\"\"\u001b[39;00m\n\u001b[0;32m    648\u001b[0m pool \u001b[38;5;241m=\u001b[39m \u001b[38;5;28mcls\u001b[39m(profile, user_agent, max_size, max_age, on_broken)\n\u001b[1;32m--> 649\u001b[0m seeds \u001b[38;5;241m=\u001b[39m [pool\u001b[38;5;241m.\u001b[39macquire() \u001b[38;5;28;01mfor\u001b[39;00m _ \u001b[38;5;129;01min\u001b[39;00m \u001b[38;5;28mrange\u001b[39m(init_size \u001b[38;5;129;01mor\u001b[39;00m \u001b[38;5;28mcls\u001b[39m\u001b[38;5;241m.\u001b[39mdefault_init_size)]\n\u001b[0;32m    650\u001b[0m \u001b[38;5;28;01mfor\u001b[39;00m seed \u001b[38;5;129;01min\u001b[39;00m seeds:\n\u001b[0;32m    651\u001b[0m     seed\u001b[38;5;241m.\u001b[39mrelease()\n",
      "File \u001b[1;32m~\\anaconda3\\Lib\\site-packages\\py2neo\\client\\__init__.py:813\u001b[0m, in \u001b[0;36mConnectionPool.acquire\u001b[1;34m(self, force_reset, can_overfill)\u001b[0m\n\u001b[0;32m    807\u001b[0m \u001b[38;5;28;01mexcept\u001b[39;00m \u001b[38;5;167;01mIndexError\u001b[39;00m:\n\u001b[0;32m    808\u001b[0m     \u001b[38;5;28;01mif\u001b[39;00m \u001b[38;5;28mself\u001b[39m\u001b[38;5;241m.\u001b[39m_has_capacity() \u001b[38;5;129;01mor\u001b[39;00m can_overfill:\n\u001b[0;32m    809\u001b[0m         \u001b[38;5;66;03m# Plan B: if the pool isn't full, open\u001b[39;00m\n\u001b[0;32m    810\u001b[0m         \u001b[38;5;66;03m# a new connection. This may raise a\u001b[39;00m\n\u001b[0;32m    811\u001b[0m         \u001b[38;5;66;03m# ConnectionUnavailable exception, which\u001b[39;00m\n\u001b[0;32m    812\u001b[0m         \u001b[38;5;66;03m# should bubble up to the caller.\u001b[39;00m\n\u001b[1;32m--> 813\u001b[0m         cx \u001b[38;5;241m=\u001b[39m \u001b[38;5;28mself\u001b[39m\u001b[38;5;241m.\u001b[39m_connect()\n\u001b[0;32m    814\u001b[0m         \u001b[38;5;28;01mif\u001b[39;00m cx\u001b[38;5;241m.\u001b[39msupports_multi():\n\u001b[0;32m    815\u001b[0m             \u001b[38;5;28mself\u001b[39m\u001b[38;5;241m.\u001b[39m_supports_multi \u001b[38;5;241m=\u001b[39m \u001b[38;5;28;01mTrue\u001b[39;00m\n",
      "File \u001b[1;32m~\\anaconda3\\Lib\\site-packages\\py2neo\\client\\__init__.py:764\u001b[0m, in \u001b[0;36mConnectionPool._connect\u001b[1;34m(self)\u001b[0m\n\u001b[0;32m    761\u001b[0m \u001b[38;5;28;01mdef\u001b[39;00m \u001b[38;5;21m_connect\u001b[39m(\u001b[38;5;28mself\u001b[39m):\n\u001b[0;32m    762\u001b[0m \u001b[38;5;250m    \u001b[39m\u001b[38;5;124;03m\"\"\" Open and return a new connection.\u001b[39;00m\n\u001b[0;32m    763\u001b[0m \u001b[38;5;124;03m    \"\"\"\u001b[39;00m\n\u001b[1;32m--> 764\u001b[0m     cx \u001b[38;5;241m=\u001b[39m Connection\u001b[38;5;241m.\u001b[39mopen(\u001b[38;5;28mself\u001b[39m\u001b[38;5;241m.\u001b[39mprofile, user_agent\u001b[38;5;241m=\u001b[39m\u001b[38;5;28mself\u001b[39m\u001b[38;5;241m.\u001b[39muser_agent,\n\u001b[0;32m    765\u001b[0m                          on_release\u001b[38;5;241m=\u001b[39m\u001b[38;5;28;01mlambda\u001b[39;00m c: \u001b[38;5;28mself\u001b[39m\u001b[38;5;241m.\u001b[39mrelease(c),\n\u001b[0;32m    766\u001b[0m                          on_broken\u001b[38;5;241m=\u001b[39m\u001b[38;5;28;01mlambda\u001b[39;00m msg: \u001b[38;5;28mself\u001b[39m\u001b[38;5;241m.\u001b[39m__on_broken(msg))\n\u001b[0;32m    767\u001b[0m     \u001b[38;5;28mself\u001b[39m\u001b[38;5;241m.\u001b[39m_server_agent \u001b[38;5;241m=\u001b[39m cx\u001b[38;5;241m.\u001b[39mserver_agent\n\u001b[0;32m    768\u001b[0m     \u001b[38;5;28;01mreturn\u001b[39;00m cx\n",
      "File \u001b[1;32m~\\anaconda3\\Lib\\site-packages\\py2neo\\client\\__init__.py:174\u001b[0m, in \u001b[0;36mConnection.open\u001b[1;34m(cls, profile, user_agent, on_release, on_broken)\u001b[0m\n\u001b[0;32m    172\u001b[0m \u001b[38;5;28;01mif\u001b[39;00m profile\u001b[38;5;241m.\u001b[39mprotocol \u001b[38;5;241m==\u001b[39m \u001b[38;5;124m\"\u001b[39m\u001b[38;5;124mbolt\u001b[39m\u001b[38;5;124m\"\u001b[39m:\n\u001b[0;32m    173\u001b[0m     \u001b[38;5;28;01mfrom\u001b[39;00m \u001b[38;5;21;01mpy2neo\u001b[39;00m\u001b[38;5;21;01m.\u001b[39;00m\u001b[38;5;21;01mclient\u001b[39;00m\u001b[38;5;21;01m.\u001b[39;00m\u001b[38;5;21;01mbolt\u001b[39;00m \u001b[38;5;28;01mimport\u001b[39;00m Bolt\n\u001b[1;32m--> 174\u001b[0m     \u001b[38;5;28;01mreturn\u001b[39;00m Bolt\u001b[38;5;241m.\u001b[39mopen(profile, user_agent\u001b[38;5;241m=\u001b[39muser_agent,\n\u001b[0;32m    175\u001b[0m                      on_release\u001b[38;5;241m=\u001b[39mon_release, on_broken\u001b[38;5;241m=\u001b[39mon_broken)\n\u001b[0;32m    176\u001b[0m \u001b[38;5;28;01melif\u001b[39;00m profile\u001b[38;5;241m.\u001b[39mprotocol \u001b[38;5;241m==\u001b[39m \u001b[38;5;124m\"\u001b[39m\u001b[38;5;124mhttp\u001b[39m\u001b[38;5;124m\"\u001b[39m:\n\u001b[0;32m    177\u001b[0m     \u001b[38;5;28;01mfrom\u001b[39;00m \u001b[38;5;21;01mpy2neo\u001b[39;00m\u001b[38;5;21;01m.\u001b[39;00m\u001b[38;5;21;01mclient\u001b[39;00m\u001b[38;5;21;01m.\u001b[39;00m\u001b[38;5;21;01mhttp\u001b[39;00m \u001b[38;5;28;01mimport\u001b[39;00m HTTP\n",
      "File \u001b[1;32m~\\anaconda3\\Lib\\site-packages\\py2neo\\client\\bolt.py:361\u001b[0m, in \u001b[0;36mBolt.open\u001b[1;34m(cls, profile, user_agent, on_release, on_broken)\u001b[0m\n\u001b[0;32m    359\u001b[0m         \u001b[38;5;28;01mraise\u001b[39;00m \u001b[38;5;167;01mTypeError\u001b[39;00m(\u001b[38;5;124m\"\u001b[39m\u001b[38;5;124mUnable to agree supported protocol version\u001b[39m\u001b[38;5;124m\"\u001b[39m)\n\u001b[0;32m    360\u001b[0m     bolt \u001b[38;5;241m=\u001b[39m subclass(wire, profile, on_release\u001b[38;5;241m=\u001b[39mon_release)\n\u001b[1;32m--> 361\u001b[0m     bolt\u001b[38;5;241m.\u001b[39m_hello(user_agent \u001b[38;5;129;01mor\u001b[39;00m bolt_user_agent())\n\u001b[0;32m    362\u001b[0m     \u001b[38;5;28;01mreturn\u001b[39;00m bolt\n\u001b[0;32m    363\u001b[0m \u001b[38;5;28;01mexcept\u001b[39;00m (\u001b[38;5;167;01mTypeError\u001b[39;00m, WireError) \u001b[38;5;28;01mas\u001b[39;00m error:\n",
      "File \u001b[1;32m~\\anaconda3\\Lib\\site-packages\\py2neo\\client\\bolt.py:867\u001b[0m, in \u001b[0;36mBolt3._hello\u001b[1;34m(self, user_agent)\u001b[0m\n\u001b[0;32m    865\u001b[0m \u001b[38;5;28mself\u001b[39m\u001b[38;5;241m.\u001b[39msend()\n\u001b[0;32m    866\u001b[0m \u001b[38;5;28mself\u001b[39m\u001b[38;5;241m.\u001b[39m_fetch()\n\u001b[1;32m--> 867\u001b[0m \u001b[38;5;28mself\u001b[39m\u001b[38;5;241m.\u001b[39m_audit(response)\n\u001b[0;32m    868\u001b[0m \u001b[38;5;28mself\u001b[39m\u001b[38;5;241m.\u001b[39mserver_agent \u001b[38;5;241m=\u001b[39m response\u001b[38;5;241m.\u001b[39mmetadata\u001b[38;5;241m.\u001b[39mget(\u001b[38;5;124m\"\u001b[39m\u001b[38;5;124mserver\u001b[39m\u001b[38;5;124m\"\u001b[39m)\n\u001b[0;32m    869\u001b[0m \u001b[38;5;28mself\u001b[39m\u001b[38;5;241m.\u001b[39mconnection_id \u001b[38;5;241m=\u001b[39m response\u001b[38;5;241m.\u001b[39mmetadata\u001b[38;5;241m.\u001b[39mget(\u001b[38;5;124m\"\u001b[39m\u001b[38;5;124mconnection_id\u001b[39m\u001b[38;5;124m\"\u001b[39m)\n",
      "File \u001b[1;32m~\\anaconda3\\Lib\\site-packages\\py2neo\\client\\bolt.py:812\u001b[0m, in \u001b[0;36mBolt1._audit\u001b[1;34m(self, task)\u001b[0m\n\u001b[0;32m    810\u001b[0m     task\u001b[38;5;241m.\u001b[39maudit()\n\u001b[0;32m    811\u001b[0m \u001b[38;5;28;01mexcept\u001b[39;00m Neo4jError:\n\u001b[1;32m--> 812\u001b[0m     \u001b[38;5;28mself\u001b[39m\u001b[38;5;241m.\u001b[39mreset(force\u001b[38;5;241m=\u001b[39m\u001b[38;5;28;01mTrue\u001b[39;00m)\n\u001b[0;32m    813\u001b[0m     \u001b[38;5;28;01mraise\u001b[39;00m\n\u001b[0;32m    814\u001b[0m \u001b[38;5;28;01mfinally\u001b[39;00m:\n\u001b[0;32m    815\u001b[0m     \u001b[38;5;66;03m# On 1 Apr 2021, this was moved here from _wait. Because\u001b[39;00m\n\u001b[0;32m    816\u001b[0m     \u001b[38;5;66;03m# _wait is generally called before _audit, the post-failure\u001b[39;00m\n\u001b[1;32m   (...)\u001b[0m\n\u001b[0;32m    821\u001b[0m     \u001b[38;5;66;03m# Putting it here ensures that release is only ever done\u001b[39;00m\n\u001b[0;32m    822\u001b[0m     \u001b[38;5;66;03m# after such a reset.\u001b[39;00m\n",
      "File \u001b[1;32m~\\anaconda3\\Lib\\site-packages\\py2neo\\client\\bolt.py:506\u001b[0m, in \u001b[0;36mBolt1.reset\u001b[1;34m(self, force)\u001b[0m\n\u001b[0;32m    505\u001b[0m \u001b[38;5;28;01mdef\u001b[39;00m \u001b[38;5;21mreset\u001b[39m(\u001b[38;5;28mself\u001b[39m, force\u001b[38;5;241m=\u001b[39m\u001b[38;5;28;01mFalse\u001b[39;00m):\n\u001b[1;32m--> 506\u001b[0m     \u001b[38;5;28mself\u001b[39m\u001b[38;5;241m.\u001b[39m_assert_open()\n\u001b[0;32m    507\u001b[0m     \u001b[38;5;28;01mif\u001b[39;00m force \u001b[38;5;129;01mor\u001b[39;00m \u001b[38;5;28mself\u001b[39m\u001b[38;5;241m.\u001b[39m_transaction:\n\u001b[0;32m    508\u001b[0m         response \u001b[38;5;241m=\u001b[39m \u001b[38;5;28mself\u001b[39m\u001b[38;5;241m.\u001b[39mappend_message(\u001b[38;5;241m0x0F\u001b[39m, vital\u001b[38;5;241m=\u001b[39m\u001b[38;5;28;01mTrue\u001b[39;00m)\n",
      "File \u001b[1;32m~\\anaconda3\\Lib\\site-packages\\py2neo\\client\\bolt.py:449\u001b[0m, in \u001b[0;36mBolt._assert_open\u001b[1;34m(self)\u001b[0m\n\u001b[0;32m    447\u001b[0m \u001b[38;5;28;01mdef\u001b[39;00m \u001b[38;5;21m_assert_open\u001b[39m(\u001b[38;5;28mself\u001b[39m):\n\u001b[0;32m    448\u001b[0m     \u001b[38;5;28;01mif\u001b[39;00m \u001b[38;5;28mself\u001b[39m\u001b[38;5;241m.\u001b[39mclosed:\n\u001b[1;32m--> 449\u001b[0m         \u001b[38;5;28;01mraise\u001b[39;00m ConnectionUnavailable(\u001b[38;5;124m\"\u001b[39m\u001b[38;5;124mConnection has been closed\u001b[39m\u001b[38;5;124m\"\u001b[39m)\n\u001b[0;32m    450\u001b[0m     \u001b[38;5;28;01mif\u001b[39;00m \u001b[38;5;28mself\u001b[39m\u001b[38;5;241m.\u001b[39mbroken:\n\u001b[0;32m    451\u001b[0m         \u001b[38;5;28;01mraise\u001b[39;00m ConnectionUnavailable(\u001b[38;5;124m\"\u001b[39m\u001b[38;5;124mConnection is broken\u001b[39m\u001b[38;5;124m\"\u001b[39m)\n",
      "\u001b[1;31mConnectionUnavailable\u001b[0m: Connection has been closed"
     ]
    }
   ],
   "source": [
    "!pip install py2neo\n"
   ]
  },
  {
   "cell_type": "code",
   "execution_count": 2,
   "id": "2956cdd5",
   "metadata": {},
   "outputs": [],
   "source": [
    "import py2neo"
   ]
  },
  {
   "cell_type": "code",
   "execution_count": 2,
   "id": "185f8b4a",
   "metadata": {},
   "outputs": [
    {
     "name": "stderr",
     "output_type": "stream",
     "text": [
      "1170it [00:00, 1606.78it/s]\n"
     ]
    }
   ],
   "source": [
    "import pandas as pd\n",
    "import tqdm\n",
    "import py2neo\n",
    "\n",
    "# pandas to read_csv , header = True\n",
    "characters = pd.read_csv(\"C:/Users/Georgiana/Downloads/characters.csv\")\n",
    "graph = py2neo.Graph(\"bolt://localhost:7687\", auth=(\"neo4j\", \"password_tuts\"), name=\"mcu3\")\n",
    "\n",
    "# CONSTRAINT if condition (here n.id_ is unique) not respected => error\n",
    "# If constraint already exists pass (IF NOT EXISTS probably works too)\n",
    "try:\n",
    "    graph.run(\"CREATE CONSTRAINT ON (n:Superhero) ASSERT n.id_ IS UNIQUE\")\n",
    "except:\n",
    "    print(\"Constraint already exists\")\n",
    "\n",
    "# Init the list that will contains dicts for each node\n",
    "transaction_list = []\n",
    "\n",
    "# iterrows = line by line iterators of the df row[0] = id row[1] = the variables in columns\n",
    "for row in tqdm.tqdm(characters.iterrows()):\n",
    "    id_ = row[1][\"characterID\"]\n",
    "    name = row[1][\"name\"]\n",
    "    transaction_list.append({\"id_\":id_,\"name\":name})\n",
    "    # Commit when list = 1000, vary it depending of the case\n",
    "    if len(transaction_list) == 1000:\n",
    "        # UNWIND = split the list given to it (here $json because json=transaction_list)\n",
    "        # For each dict do the following query CREATE (n:Superhero) SET n = data\n",
    "        transaction = \"UNWIND $json as data CREATE (n:Superhero) SET n = data\"\n",
    "        graph.run(transaction, json=transaction_list)\n",
    "        transaction_list = []\n",
    "\n",
    "# Some observation left (e.g 7700 node, will commit every 100. so 700 left)\n",
    "graph.run(transaction, json=transaction_list)\n",
    "\n",
    "pass"
   ]
  },
  {
   "cell_type": "code",
   "execution_count": 3,
   "id": "08770b7f",
   "metadata": {},
   "outputs": [
    {
     "name": "stderr",
     "output_type": "stream",
     "text": [
      "611it [00:00, 6639.79it/s]\n"
     ]
    }
   ],
   "source": [
    "import pandas as pd\n",
    "import py2neo\n",
    "\n",
    "stats = pd.read_csv(\"C:/Users/Georgiana/Downloads/characters_stats.csv\")\n",
    "graph = py2neo.Graph(\"bolt://localhost:7687\", auth=(\"neo4j\", \"password_tuts\"), name=\"mcu3\")\n",
    "\n",
    "\n",
    "# OPTIONAL MATCH =>  search for the pattern described in it, while using nulls for missing parts of the pattern.\n",
    "transaction = \"\"\"UNWIND $json as data\n",
    "OPTIONAL MATCH (a:Superhero {name:data.Name})\n",
    "SET a += {Alignement:data.Alignement,Intelligence:data.Intelligence,Strength:data.Strength,Speed:data.Speed,Durability:data.Durability,\n",
    "         Power:data.Power,Combat:data.Combat,Total:data.Total} \n",
    "\"\"\"\n",
    "\n",
    "transaction_list = []\n",
    "\n",
    "iteration = 0\n",
    "for row in tqdm.tqdm(stats.iterrows()):\n",
    "    transaction_list.append(dict(row[1]))\n",
    "    iteration += 1\n",
    "    if iteration % 1000 == 0:\n",
    "        graph.run(transaction, json=transaction_list)\n",
    "        transaction_list = []\n",
    "        \n",
    "graph.run(transaction, json=transaction_list)\n",
    "\n",
    "pass"
   ]
  },
  {
   "cell_type": "code",
   "execution_count": 4,
   "id": "8a01f680",
   "metadata": {},
   "outputs": [
    {
     "name": "stderr",
     "output_type": "stream",
     "text": [
      "100%|██████████████████████████████████████████████████████████████████████████| 22250/22250 [00:17<00:00, 1280.99it/s]\n"
     ]
    }
   ],
   "source": [
    "import pandas as pd\n",
    "import tqdm\n",
    "import py2neo\n",
    "import itertools\n",
    "\n",
    "graph = py2neo.Graph(\"bolt://localhost:7687\", auth=(\"neo4j\", \"password_tuts\"), name=\"mcu3\")\n",
    "\n",
    "characters2comics = pd.read_csv(\"C:/Users/Georgiana/Downloads/charactersToComics.csv\")\n",
    "characters2comics = characters2comics.drop_duplicates()\n",
    "transaction_list = []\n",
    "\n",
    "# MERGE = if pattern does not exists ON CREATE\n",
    "# If pattern exists do ON MATCH\n",
    "\n",
    "\n",
    "\n",
    "transaction = \"\"\"UNWIND $json as data\n",
    "MATCH (a:Superhero),(b:Superhero)\n",
    "WHERE a.id_ = data.id_1 AND b.id_ = data.id_2\n",
    "MERGE (a)-[r:RELATION]->(b)\n",
    "ON CREATE\n",
    "    SET r.n_collab = 1\n",
    "ON MATCH\n",
    "    SET r.n_collab = r.n_collab + 1\n",
    "\"\"\"\n",
    "\n",
    "it = 0   \n",
    "for comic in tqdm.tqdm(characters2comics.groupby([\"comicID\"])):\n",
    "    related_ids = comic[1][\"characterID\"]\n",
    "    for combi in list(itertools.combinations(related_ids, 2)):\n",
    "        sh1 = combi[0]\n",
    "        sh2 = combi[1]\n",
    "        transaction_list.append({\"id_1\":sh1,\"id_2\":sh2})\n",
    "        it +=1\n",
    "        if it % 1000 == 0:\n",
    "            graph.run(transaction, json=transaction_list)\n",
    "            transaction_list = []\n",
    "\n",
    "graph.run(transaction, json=transaction_list)\n",
    "pass"
   ]
  },
  {
   "cell_type": "code",
   "execution_count": 5,
   "id": "5304a55d",
   "metadata": {},
   "outputs": [
    {
     "name": "stdout",
     "output_type": "stream",
     "text": [
      "0    {'n_collab': 68}\n",
      "Name: r, dtype: object 0    {'name': 'Pepper Potts', 'id_': 1009494}\n",
      "Name: a, dtype: object 0    {'Speed': 58, 'Intelligence': 100, 'id_': 1009...\n",
      "Name: b, dtype: object\n"
     ]
    }
   ],
   "source": [
    "import py2neo\n",
    "\n",
    "graph = py2neo.Graph(\"bolt://localhost:7687\", auth=(\"neo4j\", \"password_tuts\"), name=\"mcu3\")\n",
    "\n",
    "query = \"\"\"MATCH (a:Superhero{name:'Pepper Potts'})-[r:RELATION]-(b:Superhero{name:'Iron Man'}) RETURN r,a,b\"\"\"\n",
    "data = graph.run(query).to_data_frame()\n",
    "print(data[\"r\"],data[\"a\"],data[\"b\"])"
   ]
  },
  {
   "cell_type": "markdown",
   "id": "1a52ccb7",
   "metadata": {},
   "source": [
    "### Exercises\n",
    "\n",
    "### CRUD operations:\n",
    "\n",
    "\n",
    "**1**: You will continue to work on the MCU network for a while. Who are the 10 fastest in the MCU ? Are they related to each other ?\n",
    "\n",
    "**2**: How many have collaborated atleast more than 10 times with another superhero?\n",
    "\n",
    "**3**: Did the weakest of the MCU collaborated with the strongest ?\n",
    "\n",
    "**4**: Give a stats that interests you !\n",
    "\n",
    "**5**: Create a new db called \"master\". Create a graph from the M1 class with name and random age between 20 and 30, Group of 3 that collab (undirected relation).\n",
    "\n",
    "**6**: Get the age for people YOU collaborate with.\n",
    "\n",
    "**7**: Get nodes with age > 25.\n"
   ]
  },
  {
   "cell_type": "markdown",
   "id": "b680177c",
   "metadata": {},
   "source": [
    "### 1: You will continue to work on the MCU network for a while. Who are the 10 fastest in the MCU ? Are they related to each other ?"
   ]
  },
  {
   "cell_type": "code",
   "execution_count": 8,
   "id": "42903d6e",
   "metadata": {},
   "outputs": [
    {
     "data": {
      "text/plain": [
       "[Node('Superhero', Combat=56, Durability=84, Intelligence=75, Power=100, Speed=100, Strength=67, Total=482, id_=1009184, name='Black Bolt'),\n",
       " Node('Superhero', Combat=85, Durability=110, Intelligence=88, Power=100, Speed=100, Strength=85, Total=568, id_=1010764, name='Stardust'),\n",
       " Node('Superhero', Combat=56, Durability=60, Intelligence=63, Power=57, Speed=100, Strength=28, Total=364, id_=1009524, name='Quicksilver'),\n",
       " Node('Superhero', Combat=25, Durability=100, Intelligence=38, Power=100, Speed=100, Strength=60, Total=423, id_=1009477, name='Nova'),\n",
       " Node('Superhero', Combat=85, Durability=100, Intelligence=69, Power=100, Speed=92, Strength=100, Total=546, id_=1009664, name='Thor'),\n",
       " Node('Superhero', Combat=32, Durability=101, Intelligence=63, Power=100, Speed=84, Strength=100, Total=480, id_=1009592, name='Silver Surfer'),\n",
       " Node('Superhero', Combat=70, Durability=100, Intelligence=100, Power=100, Speed=83, Strength=100, Total=553, id_=1009312, name='Galactus'),\n",
       " Node('Superhero', Combat=80, Durability=100, Intelligence=88, Power=100, Speed=83, Strength=95, Total=546, id_=1009280, name='Dormammu'),\n",
       " Node('Superhero', Combat=28, Durability=99, Intelligence=88, Power=71, Speed=83, Strength=80, Total=449, id_=1011060, name='Ego'),\n",
       " Node('Superhero', Combat=70, Durability=56, Intelligence=50, Power=70, Speed=83, Strength=18, Total=347, id_=1009476, name='Northstar')]"
      ]
     },
     "execution_count": 8,
     "metadata": {},
     "output_type": "execute_result"
    }
   ],
   "source": [
    "\n",
    "import py2neo\n",
    "graph = py2neo.Graph(\"bolt://localhost:7687\", auth=(\"neo4j\", \"password_tuts\"), name=\"mcu3\")\n",
    "query=\"\"\" MATCH (a:Superhero)\n",
    "WHERE exists(a.Speed)\n",
    "RETURN a\n",
    "ORDER BY a.Speed DESC\n",
    "LIMIT 10\n",
    "\"\"\"\n",
    "data=graph.run(query).to_data_frame()\n",
    "list(data[\"a\"])"
   ]
  },
  {
   "cell_type": "markdown",
   "id": "57d1b6c9",
   "metadata": {},
   "source": [
    "### 2: How many have collaborated atleast more than 10 times with another superhero?"
   ]
  },
  {
   "cell_type": "code",
   "execution_count": 4,
   "id": "5465e756",
   "metadata": {},
   "outputs": [
    {
     "name": "stdout",
     "output_type": "stream",
     "text": [
      "Le nombre de superhéros qui ont collaboré plus de 10 fois avec d'autres: 528\n"
     ]
    }
   ],
   "source": [
    "\n",
    "graph = py2neo.Graph(\"bolt://localhost:7687\", auth=(\"neo4j\", \"password_tuts\"), name=\"mcu3\")\n",
    "query = \"\"\"\n",
    "MATCH (a:Superhero)-[r:RELATION]-(b:Superhero)\n",
    "WHERE r.n_collab > 10\n",
    "RETURN COUNT(DISTINCT a) AS collaborations\n",
    "LIMIT 10\n",
    "\"\"\"\n",
    "\n",
    "# Exécution de la requête et récupération des résultats\n",
    "data = graph.run(query).to_data_frame()\n",
    "\n",
    "# Récupération du nombre de collaborations à partir des résultats\n",
    "collabs = list(data[\"collaborations\"])\n",
    "\n",
    "# Affichage du résultat\n",
    "print(\"Le nombre de superhéros qui ont collaboré plus de 10 fois avec d'autres:\", collabs[0])"
   ]
  },
  {
   "cell_type": "markdown",
   "id": "0ea42492",
   "metadata": {},
   "source": [
    "### 3:  Did the weakest of the MCU collaborated with the strongest ?"
   ]
  },
  {
   "cell_type": "code",
   "execution_count": 7,
   "id": "16571b09",
   "metadata": {},
   "outputs": [
    {
     "name": "stdout",
     "output_type": "stream",
     "text": [
      "             Weakest   Strongest  CollabCount\n",
      "0   Lady Deathstrike        Hulk            1\n",
      "1   Lady Deathstrike        Thor            1\n",
      "2   Lady Deathstrike  Apocalypse            1\n",
      "3          Omega Red  Apocalypse            1\n",
      "4          Omega Red  Juggernaut            1\n",
      "..               ...         ...          ...\n",
      "91           Stacy X        Thor            1\n",
      "92           Stacy X  Wonder Man            1\n",
      "93           Stacy X    Hercules            1\n",
      "94           Stacy X  Juggernaut            1\n",
      "95              Beak  Juggernaut            1\n",
      "\n",
      "[96 rows x 3 columns]\n"
     ]
    }
   ],
   "source": [
    "\n",
    "query = \"\"\"\n",
    "MATCH( a:Superhero), (b:Superhero)\n",
    "WITH MIN(a.Strength) AS minStrength, MAX(a.Strength) AS maxStrength\n",
    "MATCH (a:Superhero {Strength:minStrength}), (b:Superhero{Strength:maxStrength})\n",
    "OPTIONAL MATCH (a)-[r:RELATION]-(b)\n",
    "WITH a.name AS Weakest, b.name AS Strongest, COUNT(r) AS CollabCount\n",
    "WHERE CollabCount=1\n",
    "RETURN Weakest, Strongest, CollabCount\n",
    "\"\"\"\n",
    "\n",
    "# Exécution de la requête et récupération des résultats\n",
    "data = graph.run(query).to_data_frame()\n",
    "\n",
    "# Affichage du résultat\n",
    "print(data)"
   ]
  },
  {
   "cell_type": "markdown",
   "id": "b4171cbd",
   "metadata": {},
   "source": [
    "### 4: Give a stats that interests you !\n",
    "### What are the top five most powerful superheroes?"
   ]
  },
  {
   "cell_type": "code",
   "execution_count": 8,
   "id": "de584ed5",
   "metadata": {},
   "outputs": [
    {
     "data": {
      "text/plain": [
       "[Node('Superhero', Combat=32, Durability=101, Intelligence=63, Power=100, Speed=84, Strength=100, Total=480, id_=1009592, name='Silver Surfer'),\n",
       " Node('Superhero', Combat=64, Durability=85, Intelligence=100, Power=100, Speed=58, Strength=85, Total=492, id_=1009368, name='Iron Man'),\n",
       " Node('Superhero', Combat=100, Durability=100, Intelligence=50, Power=100, Speed=30, Strength=15, Total=395, id_=1009268, name='Deadpool'),\n",
       " Node('Superhero', Combat=70, Durability=100, Intelligence=100, Power=100, Speed=83, Strength=100, Total=553, id_=1009312, name='Galactus'),\n",
       " Node('Superhero', Combat=70, Durability=100, Intelligence=100, Power=100, Speed=67, Strength=80, Total=517, id_=1009327, name='Jean Grey')]"
      ]
     },
     "execution_count": 8,
     "metadata": {},
     "output_type": "execute_result"
    }
   ],
   "source": [
    "\n",
    "query=\"\"\" MATCH (a:Superhero)\n",
    "WHERE exists(a.Power)\n",
    "RETURN a\n",
    "ORDER by a.Power DESC\n",
    "LIMIT 5\n",
    "\"\"\"\n",
    "data=graph.run(query).to_data_frame()\n",
    "list(data[\"a\"])\n"
   ]
  },
  {
   "cell_type": "markdown",
   "id": "1259fd5e",
   "metadata": {},
   "source": [
    "### 5: Create a new db called \"master\". Create a graph from the M1 class with name and random age between 20 and 30, Group of 3 that collab (undirected relation)."
   ]
  },
  {
   "cell_type": "code",
   "execution_count": 11,
   "id": "6a09b088",
   "metadata": {},
   "outputs": [],
   "source": [
    "import random\n",
    "from py2neo import Graph, Node, Relationship\n",
    "graph = py2neo.Graph(\"bolt://localhost:7687\", auth=(\"neo4j\", \"password_tuts\"), name=\"master\")\n",
    "\n",
    "\n",
    "# Noms des personnes\n",
    "person_names = [\n",
    "    \"Sacha\", \"Oumou\", \"Georgiana\", \"Valentin\", \"Benie\", \n",
    "    \"Huyiue\", \"Romain\", \"Adrien\", \"Werner\", \"Paul\", \n",
    "    \"Lath\", \"Carl\", \"Celestin\", \"Nathan\", \"Julien\"\n",
    "]\n",
    "\n",
    "# Fonction pour créer un nœud de la classe M1 avec un nom spécifique et un âge aléatoire\n",
    "def create_m1_node(name):\n",
    "    age = random.randint(20, 30)\n",
    "    return Node(\"M1\", name=name, age=age)\n",
    "\n",
    "# Création des nœuds de la classe M1 avec les noms spécifiques\n",
    "m1_nodes = [create_m1_node(name) for name in person_names]\n",
    "\n",
    "# Randomly shuffle the nodes\n",
    "random.shuffle(m1_nodes)\n",
    "\n",
    "# Create collaboration relationships for each person with three others\n",
    "for node in m1_nodes:\n",
    "    # Ensure there are at least 3 other nodes available to collaborate with\n",
    "    available_collaborators = [n for n in m1_nodes if n != node]\n",
    "    random.shuffle(available_collaborators)\n",
    "    collaborators = available_collaborators[:3]\n",
    "    for collaborator in collaborators:\n",
    "        # Ensure that the collaboration relationship is unidirectional\n",
    "        if not graph.exists(Relationship(collaborator, \"COLLABORATE_WITH\", node)):\n",
    "            rel = Relationship(node, \"COLLABORATE_WITH\", collaborator)\n",
    "            graph.create(rel)\n",
    "\n",
    "# Ajout des nœuds M1 au graphe\n",
    "for node in m1_nodes:\n",
    "    graph.create(node)"
   ]
  },
  {
   "cell_type": "markdown",
   "id": "11ccb343",
   "metadata": {},
   "source": [
    "### 6: Get the age for people YOU collaborate with."
   ]
  },
  {
   "cell_type": "code",
   "execution_count": 16,
   "id": "59876dab",
   "metadata": {},
   "outputs": [
    {
     "name": "stdout",
     "output_type": "stream",
     "text": [
      "Celestin: 28 years old\n",
      "Werner: 29 years old\n",
      "Huyiue: 25 years old\n"
     ]
    }
   ],
   "source": [
    "\n",
    "georgiana_name = \"Georgiana\"\n",
    "\n",
    "query = \"\"\"\n",
    "MATCH (g:M1 {name: $georgiana_name})-[:COLLABORATE_WITH]->(collaborator)\n",
    "RETURN collaborator.name AS collaborator_name, collaborator.age AS collaborator_age\n",
    "\"\"\"\n",
    "\n",
    "# Execute the query\n",
    "result = graph.run(query, georgiana_name=georgiana_name)\n",
    "\n",
    "# Retrieve and print the ages of people Georgiana collaborates with\n",
    "for record in result:\n",
    "    collaborator_name = record[\"collaborator_name\"]\n",
    "    collaborator_age = record[\"collaborator_age\"]\n",
    "    print(f\"{collaborator_name}: {collaborator_age} years old\")"
   ]
  },
  {
   "cell_type": "markdown",
   "id": "bf1eace7",
   "metadata": {},
   "source": [
    "### 7: Get nodes with age > 25."
   ]
  },
  {
   "cell_type": "code",
   "execution_count": 17,
   "id": "b8124e2b",
   "metadata": {},
   "outputs": [
    {
     "name": "stdout",
     "output_type": "stream",
     "text": [
      "Adrien: 28 years old\n",
      "Romain: 30 years old\n",
      "Nathan: 26 years old\n",
      "Werner: 29 years old\n",
      "Valentin: 29 years old\n",
      "Celestin: 28 years old\n",
      "Georgiana: 28 years old\n"
     ]
    }
   ],
   "source": [
    "query = \"\"\"\n",
    "MATCH (n:M1)\n",
    "WHERE n.age > 25\n",
    "RETURN n.name AS name, n.age AS age\n",
    "\"\"\"\n",
    "\n",
    "# Execute the query\n",
    "result = graph.run(query)\n",
    "\n",
    "# Retrieve and print the nodes with age > 25\n",
    "for record in result:\n",
    "    name = record[\"name\"]\n",
    "    age = record[\"age\"]\n",
    "    print(f\"{name}: {age} years old\")"
   ]
  },
  {
   "cell_type": "markdown",
   "id": "1d849b66",
   "metadata": {},
   "source": [
    "### Real world problem:\n",
    "8: Using the downloaded data in TODO 11 of chapter II, create a collaboration network between authors for papers after 2021 (same author if same name). Insert it in neo4j in a db called \"arxiv\".\n",
    "\n",
    "9: Get the density of degrees of the collaboration network\n",
    "\n",
    "10: Do a for loop for i in range(500) for each i remove nodes with a degree less than i."
   ]
  },
  {
   "cell_type": "markdown",
   "id": "6226711b",
   "metadata": {},
   "source": [
    "### 8: Using the downloaded data in TODO 11 of chapter II, create a collaboration network between authors for papers after 2021 (same author if same name). Insert it in neo4j in a db called \"arxiv\"."
   ]
  },
  {
   "cell_type": "code",
   "execution_count": 15,
   "id": "d66afe1f",
   "metadata": {},
   "outputs": [],
   "source": [
    "import requests\n",
    "import feedparser\n",
    "import tqdm\n",
    "import time\n",
    "import pymongo\n",
    "import csv\n",
    "from pymongo import MongoClient\n",
    "\n",
    "client = pymongo.MongoClient('localhost',27017)\n",
    "mydb = client[\"tutorial\"]\n",
    "collection = mydb[\"arxiv_api\"]\n",
    "arxivapi = collection.find()\n",
    "\n",
    "with open('arxivapi.csv', 'w', newline='', encoding='utf-8') as csvfile:\n",
    "    fieldnames = ['id', 'title', 'authors', 'published', 'published_parsed']\n",
    "    writer = csv.DictWriter(csvfile, fieldnames=fieldnames)\n",
    "    writer.writeheader()\n",
    "    for document in arxivapi:\n",
    "        writer.writerow({'id': document['id'], 'title': document['ttle'], 'authors': document['authors'], 'published': document['published'], 'published_parsed': document['published_parsed']})\n",
    "        "
   ]
  },
  {
   "cell_type": "code",
   "execution_count": 49,
   "id": "261c9553",
   "metadata": {},
   "outputs": [
    {
     "ename": "KeyboardInterrupt",
     "evalue": "",
     "output_type": "error",
     "traceback": [
      "\u001b[1;31m---------------------------------------------------------------------------\u001b[0m",
      "\u001b[1;31mKeyboardInterrupt\u001b[0m                         Traceback (most recent call last)",
      "Cell \u001b[1;32mIn[49], line 25\u001b[0m\n\u001b[0;32m     23\u001b[0m \u001b[38;5;28;01mfor\u001b[39;00m author_name \u001b[38;5;129;01min\u001b[39;00m author_names:\n\u001b[0;32m     24\u001b[0m     author_node \u001b[38;5;241m=\u001b[39m Node(\u001b[38;5;124m\"\u001b[39m\u001b[38;5;124mAuthor\u001b[39m\u001b[38;5;124m\"\u001b[39m, name\u001b[38;5;241m=\u001b[39mauthor_name)\n\u001b[1;32m---> 25\u001b[0m     graph\u001b[38;5;241m.\u001b[39mmerge(author_node, \u001b[38;5;124m\"\u001b[39m\u001b[38;5;124mAuthor\u001b[39m\u001b[38;5;124m\"\u001b[39m, \u001b[38;5;124m\"\u001b[39m\u001b[38;5;124mname\u001b[39m\u001b[38;5;124m\"\u001b[39m)\n\u001b[0;32m     27\u001b[0m \u001b[38;5;66;03m# Créer des liens de collaboration entre tous les auteurs de l'article\u001b[39;00m\n\u001b[0;32m     28\u001b[0m \u001b[38;5;28;01mfor\u001b[39;00m i \u001b[38;5;129;01min\u001b[39;00m \u001b[38;5;28mrange\u001b[39m(\u001b[38;5;28mlen\u001b[39m(author_names)):\n",
      "File \u001b[1;32m~\\anaconda3\\Lib\\site-packages\\py2neo\\database.py:678\u001b[0m, in \u001b[0;36mGraph.merge\u001b[1;34m(self, subgraph, label, *property_keys)\u001b[0m\n\u001b[0;32m    646\u001b[0m \u001b[38;5;28;01mdef\u001b[39;00m \u001b[38;5;21mmerge\u001b[39m(\u001b[38;5;28mself\u001b[39m, subgraph, label\u001b[38;5;241m=\u001b[39m\u001b[38;5;28;01mNone\u001b[39;00m, \u001b[38;5;241m*\u001b[39mproperty_keys):\n\u001b[0;32m    647\u001b[0m \u001b[38;5;250m    \u001b[39m\u001b[38;5;124;03m\"\"\" Run a :meth:`~py2neo.Transaction.merge` operation within an\u001b[39;00m\n\u001b[0;32m    648\u001b[0m \u001b[38;5;124;03m    auto-commit :class:`~py2neo.Transaction`.\u001b[39;00m\n\u001b[0;32m    649\u001b[0m \n\u001b[1;32m   (...)\u001b[0m\n\u001b[0;32m    676\u001b[0m \u001b[38;5;124;03m    :param property_keys: property keys on which to match any existing nodes\u001b[39;00m\n\u001b[0;32m    677\u001b[0m \u001b[38;5;124;03m    \"\"\"\u001b[39;00m\n\u001b[1;32m--> 678\u001b[0m     \u001b[38;5;28mself\u001b[39m\u001b[38;5;241m.\u001b[39mupdate(\u001b[38;5;28;01mlambda\u001b[39;00m tx: tx\u001b[38;5;241m.\u001b[39mmerge(subgraph, label, \u001b[38;5;241m*\u001b[39mproperty_keys))\n",
      "File \u001b[1;32m~\\anaconda3\\Lib\\site-packages\\py2neo\\database.py:445\u001b[0m, in \u001b[0;36mGraph.update\u001b[1;34m(self, cypher, parameters, timeout)\u001b[0m\n\u001b[0;32m    443\u001b[0m \u001b[38;5;28;01mif\u001b[39;00m \u001b[38;5;28mcallable\u001b[39m(cypher):\n\u001b[0;32m    444\u001b[0m     \u001b[38;5;28;01mif\u001b[39;00m parameters \u001b[38;5;129;01mis\u001b[39;00m \u001b[38;5;28;01mNone\u001b[39;00m:\n\u001b[1;32m--> 445\u001b[0m         \u001b[38;5;28mself\u001b[39m\u001b[38;5;241m.\u001b[39m_update(cypher, timeout\u001b[38;5;241m=\u001b[39mtimeout)\n\u001b[0;32m    446\u001b[0m     \u001b[38;5;28;01melif\u001b[39;00m (\u001b[38;5;28misinstance\u001b[39m(parameters, \u001b[38;5;28mtuple\u001b[39m) \u001b[38;5;129;01mand\u001b[39;00m \u001b[38;5;28mlen\u001b[39m(parameters) \u001b[38;5;241m==\u001b[39m \u001b[38;5;241m2\u001b[39m \u001b[38;5;129;01mand\u001b[39;00m\n\u001b[0;32m    447\u001b[0m             \u001b[38;5;28misinstance\u001b[39m(parameters[\u001b[38;5;241m0\u001b[39m], Sequence) \u001b[38;5;129;01mand\u001b[39;00m \u001b[38;5;28misinstance\u001b[39m(parameters[\u001b[38;5;241m1\u001b[39m], Mapping)):\n\u001b[0;32m    448\u001b[0m         \u001b[38;5;28mself\u001b[39m\u001b[38;5;241m.\u001b[39m_update(\u001b[38;5;28;01mlambda\u001b[39;00m tx: cypher(tx, \u001b[38;5;241m*\u001b[39mparameters[\u001b[38;5;241m0\u001b[39m], \u001b[38;5;241m*\u001b[39m\u001b[38;5;241m*\u001b[39mparameters[\u001b[38;5;241m1\u001b[39m]),\n\u001b[0;32m    449\u001b[0m                      timeout\u001b[38;5;241m=\u001b[39mtimeout)\n",
      "File \u001b[1;32m~\\anaconda3\\Lib\\site-packages\\py2neo\\database.py:470\u001b[0m, in \u001b[0;36mGraph._update\u001b[1;34m(self, f, timeout)\u001b[0m\n\u001b[0;32m    466\u001b[0m \u001b[38;5;28;01mtry\u001b[39;00m:\n\u001b[0;32m    467\u001b[0m     tx \u001b[38;5;241m=\u001b[39m \u001b[38;5;28mself\u001b[39m\u001b[38;5;241m.\u001b[39mbegin(\n\u001b[0;32m    468\u001b[0m                     \u001b[38;5;66;03m# after=after, metadata=metadata, timeout=timeout\u001b[39;00m\n\u001b[0;32m    469\u001b[0m                     )\n\u001b[1;32m--> 470\u001b[0m     value \u001b[38;5;241m=\u001b[39m f(tx)\n\u001b[0;32m    471\u001b[0m     \u001b[38;5;28;01mif\u001b[39;00m isgenerator(value):\n\u001b[0;32m    472\u001b[0m         _ \u001b[38;5;241m=\u001b[39m \u001b[38;5;28mlist\u001b[39m(value)     \u001b[38;5;66;03m# exhaust the generator\u001b[39;00m\n",
      "File \u001b[1;32m~\\anaconda3\\Lib\\site-packages\\py2neo\\database.py:678\u001b[0m, in \u001b[0;36mGraph.merge.<locals>.<lambda>\u001b[1;34m(tx)\u001b[0m\n\u001b[0;32m    646\u001b[0m \u001b[38;5;28;01mdef\u001b[39;00m \u001b[38;5;21mmerge\u001b[39m(\u001b[38;5;28mself\u001b[39m, subgraph, label\u001b[38;5;241m=\u001b[39m\u001b[38;5;28;01mNone\u001b[39;00m, \u001b[38;5;241m*\u001b[39mproperty_keys):\n\u001b[0;32m    647\u001b[0m \u001b[38;5;250m    \u001b[39m\u001b[38;5;124;03m\"\"\" Run a :meth:`~py2neo.Transaction.merge` operation within an\u001b[39;00m\n\u001b[0;32m    648\u001b[0m \u001b[38;5;124;03m    auto-commit :class:`~py2neo.Transaction`.\u001b[39;00m\n\u001b[0;32m    649\u001b[0m \n\u001b[1;32m   (...)\u001b[0m\n\u001b[0;32m    676\u001b[0m \u001b[38;5;124;03m    :param property_keys: property keys on which to match any existing nodes\u001b[39;00m\n\u001b[0;32m    677\u001b[0m \u001b[38;5;124;03m    \"\"\"\u001b[39;00m\n\u001b[1;32m--> 678\u001b[0m     \u001b[38;5;28mself\u001b[39m\u001b[38;5;241m.\u001b[39mupdate(\u001b[38;5;28;01mlambda\u001b[39;00m tx: tx\u001b[38;5;241m.\u001b[39mmerge(subgraph, label, \u001b[38;5;241m*\u001b[39mproperty_keys))\n",
      "File \u001b[1;32m~\\anaconda3\\Lib\\site-packages\\py2neo\\database.py:1132\u001b[0m, in \u001b[0;36mTransaction.merge\u001b[1;34m(self, subgraph, primary_label, primary_key)\u001b[0m\n\u001b[0;32m   1130\u001b[0m     \u001b[38;5;28;01mraise\u001b[39;00m \u001b[38;5;167;01mTypeError\u001b[39;00m(\u001b[38;5;124m\"\u001b[39m\u001b[38;5;124mNo method defined to merge object \u001b[39m\u001b[38;5;132;01m%r\u001b[39;00m\u001b[38;5;124m\"\u001b[39m \u001b[38;5;241m%\u001b[39m subgraph)\n\u001b[0;32m   1131\u001b[0m \u001b[38;5;28;01melse\u001b[39;00m:\n\u001b[1;32m-> 1132\u001b[0m     merge(\u001b[38;5;28mself\u001b[39m, primary_label, primary_key)\n",
      "File \u001b[1;32m~\\anaconda3\\Lib\\site-packages\\py2neo\\data.py:318\u001b[0m, in \u001b[0;36mSubgraph.__db_merge__\u001b[1;34m(self, tx, primary_label, primary_key)\u001b[0m\n\u001b[0;32m    316\u001b[0m pq \u001b[38;5;241m=\u001b[39m unwind_merge_nodes_query(\u001b[38;5;28mmap\u001b[39m(\u001b[38;5;28mdict\u001b[39m, nodes), (pl, pk), labels)\n\u001b[0;32m    317\u001b[0m pq \u001b[38;5;241m=\u001b[39m cypher_join(pq, \u001b[38;5;124m\"\u001b[39m\u001b[38;5;124mRETURN id(_)\u001b[39m\u001b[38;5;124m\"\u001b[39m)\n\u001b[1;32m--> 318\u001b[0m identities \u001b[38;5;241m=\u001b[39m [record[\u001b[38;5;241m0\u001b[39m] \u001b[38;5;28;01mfor\u001b[39;00m record \u001b[38;5;129;01min\u001b[39;00m tx\u001b[38;5;241m.\u001b[39mrun(\u001b[38;5;241m*\u001b[39mpq)]\n\u001b[0;32m    319\u001b[0m \u001b[38;5;28;01mif\u001b[39;00m \u001b[38;5;28mlen\u001b[39m(identities) \u001b[38;5;241m>\u001b[39m \u001b[38;5;28mlen\u001b[39m(nodes):\n\u001b[0;32m    320\u001b[0m     \u001b[38;5;28;01mraise\u001b[39;00m UniquenessError(\u001b[38;5;124m\"\u001b[39m\u001b[38;5;124mFound \u001b[39m\u001b[38;5;132;01m%d\u001b[39;00m\u001b[38;5;124m matching nodes for primary label \u001b[39m\u001b[38;5;132;01m%r\u001b[39;00m\u001b[38;5;124m and primary \u001b[39m\u001b[38;5;124m\"\u001b[39m\n\u001b[0;32m    321\u001b[0m                           \u001b[38;5;124m\"\u001b[39m\u001b[38;5;124mkey \u001b[39m\u001b[38;5;132;01m%r\u001b[39;00m\u001b[38;5;124m with labels \u001b[39m\u001b[38;5;132;01m%r\u001b[39;00m\u001b[38;5;124m but merging requires no more than \u001b[39m\u001b[38;5;124m\"\u001b[39m\n\u001b[0;32m    322\u001b[0m                           \u001b[38;5;124m\"\u001b[39m\u001b[38;5;124mone\u001b[39m\u001b[38;5;124m\"\u001b[39m \u001b[38;5;241m%\u001b[39m (\u001b[38;5;28mlen\u001b[39m(identities), pl, pk, \u001b[38;5;28mset\u001b[39m(labels)))\n",
      "File \u001b[1;32m~\\anaconda3\\Lib\\site-packages\\py2neo\\database.py:992\u001b[0m, in \u001b[0;36mTransaction.run\u001b[1;34m(self, cypher, parameters, **kwparameters)\u001b[0m\n\u001b[0;32m    988\u001b[0m     \u001b[38;5;28;01melse\u001b[39;00m:\n\u001b[0;32m    989\u001b[0m         result \u001b[38;5;241m=\u001b[39m \u001b[38;5;28mself\u001b[39m\u001b[38;5;241m.\u001b[39m_connector\u001b[38;5;241m.\u001b[39mauto_run(cypher, parameters,\n\u001b[0;32m    990\u001b[0m                                           graph_name\u001b[38;5;241m=\u001b[39m\u001b[38;5;28mself\u001b[39m\u001b[38;5;241m.\u001b[39mgraph\u001b[38;5;241m.\u001b[39mname,\n\u001b[0;32m    991\u001b[0m                                           readonly\u001b[38;5;241m=\u001b[39m\u001b[38;5;28mself\u001b[39m\u001b[38;5;241m.\u001b[39mreadonly)\n\u001b[1;32m--> 992\u001b[0m     \u001b[38;5;28mself\u001b[39m\u001b[38;5;241m.\u001b[39m_connector\u001b[38;5;241m.\u001b[39mpull(result, \u001b[38;5;241m-\u001b[39m\u001b[38;5;241m1\u001b[39m)\n\u001b[0;32m    993\u001b[0m     \u001b[38;5;28;01mreturn\u001b[39;00m Cursor(result, hydrant)\n\u001b[0;32m    994\u001b[0m \u001b[38;5;28;01mfinally\u001b[39;00m:\n",
      "File \u001b[1;32m~\\anaconda3\\Lib\\site-packages\\py2neo\\client\\__init__.py:1434\u001b[0m, in \u001b[0;36mConnector.pull\u001b[1;34m(self, result, n)\u001b[0m\n\u001b[0;32m   1432\u001b[0m cx \u001b[38;5;241m=\u001b[39m \u001b[38;5;28mself\u001b[39m\u001b[38;5;241m.\u001b[39m_reacquire(result\u001b[38;5;241m.\u001b[39mtransaction)\n\u001b[0;32m   1433\u001b[0m \u001b[38;5;28;01mtry\u001b[39;00m:\n\u001b[1;32m-> 1434\u001b[0m     cx\u001b[38;5;241m.\u001b[39mpull(result, n\u001b[38;5;241m=\u001b[39mn)\n\u001b[0;32m   1435\u001b[0m \u001b[38;5;28;01mexcept\u001b[39;00m (ConnectionUnavailable, ConnectionBroken):\n\u001b[0;32m   1436\u001b[0m     \u001b[38;5;28mself\u001b[39m\u001b[38;5;241m.\u001b[39mprune(cx\u001b[38;5;241m.\u001b[39mprofile)\n",
      "File \u001b[1;32m~\\anaconda3\\Lib\\site-packages\\py2neo\\client\\bolt.py:995\u001b[0m, in \u001b[0;36mBolt4x0.pull\u001b[1;34m(self, result, n, capacity)\u001b[0m\n\u001b[0;32m    993\u001b[0m result\u001b[38;5;241m.\u001b[39mappend(response, final\u001b[38;5;241m=\u001b[39m(n \u001b[38;5;241m==\u001b[39m \u001b[38;5;241m-\u001b[39m\u001b[38;5;241m1\u001b[39m))\n\u001b[0;32m    994\u001b[0m \u001b[38;5;28;01mtry\u001b[39;00m:\n\u001b[1;32m--> 995\u001b[0m     \u001b[38;5;28mself\u001b[39m\u001b[38;5;241m.\u001b[39m_sync(response)\n\u001b[0;32m    996\u001b[0m \u001b[38;5;28;01mexcept\u001b[39;00m BrokenWireError \u001b[38;5;28;01mas\u001b[39;00m error:\n\u001b[0;32m    997\u001b[0m     result\u001b[38;5;241m.\u001b[39mtransaction\u001b[38;5;241m.\u001b[39mmark_broken()\n",
      "File \u001b[1;32m~\\anaconda3\\Lib\\site-packages\\py2neo\\client\\bolt.py:799\u001b[0m, in \u001b[0;36mBolt1._sync\u001b[1;34m(self, *responses)\u001b[0m\n\u001b[0;32m    797\u001b[0m \u001b[38;5;28mself\u001b[39m\u001b[38;5;241m.\u001b[39msend()\n\u001b[0;32m    798\u001b[0m \u001b[38;5;28;01mfor\u001b[39;00m response \u001b[38;5;129;01min\u001b[39;00m responses:\n\u001b[1;32m--> 799\u001b[0m     \u001b[38;5;28mself\u001b[39m\u001b[38;5;241m.\u001b[39m_wait(response)\n",
      "File \u001b[1;32m~\\anaconda3\\Lib\\site-packages\\py2neo\\client\\bolt.py:794\u001b[0m, in \u001b[0;36mBolt1._wait\u001b[1;34m(self, response)\u001b[0m\n\u001b[0;32m    787\u001b[0m \u001b[38;5;250m\u001b[39m\u001b[38;5;124;03m\"\"\" Read all incoming responses up to and including a\u001b[39;00m\n\u001b[0;32m    788\u001b[0m \u001b[38;5;124;03mparticular response.\u001b[39;00m\n\u001b[0;32m    789\u001b[0m \n\u001b[0;32m    790\u001b[0m \u001b[38;5;124;03mThis method calls fetch, but does not raise an exception on\u001b[39;00m\n\u001b[0;32m    791\u001b[0m \u001b[38;5;124;03mFAILURE.\u001b[39;00m\n\u001b[0;32m    792\u001b[0m \u001b[38;5;124;03m\"\"\"\u001b[39;00m\n\u001b[0;32m    793\u001b[0m \u001b[38;5;28;01mwhile\u001b[39;00m \u001b[38;5;129;01mnot\u001b[39;00m response\u001b[38;5;241m.\u001b[39mfull() \u001b[38;5;129;01mand\u001b[39;00m \u001b[38;5;129;01mnot\u001b[39;00m response\u001b[38;5;241m.\u001b[39mdone():\n\u001b[1;32m--> 794\u001b[0m     \u001b[38;5;28mself\u001b[39m\u001b[38;5;241m.\u001b[39m_fetch()\n",
      "File \u001b[1;32m~\\anaconda3\\Lib\\site-packages\\py2neo\\client\\bolt.py:769\u001b[0m, in \u001b[0;36mBolt1._fetch\u001b[1;34m(self)\u001b[0m\n\u001b[0;32m    760\u001b[0m \u001b[38;5;28;01mdef\u001b[39;00m \u001b[38;5;21m_fetch\u001b[39m(\u001b[38;5;28mself\u001b[39m):\n\u001b[0;32m    761\u001b[0m \u001b[38;5;250m    \u001b[39m\u001b[38;5;124;03m\"\"\" Fetch and process the next incoming message.\u001b[39;00m\n\u001b[0;32m    762\u001b[0m \n\u001b[0;32m    763\u001b[0m \u001b[38;5;124;03m    This method does not raise an exception on receipt of a\u001b[39;00m\n\u001b[1;32m   (...)\u001b[0m\n\u001b[0;32m    767\u001b[0m \u001b[38;5;124;03m    failed state into an exception.\u001b[39;00m\n\u001b[0;32m    768\u001b[0m \u001b[38;5;124;03m    \"\"\"\u001b[39;00m\n\u001b[1;32m--> 769\u001b[0m     tag, fields \u001b[38;5;241m=\u001b[39m \u001b[38;5;28mself\u001b[39m\u001b[38;5;241m.\u001b[39mread_message()\n\u001b[0;32m    770\u001b[0m     \u001b[38;5;28;01mif\u001b[39;00m tag \u001b[38;5;241m==\u001b[39m \u001b[38;5;241m0x70\u001b[39m:\n\u001b[0;32m    771\u001b[0m         \u001b[38;5;28mself\u001b[39m\u001b[38;5;241m.\u001b[39m_responses\u001b[38;5;241m.\u001b[39mpopleft()\u001b[38;5;241m.\u001b[39mset_success(\u001b[38;5;241m*\u001b[39m\u001b[38;5;241m*\u001b[39mfields[\u001b[38;5;241m0\u001b[39m])\n",
      "File \u001b[1;32m~\\anaconda3\\Lib\\site-packages\\py2neo\\client\\bolt.py:696\u001b[0m, in \u001b[0;36mBolt1.read_message\u001b[1;34m(self)\u001b[0m\n\u001b[0;32m    695\u001b[0m \u001b[38;5;28;01mdef\u001b[39;00m \u001b[38;5;21mread_message\u001b[39m(\u001b[38;5;28mself\u001b[39m):\n\u001b[1;32m--> 696\u001b[0m     tag, fields \u001b[38;5;241m=\u001b[39m \u001b[38;5;28mself\u001b[39m\u001b[38;5;241m.\u001b[39m_reader\u001b[38;5;241m.\u001b[39mread_message()\n\u001b[0;32m    697\u001b[0m     \u001b[38;5;28;01mif\u001b[39;00m tag \u001b[38;5;241m==\u001b[39m \u001b[38;5;241m0x71\u001b[39m:\n\u001b[0;32m    698\u001b[0m         \u001b[38;5;66;03m# If a RECORD is received, check for more records\u001b[39;00m\n\u001b[0;32m    699\u001b[0m         \u001b[38;5;66;03m# in the buffer immediately following, and log and\u001b[39;00m\n\u001b[0;32m    700\u001b[0m         \u001b[38;5;66;03m# add them all at the same time\u001b[39;00m\n\u001b[0;32m    701\u001b[0m         \u001b[38;5;28;01mwhile\u001b[39;00m \u001b[38;5;28mself\u001b[39m\u001b[38;5;241m.\u001b[39m_reader\u001b[38;5;241m.\u001b[39mpeek_message() \u001b[38;5;241m==\u001b[39m \u001b[38;5;241m0x71\u001b[39m:\n",
      "File \u001b[1;32m~\\anaconda3\\Lib\\site-packages\\py2neo\\client\\bolt.py:156\u001b[0m, in \u001b[0;36mBoltMessageReader.read_message\u001b[1;34m(self)\u001b[0m\n\u001b[0;32m    154\u001b[0m \u001b[38;5;28;01mwhile\u001b[39;00m \u001b[38;5;28;01mTrue\u001b[39;00m:\n\u001b[0;32m    155\u001b[0m     \u001b[38;5;28;01mtry\u001b[39;00m:\n\u001b[1;32m--> 156\u001b[0m         hi, lo \u001b[38;5;241m=\u001b[39m \u001b[38;5;28mself\u001b[39m\u001b[38;5;241m.\u001b[39mwire\u001b[38;5;241m.\u001b[39mread(\u001b[38;5;241m2\u001b[39m)\n\u001b[0;32m    157\u001b[0m     \u001b[38;5;28;01mexcept\u001b[39;00m WireError \u001b[38;5;28;01mas\u001b[39;00m error:\n\u001b[0;32m    158\u001b[0m         raise_from(ConnectionBroken(\u001b[38;5;124m\"\u001b[39m\u001b[38;5;124mFailed to read message\u001b[39m\u001b[38;5;124m\"\u001b[39m), error)\n",
      "File \u001b[1;32m~\\anaconda3\\Lib\\site-packages\\py2neo\\wiring.py:117\u001b[0m, in \u001b[0;36mWire.read\u001b[1;34m(self, n)\u001b[0m\n\u001b[0;32m    115\u001b[0m requested \u001b[38;5;241m=\u001b[39m \u001b[38;5;28mmax\u001b[39m(required, \u001b[38;5;241m16384\u001b[39m)\n\u001b[0;32m    116\u001b[0m \u001b[38;5;28;01mtry\u001b[39;00m:\n\u001b[1;32m--> 117\u001b[0m     received \u001b[38;5;241m=\u001b[39m \u001b[38;5;28mself\u001b[39m\u001b[38;5;241m.\u001b[39m__socket\u001b[38;5;241m.\u001b[39mrecv(requested)\n\u001b[0;32m    118\u001b[0m \u001b[38;5;28;01mexcept\u001b[39;00m (\u001b[38;5;167;01mIOError\u001b[39;00m, \u001b[38;5;167;01mOSError\u001b[39;00m):\n\u001b[0;32m    119\u001b[0m     \u001b[38;5;28mself\u001b[39m\u001b[38;5;241m.\u001b[39m__mark_broken(\u001b[38;5;124m\"\u001b[39m\u001b[38;5;124mWire broken\u001b[39m\u001b[38;5;124m\"\u001b[39m)\n",
      "\u001b[1;31mKeyboardInterrupt\u001b[0m: "
     ]
    }
   ],
   "source": [
    "import py2neo\n",
    "from py2neo import ogm\n",
    "import numpy as np\n",
    "from py2neo import Graph, Node, Relationship\n",
    "import csv\n",
    "\n",
    "graph = py2neo.Graph(\"bolt://localhost:7687\", auth=(\"neo4j\", \"password_tuts\"), name=\"arxiv1\")\n",
    "csv_file = \"C:/Users/Georgiana/NoSql/arxivapi.csv\"\n",
    "\n",
    "with open(csv_file, newline='', encoding='utf-8') as csvfile:\n",
    "    reader = csv.DictReader(csvfile)\n",
    "    for row in reader:\n",
    "\n",
    "        published_year = row['published_parsed'][0]\n",
    "        \n",
    "        # Vérifier si l'article a été publié après 2021\n",
    "        if published_year > \"2021\":\n",
    "            # Extraire les auteurs de la colonne \"authors\"\n",
    "            authors = row['authors']\n",
    "            author_names = [author.strip().split(':')[1].strip() for author in authors.split(',') if 'name' in author]\n",
    "            \n",
    "            # Créer un nœud pour chaque auteur s'il n'existe pas déjà\n",
    "            for author_name in author_names:\n",
    "                author_node = Node(\"Author\", name=author_name)\n",
    "                graph.merge(author_node, \"Author\", \"name\")\n",
    "            \n",
    "            # Créer des liens de collaboration entre tous les auteurs de l'article\n",
    "            for i in range(len(author_names)):\n",
    "                for j in range(i + 1, len(author_names)):\n",
    "                    author1_node = graph.nodes.match(\"Author\", name=author_names[i]).first()\n",
    "                    author2_node = graph.nodes.match(\"Author\", name=author_names[j]).first()\n",
    "                    if author1_node and author2_node:\n",
    "                        collab_rel = Relationship(author1_node, \"COLLABORATE\", author2_node)\n",
    "                        graph.merge(collab_rel)"
   ]
  },
  {
   "cell_type": "markdown",
   "id": "caceaaa8",
   "metadata": {},
   "source": [
    "### 9: Get the density of degrees of the collaboration network"
   ]
  },
  {
   "cell_type": "code",
   "execution_count": 58,
   "id": "6f988249",
   "metadata": {},
   "outputs": [
    {
     "name": "stderr",
     "output_type": "stream",
     "text": [
      "C:\\Users\\Georgiana\\AppData\\Local\\Temp\\ipykernel_3996\\3684943852.py:17: UserWarning: \n",
      "\n",
      "`distplot` is a deprecated function and will be removed in seaborn v0.14.0.\n",
      "\n",
      "Please adapt your code to use either `displot` (a figure-level function with\n",
      "similar flexibility) or `kdeplot` (an axes-level function for kernel density plots).\n",
      "\n",
      "For a guide to updating your code to use the new functions, please see\n",
      "https://gist.github.com/mwaskom/de44147ed2974457ad6372750bbe5751\n",
      "\n",
      "  ax = sns.distplot(collaborations, hist=False)\n"
     ]
    },
    {
     "data": {
      "image/png": "[encoded data removed]",
      "text/plain": [
       "<Figure size 1000x600 with 1 Axes>"
      ]
     },
     "metadata": {},
     "output_type": "display_data"
    }
   ],
   "source": [
    "import seaborn as sns\n",
    "import matplotlib.pyplot as plt\n",
    "graph = py2neo.Graph(\"bolt://localhost:7687\", auth=(\"neo4j\", \"password_tuts\"), name=\"arxiv1\")\n",
    "query=\"\"\"\n",
    "MATCH (a:Author)-[:COLLABORATE]->(b:Author)\n",
    "RETURN a.name AS author, COUNT(b) AS collaboration_count\n",
    "\"\"\"\n",
    "\n",
    "# Exécution de la requête et récupération des résultats\n",
    "result = graph.run(query)\n",
    "\n",
    "# Extraction des collaborations par auteur\n",
    "collaborations = [record[\"collaboration_count\"] for record in result]\n",
    "\n",
    "# Tracé de la densité des collaborations\n",
    "plt.figure(figsize=(10, 6))\n",
    "ax = sns.distplot(collaborations, hist=False)\n",
    "ax.set_title(\"Density of Collaborations\")\n",
    "ax.set_xlabel(\"Collaboration Count\")\n",
    "ax.set_ylabel(\"Density\")\n",
    "plt.show()"
   ]
  },
  {
   "cell_type": "markdown",
   "id": "1e9a53cf",
   "metadata": {},
   "source": [
    "### 10: Do a for loop for i in range(500) for each i remove nodes with a degree less than i."
   ]
  },
  {
   "cell_type": "code",
   "execution_count": 62,
   "id": "4af84724",
   "metadata": {},
   "outputs": [],
   "source": [
    "for i in range(500):\n",
    "    # Construction de la requête Cypher pour supprimer les relations avec un degré inférieur à i\n",
    "    query = f\"\"\"\n",
    "    MATCH (a:Author)-[r:COLLABORATE]-()\n",
    "    WHERE size((a)-[:COLLABORATE]-()) < {i}\n",
    "    DELETE r\n",
    "    \"\"\"\n",
    "    graph.run(query)\n",
    "    \n",
    "    # Construction de la requête Cypher pour supprimer les nœuds avec un degré inférieur à i\n",
    "    query = f\"\"\"\n",
    "    MATCH (a:Author)\n",
    "    WHERE size((a)-[:COLLABORATE]-()) < {i}\n",
    "    DETACH DELETE a\n",
    "    \"\"\"\n",
    "    graph.run(query)"
   ]
  },
  {
   "cell_type": "markdown",
   "id": "3dea7718",
   "metadata": {},
   "source": [
    "### Real World application 3\n",
    "\n",
    "You will work again on [pubmed_last_100k.json](https://we.tl/t-6afLCDGRsg). The goal in this homework is to insert collaboration data in Neo4j and then study it using cypher queries. The following questions are meant to guide you through the process.\n",
    "\n",
    "1) Each paper has a list of author and affiliations. The first step is to create a node per author with a list of affiliation as attribute. If a name appears multiple times consider it as a single person. Create an edge between two authors if they are on the same paper. You can use any kind of operation to clean the data before inserting, you decide which preprocessing step is the most convenient.\n",
    "\n",
    "2) How many authors have more than 2 affiliations ?\n",
    "\n",
    "3) Create a density of node degrees. Do you observe a power scale law ? What does it mean ?\n",
    "\n",
    "4) Which country has seen the most international collaboration ?\n",
    "\n",
    "5) Who are the top 10 collaborators and what is their affiliation ?\n",
    "\n",
    "6) Sandbox exercise: think of a problematic and try to answer it."
   ]
  },
  {
   "cell_type": "markdown",
   "id": "767ad971",
   "metadata": {},
   "source": [
    "### 1: Each paper has a list of author and affiliations. The first step is to create a node per author with a list of affiliation as attribute. If a name appears multiple times consider it as a single person. Create an edge between two authors if they are on the same paper. You can use any kind of operation to clean the data before inserting, you decide which preprocessing step is the most convenient.\n"
   ]
  },
  {
   "cell_type": "code",
   "execution_count": 4,
   "id": "09af014a",
   "metadata": {},
   "outputs": [
    {
     "name": "stdout",
     "output_type": "stream",
     "text": [
      "[{'_id': {'$oid': '60c715b4c4b7559e04fd9d24'}, 'pmid': 30006494, 'title': 'Proton pump inhibitors and gastric cancer: association is not causation.', 'ISSN': '1468-3288', 'abstract': None, 'meshwords': 'Anti-Ulcer Agents \\nHelicobacter pylori \\nHumans \\nProton Pump Inhibitors \\nStomach Neoplasms ', 'meshsubwords': '', 'authors': \"name ml Moayyedi P, affil str Division of Gastroenterology and Farncombe Family Digestive Health Research Institute, McMaster University, Hamilton, Ontario, Canada.\\nname ml Veldhuyzen van Zanten SJO, affil str Division of Gastroenterology, University of Alberta, Edmonton, Alberta, Canada.\\nname ml Hookey L, affil str Division of Gastroenterology, Queen\\\\'s University, Kingston, Ontario, Canada.\\nname ml Armstrong D, affil str Division of Gastroenterology and Farncombe Family Digestive Health Research Institute, McMaster University, Hamilton, Ontario, Canada.\\nname ml Jones N, affil str Division of Gastroenterology, Hepatology, and Nutrition, The Hospital for Sick Children, Toronto, Ontario, Canada.; Department of Paediatrics, University of Toronto, Toronto, Ontario, Canada.; Department of Physiology, University of Toronto, Toronto, Ontario, Canada.\\nname ml Leontiadis GI, affil str Division of Gastroenterology and Farncombe Family Digestive Health Research Institute, McMaster University, Hamilton, Ontario, Canada.\", 'source': 'journal: \"Gut\" ', 'grants': None, 'date': 'year 2018, month 7, day 15, hour 6, minute 0', 'date_received': 'year 2019, month 6, day 9', 'date_accepted': 'year 2019, month 6, day 24', 'date_medline': 'year 2019, month 8, day 15, hour 6, minute 0', 'doi': '10.1136/gutjnl-2018-316958', 'unix': 1531605600, 'unix_received': 1560031200, 'unix_accepted': 1561327200, 'unix_medline': 1565820000, 'team_size': 6, 'share_aff_captured': 1, 'is_eu': 0, 'inter_collab': 0, 'is_coronavirus_lower': 0, 'nb_country': 1, 'country_list': 'Canada'}, {'_id': {'$oid': '60c71e99c4b7559e04007f05'}, 'pmid': 30198430, 'title': 'Aging and Proteins: What Does Proteostasis Have to Do with Age?', 'ISSN': '1875-5666', 'abstract': ' \"The world is aging and we must face the challenges that this brings. One of the reasons for the increasing aging of the world\\\\\\'s population is the increase in life expectancy and, since we live longer, it is of paramount importance to live well and to prevent age-associated diseases. In this way, it is crucial to improve knowledge of the aging process and of the mechanisms that contribute to it. Ideally it would be of great interest to have a panel of biomarkers of healthy aging that would allow an estimate of the biological age of an individual. One of the changes that greatly contribute to aging is the loss of protein homeostasis, also called proteostasis. To ensure the proper function of cells and to maintain cellular proteostasis, organisms have developed systems to control protein synthesis, folding and degradation. Loss or dysfunction of proteostasis is at the root of many well-studied human neurological diseases, such as Alzheimer\\\\\\'s disease and, more recently, it has been implicated in the aging process with some reports showing long-lived animals to have improved proteostasis. Growing evidence suggests a strong link between modifications in the quantity and/or activity of several players involved in proteostasis and longevity. In this review, we give an overview of the main characteristics of aging with focus on proteostasis. We present how changes in components of proteostasis, during aging, impact the lifespan of model organisms. We also briefly review the current state of aging biomarkers and discuss the potential of proteostasis network components as markers of healthy aging.\", ', 'meshwords': 'Aging\\nAnimals \\nHumans \\nModels\\nProteostasis', 'meshsubwords': 'physiology \\nphysiology ', 'authors': 'name ml Magalhaes S, affil str iBiMED - Institute of Biomedicine, Department of Medical Sciences, University of Aveiro, Aveiro, Portugal.; CICECO - Aveiro Institute of Materials, University of Aveiro, Aveiro, Portugal.\\nname ml Goodfellow BJ, affil str CICECO - Aveiro Institute of Materials, University of Aveiro, Aveiro, Portugal.\\nname ml Nunes A, affil str iBiMED - Institute of Biomedicine, Department of Medical Sciences, University of Aveiro, Aveiro, Portugal.', 'source': 'journal: \"Current molecular medicine\" ', 'grants': None, 'date': 'year 2018, month 9, day 11, hour 6, minute 0', 'date_received': 'year 2019, month 5, day 1', 'date_accepted': 'year 2018, month 9, day 4', 'date_medline': 'year 2019, month 10, day 1, hour 6, minute 0', 'doi': '10.2174/1566524018666180907162955', 'unix': 1536616800, 'unix_received': 1556661600, 'unix_accepted': 1536012000, 'unix_medline': 1569880800, 'team_size': 3, 'share_aff_captured': 1, 'is_eu': 1, 'inter_collab': 0, 'is_coronavirus_lower': 0, 'nb_country': 1, 'country_list': 'Portugal'}, {'_id': {'$oid': '60c727b2c4b7559e04032dc1'}, 'pmid': 30377196, 'title': 'The natural history of asymptomatic central venous catheter-related thrombosis in critically ill children.', 'ISSN': '1528-0020', 'abstract': ' \"Asymptomatic central venous catheter (CVC)-related thrombosis in children varies in incidence from 5% to 69%. The rate of acute and long-term complications, such as postthrombotic syndrome (PTS), from asymptomatic CVC-related thrombosis is unknown. This article reports the outcomes of a prospective study of 189 children in pediatric intensive care that aimed to determine the frequency of asymptomatic CVC-related thrombosis during hospital admission, and the incidence of residual CVC-related thrombosis and clinically significant PTS 2 years later. Risk factors associated with CVC-related thrombosis were also identified. This study is distinct from previous work as children identified to have asymptomatic CVC-related thrombosis were not treated (clinical team kept blinded) and the entire cohort was followed for 2 years to determine the natural history of asymptomatic thrombosis. Ultrasounds of 146 children determined a 21.9% incidence of acute CVC-related thrombosis. Two children were symptomatic. No radiological thrombosis extension or clinical embolization occurred in the 126 children assessed at follow-up. Using 2 recognized PTS scales, clinically significant PTS was reported in 2 children (1 symptomatic, 1 asymptomatic CVC-related thrombosis), however, neither had functional impairment. Cardiac arrest was a risk factor for CVC-related thrombosis during admission and femoral CVC placement was predictive of residual thrombosis 2 years later. This study challenges the notion that critically ill children with asymptomatic CVC-related thrombosis require anticoagulant treatment, as the results demonstrate that the incidence of acute or long-term complications is low. A larger confirmatory study of nontreatment of CVC-related thrombosis in critically ill children is justified.\", ', 'meshwords': 'Adolescent \\nCentral Venous Catheters\\nChild \\nChild\\nCritical Illness \\nFemale \\nFollow-Up Studies \\nHumans \\nIncidence \\nInfant \\nInfant\\nMale \\nPostthrombotic Syndrome\\nProspective Studies \\nUltrasonography ', 'meshsubwords': 'adverse effects \\ndiagnostic imaging \\nepidemiology \\nprevention & control ', 'authors': \"name ml Jones S, affil str Department of Paediatrics, The University of Melbourne, Melbourne, VIC, Australia.; Haematology Research Group, Murdoch Children\\\\'s Research Institute, Melbourne, VIC, Australia.; Department of Clinical Haematology, The Royal Children\\\\'s Hospital, Melbourne, VIC, Australia.; Department of Nursing, The University of Melbourne, Melbourne, VIC, Australia; and.\\nname ml Butt W, affil str Department of Paediatrics, The University of Melbourne, Melbourne, VIC, Australia.; Paediatric Intensive Care Unit.\\nname ml Monagle P, affil str Department of Paediatrics, The University of Melbourne, Melbourne, VIC, Australia.; Haematology Research Group, Murdoch Children\\\\'s Research Institute, Melbourne, VIC, Australia.; Department of Clinical Haematology, The Royal Children\\\\'s Hospital, Melbourne, VIC, Australia.\\nname ml Cain T, affil str Medical Imaging Department, and.\\nname ml Newall F, affil str Department of Paediatrics, The University of Melbourne, Melbourne, VIC, Australia.; Haematology Research Group, Murdoch Children\\\\'s Research Institute, Melbourne, VIC, Australia.; Department of Clinical Haematology, The Royal Children\\\\'s Hospital, Melbourne, VIC, Australia.; Department of Nursing, The University of Melbourne, Melbourne, VIC, Australia; and.; Department of Nursing Research, The Royal Children\\\\'s Hospital, Melbourne, VIC, Australia.\", 'source': 'journal: \"Blood\" ', 'grants': None, 'date': 'year 2018, month 11, day 1, hour 6, minute 0', 'date_received': 'year 2019, month 5, day 6', 'date_accepted': 'year 2019, month 10, day 24', 'date_medline': 'year 2019, month 10, day 24, hour 6, minute 0', 'doi': '10.1182/blood-2018-05-849737', 'unix': 1541026800, 'unix_received': 1557093600, 'unix_accepted': 1571868000, 'unix_medline': 1571868000, 'team_size': 5, 'share_aff_captured': 0.8, 'is_eu': 0, 'inter_collab': 0, 'is_coronavirus_lower': 0, 'nb_country': 1, 'country_list': 'Australia'}, {'_id': {'$oid': '60c7299ec4b7559e0403b887'}, 'pmid': 30413661, 'title': '(18)F-FDG PET/CT for Monitoring of Ipilimumab Therapy in Patients with Metastatic Melanoma.', 'ISSN': '1535-5667', 'abstract': ' \"Immune checkpoint inhibitors (ICIs) are now commonly used to treat patients with metastatic malignant melanoma. Although concerns have been raised that the inflammatory response induced by ICIs may limit the ability of (18)F-FDG PET/CT to assess tumor response, systematic analyses on the use of (18)F-FDG PET/CT in this setting are mostly lacking. Thus, we set out to evaluate the association between tumor response on (18)F-FDG PET/CT and prognosis in patients with metastatic malignant melanoma treated with ipilimumab. Methods: We analyzed 60 consecutive patients with metastatic melanoma who underwent (18)F-FDG PET/CT scans both before and after treatment to evaluate treatment response after completion of ipilimumab therapy. Tumor response was assessed by the change in the sum of SULpeak (voxels with the highest average SUL [SUV normalized to lean body mass]) of up to 5 lesions according to PERCIST5. New lesions on PET that appeared suggestive of metastases were considered progressive metabolic disease (PMD). Because immunotherapy may cause new inflammatory lesions that are detectable on (18)F-FDG PET/CT, we also evaluated an immunotherapy-modified response classification (imPERCIST5). In this classification, new lesions do not define PMD per se; rather, PMD requires an increase in the sum of SULpeak by 30%. The correlation between tumor response according to these 3 definitions and overall survival (OS) was evaluated and compared with known prognostic factors. Results: In responders and nonresponders, the 2-y OS was 66% versus 29% for imPERCIST5 (P = 0.003). After multivariate analysis, imPERCIST5 remained prognostic (hazard ratio, 3.853; 95% confidence interval, 1.498-9.911; P = 0.005). New sites of focal (18)F-FDG uptake occurred more often in patients with PMD (n = 24) by imPERCIST5 than in those with stable metabolic disease (n = 7) or partial metabolic response (n = 4). In patients with partial metabolic response, 2 of 4 isolated new lesions regressed spontaneously during follow-up. Conclusion: In patients with metastatic melanoma treated with ipilimumab, tumor response according to PERCIST was associated with OS. Our data suggest that PMD should not be defined by the appearance of new lesions, but rather by an increase in the sum of SULpeak.\", ', 'meshwords': 'Aged \\nFemale \\nFluorodeoxyglucose F18 \\nHumans \\nImmunotherapy \\nIpilimumab\\nMale \\nMelanoma\\nNeoplasm Metastasis \\nPositron Emission Tomography Computed Tomography \\nPrognosis \\nRetrospective Studies \\nTreatment Outcome ', 'meshsubwords': 'therapeutic use \\ndiagnostic imaging \\ndrug therapy \\nimmunology \\npathology ', 'authors': 'name ml Ito K, affil str Department of Radiology, Memorial Sloan Kettering Cancer Center, New York, New York.\\nname ml Teng R, affil str Department of Radiology, Memorial Sloan Kettering Cancer Center, New York, New York.\\nname ml Schoder H, affil str Department of Radiology, Memorial Sloan Kettering Cancer Center, New York, New York schoderh@mskcc.org.\\nname ml Humm JL, affil str Department of Medical Physics, Memorial Sloan Kettering Cancer Center, New York, New York.\\nname ml Ni A, affil str Department of Epidemiology and Biostatistics, Memorial Sloan Kettering Cancer Center, New York, New York.\\nname ml Michaud L, affil str Department of Radiology, Memorial Sloan Kettering Cancer Center, New York, New York.\\nname ml Nakajima R, affil str Department of Radiology, Memorial Sloan Kettering Cancer Center, New York, New York.\\nname ml Yamashita R, affil str Department of Radiology, Memorial Sloan Kettering Cancer Center, New York, New York.\\nname ml Wolchok JD, affil str Department of Medicine, Memorial Sloan Kettering Cancer Center, New York, New York.; Department of Medicine, Weill Cornell Medicine, New York, New York; and.; Parker Institute for Cancer Immunotherapy, San Francisco, California.\\nname ml Weber WA, affil str Department of Radiology, Memorial Sloan Kettering Cancer Center, New York, New York.', 'source': 'journal: \"Journal of nuclear medicine : official publication', 'grants': '  \"P30 CA008748/CA/NCI NIH HHS\" ', 'date': 'year 2018, month 11, day 11, hour 6, minute 0', 'date_received': 'year 2019, month 4, day 25', 'date_accepted': 'year 2019, month 7, day 17', 'date_medline': 'year 2019, month 10, day 28, hour 6, minute 0', 'doi': '10.2967/jnumed.118.213652', 'unix': 1541890800, 'unix_received': 1556143200, 'unix_accepted': 1563314400, 'unix_medline': 1572217200, 'team_size': 10, 'share_aff_captured': 0, 'is_eu': 0, 'inter_collab': 0, 'is_coronavirus_lower': 0, 'nb_country': 0, 'country_list': ''}, {'_id': {'$oid': '60c72a74c4b7559e0403f633'}, 'pmid': 30429676, 'title': 'Evaluation of the analytical performances of the Cobas c513 analyser for HbA1c assay.', 'ISSN': '1330-0962', 'abstract': ' \"Introduction: Haemoglobin A1c (HbA1c) is considered to be the gold standard for the follow-up of glycaemic control in patients with diabetes mellitus and is also a diagnostic tool. Accordingly, reliable and efficient methods must be used for its quantification. Roche Diagnostics have recently adapted the Tina-quant(R) HbA1c Third Generation immunoassay on a fully dedicated analyser, the Cobas c513, which allows a high throughput of up to 400 samples per hour. The present article deals with the evaluation of the analytical performances of this system which has been recently introduced to the market. Materials and methods: Precision, comparison with two ion-exchange high-performance liquid chromatography (HPLC) methods (Variant II and D-100 systems, BioRad Laboratories) using Passing Bablok and Bland-Altman analyses, accuracy and interference of the most frequent haemoglobin (Hb) variants on HbA1c measurement were evaluated. Results: Precision was high, with coefficients of variation lower than 1.1% (HbA1c values expressed in National Glycohemoglobin Standardization Program units, 1.7% for values expressed in International Federation of Clinical Chemistry and Laboratory Medicine [IFCC] units). The comparison study showed similar results with the two HPLC systems. The analysis of samples with IFCC-assigned values showed high methodological accuracy. Finally, no interference of bilirubin, triglycerides and common Hb variants (Hb AC, AD, AE, AS) was observed. Conclusions: This evaluation showed that the analytical performance of the Cobas c513 analyser for HbA1c assay makes it suitable for a routine use in clinical chemistry laboratories.\", ', 'meshwords': 'Blood Chemical Analysis\\nBlood Sedimentation \\nGlycated Hemoglobin A\\nHumans ', 'meshsubwords': 'methods \\nanalysis ', 'authors': 'name ml Jaisson S, affil str Biochemistry Department, University Hospital of Reims, Reims, France.\\nname ml Leroy N, affil str Biochemistry Department, University Hospital of Reims, Reims, France.\\nname ml Soulard M, affil str Bio Paris Ouest Laboratory, Levallois, France.\\nname ml Desmons A, affil str Biochemistry Department, University Hospital of Reims, Reims, France.\\nname ml Guillard E, affil str Biochemistry Department, University Hospital of Reims, Reims, France.\\nname ml Gillery P, affil str Biochemistry Department, University Hospital of Reims, Reims, France.', 'source': 'journal: \"Biochemia medica\" ', 'grants': None, 'date': 'year 2018, month 11, day 16, hour 6, minute 0', 'date_received': 'year 2019, month 1, day 29', 'date_accepted': 'year 2018, month 7, day 4', 'date_medline': 'year 2019, month 4, day 24, hour 6, minute 0', 'doi': '10.11613/BM.2018.030708', 'unix': 1542322800, 'unix_received': 1548716400, 'unix_accepted': 1530655200, 'unix_medline': 1556056800, 'team_size': 6, 'share_aff_captured': 1, 'is_eu': 1, 'inter_collab': 0, 'is_coronavirus_lower': 0, 'nb_country': 1, 'country_list': 'France'}]\n"
     ]
    }
   ],
   "source": [
    "import json\n",
    "import re\n",
    "graph = py2neo.Graph(\"bolt://localhost:7687\", auth=(\"neo4j\", \"password_tuts\"), name=\"pubmed\")\n",
    "# Charger le fichier JSON\n",
    "with open('C:/Users/Georgiana/Downloads/pubmed_cleaned.json', 'r') as json_file:\n",
    "    data = json.load(json_file)\n",
    "\n",
    "# Afficher les premières lignes du JSON\n",
    "print(data[:5])\n"
   ]
  },
  {
   "cell_type": "code",
   "execution_count": null,
   "id": "6ba9f4c7",
   "metadata": {},
   "outputs": [],
   "source": [
    "graph = py2neo.Graph(\"bolt://localhost:7687\", auth=(\"neo4j\", \"password_tuts\"), name=\"pubmed\")\n",
    "for entry in data:\n",
    "    # Extraire le titre de l'article\n",
    "    title = entry['title']\n",
    "    \n",
    "    # Extraire les noms et les affiliations des auteurs de l'article actuel\n",
    "    authors_affiliations = re.findall(r'name ml (.*?), affil str (.*?)\\.', entry['authors'])\n",
    "    \n",
    "    # Créer un nœud pour chaque auteur avec le titre et l'affiliation comme attributs\n",
    "    for author, affiliation in authors_affiliations:\n",
    "        author_node = Node(\"Author\", name=author, title=title, affiliation=affiliation)\n",
    "        graph.create(author_node)\n",
    "    \n",
    "    # Créer des arêtes entre les auteurs qui ont le même titre\n",
    "    for i in range(len(authors_affiliations)):\n",
    "        for j in range(i + 1, len(authors_affiliations)):\n",
    "            author1 = authors_affiliations[i][0]  # Nom du premier auteur\n",
    "            author2 = authors_affiliations[j][0]  # Nom du deuxième auteur\n",
    "            graph.run(\n",
    "                \"MATCH (a:Author {name: $author1}), (b:Author {name: $author2}) \"\n",
    "                \"CREATE (a)-[:SAME_TITLE]->(b)\",\n",
    "                author1=author1, author2=author2\n",
    "            )"
   ]
  },
  {
   "cell_type": "markdown",
   "id": "21659aa2",
   "metadata": {},
   "source": [
    "### 2) How many authors have more than 2 affiliations ?"
   ]
  },
  {
   "cell_type": "code",
   "execution_count": null,
   "id": "df037426",
   "metadata": {},
   "outputs": [],
   "source": [
    "query = \"\"\"\n",
    "MATCH (a:Author)\n",
    "WITH a.name AS author_name, a.affiliation AS affiliation, COUNT(DISTINCT a.affiliation) AS num_affiliations\n",
    "WHERE num_affiliations > 2\n",
    "RETURN COUNT(DISTINCT author_name) AS num_authors_with_multiple_affiliations\n",
    "\"\"\"\n",
    "\n",
    "result = graph.run(query).to_data_frame()\n"
   ]
  },
  {
   "cell_type": "markdown",
   "id": "31bf3a9b",
   "metadata": {},
   "source": [
    "### 3)  Create a density of node degrees. Do you observe a power scale law ? What does it mean ?"
   ]
  },
  {
   "cell_type": "code",
   "execution_count": 48,
   "id": "180a49bd",
   "metadata": {},
   "outputs": [
    {
     "data": {
      "image/png": "[encoded data removed]",
      "text/plain": [
       "<Figure size 640x480 with 1 Axes>"
      ]
     },
     "metadata": {},
     "output_type": "display_data"
    }
   ],
   "source": [
    "\n",
    "import matplotlib.pyplot as plt\n",
    "import pandas as pd\n",
    "\n",
    "query = \"\"\"\n",
    "MATCH (n)\n",
    "WITH n, size((n)--()) AS degree\n",
    "WITH degree, count(*) AS count\n",
    "RETURN degree, count\n",
    "ORDER BY degree\n",
    "\"\"\"\n",
    "result = graph.run(query)\n",
    "\n",
    "data = pd.DataFrame([dict(record) for record in result])\n",
    "\n",
    "plt.bar(data[\"degree\"], data[\"count\"])\n",
    "plt.xlabel('Degree')\n",
    "plt.ylabel('Count')\n",
    "plt.title('Node Degree Distribution')\n",
    "plt.show()\n"
   ]
  },
  {
   "cell_type": "markdown",
   "id": "34bbcfcf",
   "metadata": {},
   "source": [
    "### Oui, nous pouvons observer que la distibution suit une loi de puissance: il y a beaucoup de papiers qui ont  peu d'auteurs et tres peu de papiers avec beaucoup d'auteurs, ce qui implique que les collaborations par groupes  reduits sont plus courantes."
   ]
  },
  {
   "cell_type": "markdown",
   "id": "f939d143",
   "metadata": {},
   "source": [
    "### 5) Who are the top 10 collaborators and what is their affiliation?"
   ]
  },
  {
   "cell_type": "code",
   "execution_count": 67,
   "id": "aca705a2",
   "metadata": {},
   "outputs": [
    {
     "name": "stdout",
     "output_type": "stream",
     "text": [
      "Auteur: Jones N\n",
      "Auteur: Armstrong D\n",
      "Auteur: Hookey L\n",
      "Auteur: Veldhuyzen van Zanten SJO\n",
      "Auteur: Moayyedi P\n",
      "Auteur: Trifonov V\n",
      "Auteur: Martins C\n",
      "Auteur: Martins C\n",
      "Auteur: Houben A\n",
      "Auteur: Leontiadis GI\n"
     ]
    }
   ],
   "source": [
    "query = \"\"\"\n",
    "MATCH (a:Author)-[:SAME_TITLE]-(:Author)\n",
    "WITH DISTINCT a, COUNT(DISTINCT id(a)) AS collaborations, COLLECT(DISTINCT a.affiliation) AS affiliations\n",
    "ORDER BY collaborations DESC\n",
    "LIMIT 10\n",
    "RETURN a.name AS Author, affiliations[0] AS Affiliation, collaborations\n",
    "\"\"\"\n",
    "\n",
    "results = graph.run(query)\n",
    "\n",
    "# Affichage des résultats\n",
    "for result in results:\n",
    "    print(\"Auteur:\", result[\"Author\"])\n",
    "   "
   ]
  },
  {
   "cell_type": "markdown",
   "id": "e1e33a63",
   "metadata": {},
   "source": [
    "### 6) Sandbox exercise: think of a problematic and try to answer it.\n",
    "### Quel est le nombre de papiers relatifs au domaine de la chimie?"
   ]
  },
  {
   "cell_type": "code",
   "execution_count": 78,
   "id": "bdcbbbcf",
   "metadata": {},
   "outputs": [
    {
     "name": "stdout",
     "output_type": "stream",
     "text": [
      "Number of papers related to chemistry: 29\n"
     ]
    }
   ],
   "source": [
    "graph = py2neo.Graph(\"bolt://localhost:7687\", auth=(\"neo4j\", \"password_tuts\"), name=\"pubmed\")\n",
    "query = \"\"\"\n",
    "MATCH (a:Author)\n",
    "WHERE toLower(a.title) CONTAINS 'chemistry'\n",
    "RETURN COUNT(DISTINCT a.title) AS num_papers\n",
    "\"\"\"\n",
    "\n",
    "# Exécution de la requête\n",
    "result = graph.run(query)\n",
    "\n",
    "# Récupération et affichage du nombre de papiers relatifs à la chimie\n",
    "for record in result:\n",
    "    num_papers = record[\"num_papers\"]\n",
    "    print(\"Number of papers related to chemistry:\", num_papers)"
   ]
  },
  {
   "cell_type": "markdown",
   "id": "fb183d40",
   "metadata": {},
   "source": [
    "\n",
    "### Real World application 4\n",
    "change the database \"neo4j\" to the database \"movie\". Go to the browser and run on the browser console :play movie-graph then copy the queries on the console and run it. Congrats you just imported a brand new sample of data. Answer the following questions with cypher queries.\n",
    "\n",
    "1. How many actors played in more than 2 movie ? Get their names and year they were born.\n",
    "\n",
    "2. In how many movies did Tom hanks play ?\n",
    "\n",
    "3. In average in how many movies do actors play in ?\n",
    "\n",
    "4. In average how many actors are there in a movie ?\n",
    "\n",
    "5. In average how many writers is needed to write a movie ?\n",
    "\n",
    "6. What is the proportion of writers that also directed the movie ?\n",
    "\n",
    "7. Do an histogram of the year of release for the movies.\n",
    "\n",
    "8. Who are the 10 actors with the most movie played in\n",
    "\n",
    "9. Delete every movie made by a director of your choosing\n",
    "\n",
    "10. Give some statistics that you find interesting.\n",
    "\n",
    "11. Sandbox exercise: think of a problematic and try to answer it."
   ]
  },
  {
   "cell_type": "markdown",
   "id": "93f0d1b9",
   "metadata": {},
   "source": [
    "# Pour cette partie je n'ai pas réussi à me connecter depuis python. J'ai executé les queries directement sur neo4j et j'ai reporté les résultats ici en format markdown."
   ]
  },
  {
   "cell_type": "markdown",
   "id": "6c926116",
   "metadata": {},
   "source": [
    "\n",
    "\n",
    "### 1:How many actors played in more than 2 movie ? Get their names and year they were born."
   ]
  },
  {
   "cell_type": "code",
   "execution_count": 17,
   "id": "11d3b78b",
   "metadata": {},
   "outputs": [
    {
     "ename": "ConnectionUnavailable",
     "evalue": "Connection has been closed",
     "output_type": "error",
     "traceback": [
      "\u001b[1;31m---------------------------------------------------------------------------\u001b[0m",
      "\u001b[1;31mIndexError\u001b[0m                                Traceback (most recent call last)",
      "File \u001b[1;32m~\\anaconda3\\Lib\\site-packages\\py2neo\\client\\__init__.py:806\u001b[0m, in \u001b[0;36mConnectionPool.acquire\u001b[1;34m(self, force_reset, can_overfill)\u001b[0m\n\u001b[0;32m    804\u001b[0m \u001b[38;5;28;01mtry\u001b[39;00m:\n\u001b[0;32m    805\u001b[0m     \u001b[38;5;66;03m# Plan A: select a free connection from the pool\u001b[39;00m\n\u001b[1;32m--> 806\u001b[0m     cx \u001b[38;5;241m=\u001b[39m \u001b[38;5;28mself\u001b[39m\u001b[38;5;241m.\u001b[39m_free_list\u001b[38;5;241m.\u001b[39mpopleft()\n\u001b[0;32m    807\u001b[0m \u001b[38;5;28;01mexcept\u001b[39;00m \u001b[38;5;167;01mIndexError\u001b[39;00m:\n",
      "\u001b[1;31mIndexError\u001b[0m: pop from an empty deque",
      "\nDuring handling of the above exception, another exception occurred:\n",
      "\u001b[1;31mClientError\u001b[0m                               Traceback (most recent call last)",
      "File \u001b[1;32m~\\anaconda3\\Lib\\site-packages\\py2neo\\client\\bolt.py:810\u001b[0m, in \u001b[0;36mBolt1._audit\u001b[1;34m(self, task)\u001b[0m\n\u001b[0;32m    809\u001b[0m \u001b[38;5;28;01mtry\u001b[39;00m:\n\u001b[1;32m--> 810\u001b[0m     task\u001b[38;5;241m.\u001b[39maudit()\n\u001b[0;32m    811\u001b[0m \u001b[38;5;28;01mexcept\u001b[39;00m Neo4jError:\n",
      "File \u001b[1;32m~\\anaconda3\\Lib\\site-packages\\py2neo\\client\\bolt.py:1303\u001b[0m, in \u001b[0;36mBoltResponse.audit\u001b[1;34m(self)\u001b[0m\n\u001b[0;32m   1302\u001b[0m \u001b[38;5;28mself\u001b[39m\u001b[38;5;241m.\u001b[39mset_ignored()\n\u001b[1;32m-> 1303\u001b[0m \u001b[38;5;28;01mraise\u001b[39;00m \u001b[38;5;28mself\u001b[39m\u001b[38;5;241m.\u001b[39m_failure\n",
      "\u001b[1;31mClientError\u001b[0m: [Security.Unauthorized] The client is unauthorized due to authentication failure.",
      "\nDuring handling of the above exception, another exception occurred:\n",
      "\u001b[1;31mConnectionUnavailable\u001b[0m                     Traceback (most recent call last)",
      "Cell \u001b[1;32mIn[17], line 6\u001b[0m\n\u001b[0;32m      4\u001b[0m \u001b[38;5;28;01mfrom\u001b[39;00m \u001b[38;5;21;01mpy2neo\u001b[39;00m \u001b[38;5;28;01mimport\u001b[39;00m Graph, Node, Relationship\n\u001b[0;32m      5\u001b[0m \u001b[38;5;28;01mimport\u001b[39;00m \u001b[38;5;21;01mcsv\u001b[39;00m\n\u001b[1;32m----> 6\u001b[0m graph \u001b[38;5;241m=\u001b[39m py2neo\u001b[38;5;241m.\u001b[39mGraph(\u001b[38;5;124m\"\u001b[39m\u001b[38;5;124mbolt://localhost:7687\u001b[39m\u001b[38;5;124m\"\u001b[39m, auth\u001b[38;5;241m=\u001b[39m(\u001b[38;5;124m\"\u001b[39m\u001b[38;5;124mneo4j\u001b[39m\u001b[38;5;124m\"\u001b[39m, \u001b[38;5;124m\"\u001b[39m\u001b[38;5;124mpassword_tuts\u001b[39m\u001b[38;5;124m\"\u001b[39m),name\u001b[38;5;241m=\u001b[39m\u001b[38;5;124m\"\u001b[39m\u001b[38;5;124mneo4j\u001b[39m\u001b[38;5;124m\"\u001b[39m)\n\u001b[0;32m      7\u001b[0m query \u001b[38;5;241m=\u001b[39m \u001b[38;5;124m\"\"\"\u001b[39m\n\u001b[0;32m      8\u001b[0m \u001b[38;5;124mMATCH (actor:Person)-[:ACTED_IN]->(movie)\u001b[39m\n\u001b[0;32m      9\u001b[0m \u001b[38;5;124mWITH actor, COUNT(movie) AS movieCount\u001b[39m\n\u001b[1;32m   (...)\u001b[0m\n\u001b[0;32m     12\u001b[0m \n\u001b[0;32m     13\u001b[0m \u001b[38;5;124m\"\"\"\u001b[39m\n\u001b[0;32m     14\u001b[0m results \u001b[38;5;241m=\u001b[39m graph\u001b[38;5;241m.\u001b[39mrun(query)\n",
      "File \u001b[1;32m~\\anaconda3\\Lib\\site-packages\\py2neo\\database.py:288\u001b[0m, in \u001b[0;36mGraph.__init__\u001b[1;34m(self, profile, name, **settings)\u001b[0m\n\u001b[0;32m    287\u001b[0m \u001b[38;5;28;01mdef\u001b[39;00m \u001b[38;5;21m__init__\u001b[39m(\u001b[38;5;28mself\u001b[39m, profile\u001b[38;5;241m=\u001b[39m\u001b[38;5;28;01mNone\u001b[39;00m, name\u001b[38;5;241m=\u001b[39m\u001b[38;5;28;01mNone\u001b[39;00m, \u001b[38;5;241m*\u001b[39m\u001b[38;5;241m*\u001b[39msettings):\n\u001b[1;32m--> 288\u001b[0m     \u001b[38;5;28mself\u001b[39m\u001b[38;5;241m.\u001b[39mservice \u001b[38;5;241m=\u001b[39m GraphService(profile, \u001b[38;5;241m*\u001b[39m\u001b[38;5;241m*\u001b[39msettings)\n\u001b[0;32m    289\u001b[0m     \u001b[38;5;28mself\u001b[39m\u001b[38;5;241m.\u001b[39m\u001b[38;5;18m__name__\u001b[39m \u001b[38;5;241m=\u001b[39m name\n\u001b[0;32m    290\u001b[0m     \u001b[38;5;28mself\u001b[39m\u001b[38;5;241m.\u001b[39mschema \u001b[38;5;241m=\u001b[39m Schema(\u001b[38;5;28mself\u001b[39m)\n",
      "File \u001b[1;32m~\\anaconda3\\Lib\\site-packages\\py2neo\\database.py:119\u001b[0m, in \u001b[0;36mGraphService.__init__\u001b[1;34m(self, profile, **settings)\u001b[0m\n\u001b[0;32m    116\u001b[0m \u001b[38;5;28;01mif\u001b[39;00m connector_settings[\u001b[38;5;124m\"\u001b[39m\u001b[38;5;124minit_size\u001b[39m\u001b[38;5;124m\"\u001b[39m] \u001b[38;5;129;01mis\u001b[39;00m \u001b[38;5;28;01mNone\u001b[39;00m \u001b[38;5;129;01mand\u001b[39;00m \u001b[38;5;129;01mnot\u001b[39;00m profile\u001b[38;5;241m.\u001b[39mrouting:\n\u001b[0;32m    117\u001b[0m     \u001b[38;5;66;03m# Ensures credentials are checked on construction\u001b[39;00m\n\u001b[0;32m    118\u001b[0m     connector_settings[\u001b[38;5;124m\"\u001b[39m\u001b[38;5;124minit_size\u001b[39m\u001b[38;5;124m\"\u001b[39m] \u001b[38;5;241m=\u001b[39m \u001b[38;5;241m1\u001b[39m\n\u001b[1;32m--> 119\u001b[0m \u001b[38;5;28mself\u001b[39m\u001b[38;5;241m.\u001b[39m_connector \u001b[38;5;241m=\u001b[39m Connector(profile, \u001b[38;5;241m*\u001b[39m\u001b[38;5;241m*\u001b[39mconnector_settings)\n\u001b[0;32m    120\u001b[0m \u001b[38;5;28mself\u001b[39m\u001b[38;5;241m.\u001b[39m_graphs \u001b[38;5;241m=\u001b[39m {}\n",
      "File \u001b[1;32m~\\anaconda3\\Lib\\site-packages\\py2neo\\client\\__init__.py:960\u001b[0m, in \u001b[0;36mConnector.__init__\u001b[1;34m(self, profile, user_agent, init_size, max_size, max_age, routing_refresh_ttl)\u001b[0m\n\u001b[0;32m    958\u001b[0m \u001b[38;5;28;01melse\u001b[39;00m:\n\u001b[0;32m    959\u001b[0m     \u001b[38;5;28mself\u001b[39m\u001b[38;5;241m.\u001b[39m_router \u001b[38;5;241m=\u001b[39m \u001b[38;5;28;01mNone\u001b[39;00m\n\u001b[1;32m--> 960\u001b[0m \u001b[38;5;28mself\u001b[39m\u001b[38;5;241m.\u001b[39m_add_pools(\u001b[38;5;241m*\u001b[39m\u001b[38;5;28mself\u001b[39m\u001b[38;5;241m.\u001b[39m_initial_routers)\n",
      "File \u001b[1;32m~\\anaconda3\\Lib\\site-packages\\py2neo\\client\\__init__.py:982\u001b[0m, in \u001b[0;36mConnector._add_pools\u001b[1;34m(self, *profiles)\u001b[0m\n\u001b[0;32m    980\u001b[0m     \u001b[38;5;28;01mcontinue\u001b[39;00m\n\u001b[0;32m    981\u001b[0m log\u001b[38;5;241m.\u001b[39mdebug(\u001b[38;5;124m\"\u001b[39m\u001b[38;5;124mAdding connection pool for profile \u001b[39m\u001b[38;5;132;01m%r\u001b[39;00m\u001b[38;5;124m\"\u001b[39m, profile)\n\u001b[1;32m--> 982\u001b[0m pool \u001b[38;5;241m=\u001b[39m ConnectionPool\u001b[38;5;241m.\u001b[39mopen(\n\u001b[0;32m    983\u001b[0m     profile,\n\u001b[0;32m    984\u001b[0m     user_agent\u001b[38;5;241m=\u001b[39m\u001b[38;5;28mself\u001b[39m\u001b[38;5;241m.\u001b[39m_user_agent,\n\u001b[0;32m    985\u001b[0m     init_size\u001b[38;5;241m=\u001b[39m\u001b[38;5;28mself\u001b[39m\u001b[38;5;241m.\u001b[39m_init_size,\n\u001b[0;32m    986\u001b[0m     max_size\u001b[38;5;241m=\u001b[39m\u001b[38;5;28mself\u001b[39m\u001b[38;5;241m.\u001b[39m_max_size,\n\u001b[0;32m    987\u001b[0m     max_age\u001b[38;5;241m=\u001b[39m\u001b[38;5;28mself\u001b[39m\u001b[38;5;241m.\u001b[39m_max_age,\n\u001b[0;32m    988\u001b[0m     on_broken\u001b[38;5;241m=\u001b[39m\u001b[38;5;28mself\u001b[39m\u001b[38;5;241m.\u001b[39m_on_broken)\n\u001b[0;32m    989\u001b[0m \u001b[38;5;28mself\u001b[39m\u001b[38;5;241m.\u001b[39m_pools[profile] \u001b[38;5;241m=\u001b[39m pool\n",
      "File \u001b[1;32m~\\anaconda3\\Lib\\site-packages\\py2neo\\client\\__init__.py:649\u001b[0m, in \u001b[0;36mConnectionPool.open\u001b[1;34m(cls, profile, user_agent, init_size, max_size, max_age, on_broken)\u001b[0m\n\u001b[0;32m    627\u001b[0m \u001b[38;5;250m\u001b[39m\u001b[38;5;124;03m\"\"\" Create a new connection pool, with an option to seed one\u001b[39;00m\n\u001b[0;32m    628\u001b[0m \u001b[38;5;124;03mor more initial connections.\u001b[39;00m\n\u001b[0;32m    629\u001b[0m \n\u001b[1;32m   (...)\u001b[0m\n\u001b[0;32m    646\u001b[0m \u001b[38;5;124;03m    scheme\u001b[39;00m\n\u001b[0;32m    647\u001b[0m \u001b[38;5;124;03m\"\"\"\u001b[39;00m\n\u001b[0;32m    648\u001b[0m pool \u001b[38;5;241m=\u001b[39m \u001b[38;5;28mcls\u001b[39m(profile, user_agent, max_size, max_age, on_broken)\n\u001b[1;32m--> 649\u001b[0m seeds \u001b[38;5;241m=\u001b[39m [pool\u001b[38;5;241m.\u001b[39macquire() \u001b[38;5;28;01mfor\u001b[39;00m _ \u001b[38;5;129;01min\u001b[39;00m \u001b[38;5;28mrange\u001b[39m(init_size \u001b[38;5;129;01mor\u001b[39;00m \u001b[38;5;28mcls\u001b[39m\u001b[38;5;241m.\u001b[39mdefault_init_size)]\n\u001b[0;32m    650\u001b[0m \u001b[38;5;28;01mfor\u001b[39;00m seed \u001b[38;5;129;01min\u001b[39;00m seeds:\n\u001b[0;32m    651\u001b[0m     seed\u001b[38;5;241m.\u001b[39mrelease()\n",
      "File \u001b[1;32m~\\anaconda3\\Lib\\site-packages\\py2neo\\client\\__init__.py:649\u001b[0m, in \u001b[0;36m<listcomp>\u001b[1;34m(.0)\u001b[0m\n\u001b[0;32m    627\u001b[0m \u001b[38;5;250m\u001b[39m\u001b[38;5;124;03m\"\"\" Create a new connection pool, with an option to seed one\u001b[39;00m\n\u001b[0;32m    628\u001b[0m \u001b[38;5;124;03mor more initial connections.\u001b[39;00m\n\u001b[0;32m    629\u001b[0m \n\u001b[1;32m   (...)\u001b[0m\n\u001b[0;32m    646\u001b[0m \u001b[38;5;124;03m    scheme\u001b[39;00m\n\u001b[0;32m    647\u001b[0m \u001b[38;5;124;03m\"\"\"\u001b[39;00m\n\u001b[0;32m    648\u001b[0m pool \u001b[38;5;241m=\u001b[39m \u001b[38;5;28mcls\u001b[39m(profile, user_agent, max_size, max_age, on_broken)\n\u001b[1;32m--> 649\u001b[0m seeds \u001b[38;5;241m=\u001b[39m [pool\u001b[38;5;241m.\u001b[39macquire() \u001b[38;5;28;01mfor\u001b[39;00m _ \u001b[38;5;129;01min\u001b[39;00m \u001b[38;5;28mrange\u001b[39m(init_size \u001b[38;5;129;01mor\u001b[39;00m \u001b[38;5;28mcls\u001b[39m\u001b[38;5;241m.\u001b[39mdefault_init_size)]\n\u001b[0;32m    650\u001b[0m \u001b[38;5;28;01mfor\u001b[39;00m seed \u001b[38;5;129;01min\u001b[39;00m seeds:\n\u001b[0;32m    651\u001b[0m     seed\u001b[38;5;241m.\u001b[39mrelease()\n",
      "File \u001b[1;32m~\\anaconda3\\Lib\\site-packages\\py2neo\\client\\__init__.py:813\u001b[0m, in \u001b[0;36mConnectionPool.acquire\u001b[1;34m(self, force_reset, can_overfill)\u001b[0m\n\u001b[0;32m    807\u001b[0m \u001b[38;5;28;01mexcept\u001b[39;00m \u001b[38;5;167;01mIndexError\u001b[39;00m:\n\u001b[0;32m    808\u001b[0m     \u001b[38;5;28;01mif\u001b[39;00m \u001b[38;5;28mself\u001b[39m\u001b[38;5;241m.\u001b[39m_has_capacity() \u001b[38;5;129;01mor\u001b[39;00m can_overfill:\n\u001b[0;32m    809\u001b[0m         \u001b[38;5;66;03m# Plan B: if the pool isn't full, open\u001b[39;00m\n\u001b[0;32m    810\u001b[0m         \u001b[38;5;66;03m# a new connection. This may raise a\u001b[39;00m\n\u001b[0;32m    811\u001b[0m         \u001b[38;5;66;03m# ConnectionUnavailable exception, which\u001b[39;00m\n\u001b[0;32m    812\u001b[0m         \u001b[38;5;66;03m# should bubble up to the caller.\u001b[39;00m\n\u001b[1;32m--> 813\u001b[0m         cx \u001b[38;5;241m=\u001b[39m \u001b[38;5;28mself\u001b[39m\u001b[38;5;241m.\u001b[39m_connect()\n\u001b[0;32m    814\u001b[0m         \u001b[38;5;28;01mif\u001b[39;00m cx\u001b[38;5;241m.\u001b[39msupports_multi():\n\u001b[0;32m    815\u001b[0m             \u001b[38;5;28mself\u001b[39m\u001b[38;5;241m.\u001b[39m_supports_multi \u001b[38;5;241m=\u001b[39m \u001b[38;5;28;01mTrue\u001b[39;00m\n",
      "File \u001b[1;32m~\\anaconda3\\Lib\\site-packages\\py2neo\\client\\__init__.py:764\u001b[0m, in \u001b[0;36mConnectionPool._connect\u001b[1;34m(self)\u001b[0m\n\u001b[0;32m    761\u001b[0m \u001b[38;5;28;01mdef\u001b[39;00m \u001b[38;5;21m_connect\u001b[39m(\u001b[38;5;28mself\u001b[39m):\n\u001b[0;32m    762\u001b[0m \u001b[38;5;250m    \u001b[39m\u001b[38;5;124;03m\"\"\" Open and return a new connection.\u001b[39;00m\n\u001b[0;32m    763\u001b[0m \u001b[38;5;124;03m    \"\"\"\u001b[39;00m\n\u001b[1;32m--> 764\u001b[0m     cx \u001b[38;5;241m=\u001b[39m Connection\u001b[38;5;241m.\u001b[39mopen(\u001b[38;5;28mself\u001b[39m\u001b[38;5;241m.\u001b[39mprofile, user_agent\u001b[38;5;241m=\u001b[39m\u001b[38;5;28mself\u001b[39m\u001b[38;5;241m.\u001b[39muser_agent,\n\u001b[0;32m    765\u001b[0m                          on_release\u001b[38;5;241m=\u001b[39m\u001b[38;5;28;01mlambda\u001b[39;00m c: \u001b[38;5;28mself\u001b[39m\u001b[38;5;241m.\u001b[39mrelease(c),\n\u001b[0;32m    766\u001b[0m                          on_broken\u001b[38;5;241m=\u001b[39m\u001b[38;5;28;01mlambda\u001b[39;00m msg: \u001b[38;5;28mself\u001b[39m\u001b[38;5;241m.\u001b[39m__on_broken(msg))\n\u001b[0;32m    767\u001b[0m     \u001b[38;5;28mself\u001b[39m\u001b[38;5;241m.\u001b[39m_server_agent \u001b[38;5;241m=\u001b[39m cx\u001b[38;5;241m.\u001b[39mserver_agent\n\u001b[0;32m    768\u001b[0m     \u001b[38;5;28;01mreturn\u001b[39;00m cx\n",
      "File \u001b[1;32m~\\anaconda3\\Lib\\site-packages\\py2neo\\client\\__init__.py:174\u001b[0m, in \u001b[0;36mConnection.open\u001b[1;34m(cls, profile, user_agent, on_release, on_broken)\u001b[0m\n\u001b[0;32m    172\u001b[0m \u001b[38;5;28;01mif\u001b[39;00m profile\u001b[38;5;241m.\u001b[39mprotocol \u001b[38;5;241m==\u001b[39m \u001b[38;5;124m\"\u001b[39m\u001b[38;5;124mbolt\u001b[39m\u001b[38;5;124m\"\u001b[39m:\n\u001b[0;32m    173\u001b[0m     \u001b[38;5;28;01mfrom\u001b[39;00m \u001b[38;5;21;01mpy2neo\u001b[39;00m\u001b[38;5;21;01m.\u001b[39;00m\u001b[38;5;21;01mclient\u001b[39;00m\u001b[38;5;21;01m.\u001b[39;00m\u001b[38;5;21;01mbolt\u001b[39;00m \u001b[38;5;28;01mimport\u001b[39;00m Bolt\n\u001b[1;32m--> 174\u001b[0m     \u001b[38;5;28;01mreturn\u001b[39;00m Bolt\u001b[38;5;241m.\u001b[39mopen(profile, user_agent\u001b[38;5;241m=\u001b[39muser_agent,\n\u001b[0;32m    175\u001b[0m                      on_release\u001b[38;5;241m=\u001b[39mon_release, on_broken\u001b[38;5;241m=\u001b[39mon_broken)\n\u001b[0;32m    176\u001b[0m \u001b[38;5;28;01melif\u001b[39;00m profile\u001b[38;5;241m.\u001b[39mprotocol \u001b[38;5;241m==\u001b[39m \u001b[38;5;124m\"\u001b[39m\u001b[38;5;124mhttp\u001b[39m\u001b[38;5;124m\"\u001b[39m:\n\u001b[0;32m    177\u001b[0m     \u001b[38;5;28;01mfrom\u001b[39;00m \u001b[38;5;21;01mpy2neo\u001b[39;00m\u001b[38;5;21;01m.\u001b[39;00m\u001b[38;5;21;01mclient\u001b[39;00m\u001b[38;5;21;01m.\u001b[39;00m\u001b[38;5;21;01mhttp\u001b[39;00m \u001b[38;5;28;01mimport\u001b[39;00m HTTP\n",
      "File \u001b[1;32m~\\anaconda3\\Lib\\site-packages\\py2neo\\client\\bolt.py:361\u001b[0m, in \u001b[0;36mBolt.open\u001b[1;34m(cls, profile, user_agent, on_release, on_broken)\u001b[0m\n\u001b[0;32m    359\u001b[0m         \u001b[38;5;28;01mraise\u001b[39;00m \u001b[38;5;167;01mTypeError\u001b[39;00m(\u001b[38;5;124m\"\u001b[39m\u001b[38;5;124mUnable to agree supported protocol version\u001b[39m\u001b[38;5;124m\"\u001b[39m)\n\u001b[0;32m    360\u001b[0m     bolt \u001b[38;5;241m=\u001b[39m subclass(wire, profile, on_release\u001b[38;5;241m=\u001b[39mon_release)\n\u001b[1;32m--> 361\u001b[0m     bolt\u001b[38;5;241m.\u001b[39m_hello(user_agent \u001b[38;5;129;01mor\u001b[39;00m bolt_user_agent())\n\u001b[0;32m    362\u001b[0m     \u001b[38;5;28;01mreturn\u001b[39;00m bolt\n\u001b[0;32m    363\u001b[0m \u001b[38;5;28;01mexcept\u001b[39;00m (\u001b[38;5;167;01mTypeError\u001b[39;00m, WireError) \u001b[38;5;28;01mas\u001b[39;00m error:\n",
      "File \u001b[1;32m~\\anaconda3\\Lib\\site-packages\\py2neo\\client\\bolt.py:867\u001b[0m, in \u001b[0;36mBolt3._hello\u001b[1;34m(self, user_agent)\u001b[0m\n\u001b[0;32m    865\u001b[0m \u001b[38;5;28mself\u001b[39m\u001b[38;5;241m.\u001b[39msend()\n\u001b[0;32m    866\u001b[0m \u001b[38;5;28mself\u001b[39m\u001b[38;5;241m.\u001b[39m_fetch()\n\u001b[1;32m--> 867\u001b[0m \u001b[38;5;28mself\u001b[39m\u001b[38;5;241m.\u001b[39m_audit(response)\n\u001b[0;32m    868\u001b[0m \u001b[38;5;28mself\u001b[39m\u001b[38;5;241m.\u001b[39mserver_agent \u001b[38;5;241m=\u001b[39m response\u001b[38;5;241m.\u001b[39mmetadata\u001b[38;5;241m.\u001b[39mget(\u001b[38;5;124m\"\u001b[39m\u001b[38;5;124mserver\u001b[39m\u001b[38;5;124m\"\u001b[39m)\n\u001b[0;32m    869\u001b[0m \u001b[38;5;28mself\u001b[39m\u001b[38;5;241m.\u001b[39mconnection_id \u001b[38;5;241m=\u001b[39m response\u001b[38;5;241m.\u001b[39mmetadata\u001b[38;5;241m.\u001b[39mget(\u001b[38;5;124m\"\u001b[39m\u001b[38;5;124mconnection_id\u001b[39m\u001b[38;5;124m\"\u001b[39m)\n",
      "File \u001b[1;32m~\\anaconda3\\Lib\\site-packages\\py2neo\\client\\bolt.py:812\u001b[0m, in \u001b[0;36mBolt1._audit\u001b[1;34m(self, task)\u001b[0m\n\u001b[0;32m    810\u001b[0m     task\u001b[38;5;241m.\u001b[39maudit()\n\u001b[0;32m    811\u001b[0m \u001b[38;5;28;01mexcept\u001b[39;00m Neo4jError:\n\u001b[1;32m--> 812\u001b[0m     \u001b[38;5;28mself\u001b[39m\u001b[38;5;241m.\u001b[39mreset(force\u001b[38;5;241m=\u001b[39m\u001b[38;5;28;01mTrue\u001b[39;00m)\n\u001b[0;32m    813\u001b[0m     \u001b[38;5;28;01mraise\u001b[39;00m\n\u001b[0;32m    814\u001b[0m \u001b[38;5;28;01mfinally\u001b[39;00m:\n\u001b[0;32m    815\u001b[0m     \u001b[38;5;66;03m# On 1 Apr 2021, this was moved here from _wait. Because\u001b[39;00m\n\u001b[0;32m    816\u001b[0m     \u001b[38;5;66;03m# _wait is generally called before _audit, the post-failure\u001b[39;00m\n\u001b[1;32m   (...)\u001b[0m\n\u001b[0;32m    821\u001b[0m     \u001b[38;5;66;03m# Putting it here ensures that release is only ever done\u001b[39;00m\n\u001b[0;32m    822\u001b[0m     \u001b[38;5;66;03m# after such a reset.\u001b[39;00m\n",
      "File \u001b[1;32m~\\anaconda3\\Lib\\site-packages\\py2neo\\client\\bolt.py:506\u001b[0m, in \u001b[0;36mBolt1.reset\u001b[1;34m(self, force)\u001b[0m\n\u001b[0;32m    505\u001b[0m \u001b[38;5;28;01mdef\u001b[39;00m \u001b[38;5;21mreset\u001b[39m(\u001b[38;5;28mself\u001b[39m, force\u001b[38;5;241m=\u001b[39m\u001b[38;5;28;01mFalse\u001b[39;00m):\n\u001b[1;32m--> 506\u001b[0m     \u001b[38;5;28mself\u001b[39m\u001b[38;5;241m.\u001b[39m_assert_open()\n\u001b[0;32m    507\u001b[0m     \u001b[38;5;28;01mif\u001b[39;00m force \u001b[38;5;129;01mor\u001b[39;00m \u001b[38;5;28mself\u001b[39m\u001b[38;5;241m.\u001b[39m_transaction:\n\u001b[0;32m    508\u001b[0m         response \u001b[38;5;241m=\u001b[39m \u001b[38;5;28mself\u001b[39m\u001b[38;5;241m.\u001b[39mappend_message(\u001b[38;5;241m0x0F\u001b[39m, vital\u001b[38;5;241m=\u001b[39m\u001b[38;5;28;01mTrue\u001b[39;00m)\n",
      "File \u001b[1;32m~\\anaconda3\\Lib\\site-packages\\py2neo\\client\\bolt.py:449\u001b[0m, in \u001b[0;36mBolt._assert_open\u001b[1;34m(self)\u001b[0m\n\u001b[0;32m    447\u001b[0m \u001b[38;5;28;01mdef\u001b[39;00m \u001b[38;5;21m_assert_open\u001b[39m(\u001b[38;5;28mself\u001b[39m):\n\u001b[0;32m    448\u001b[0m     \u001b[38;5;28;01mif\u001b[39;00m \u001b[38;5;28mself\u001b[39m\u001b[38;5;241m.\u001b[39mclosed:\n\u001b[1;32m--> 449\u001b[0m         \u001b[38;5;28;01mraise\u001b[39;00m ConnectionUnavailable(\u001b[38;5;124m\"\u001b[39m\u001b[38;5;124mConnection has been closed\u001b[39m\u001b[38;5;124m\"\u001b[39m)\n\u001b[0;32m    450\u001b[0m     \u001b[38;5;28;01mif\u001b[39;00m \u001b[38;5;28mself\u001b[39m\u001b[38;5;241m.\u001b[39mbroken:\n\u001b[0;32m    451\u001b[0m         \u001b[38;5;28;01mraise\u001b[39;00m ConnectionUnavailable(\u001b[38;5;124m\"\u001b[39m\u001b[38;5;124mConnection is broken\u001b[39m\u001b[38;5;124m\"\u001b[39m)\n",
      "\u001b[1;31mConnectionUnavailable\u001b[0m: Connection has been closed"
     ]
    }
   ],
   "source": [
    "\n",
    "import py2neo\n",
    "from py2neo import ogm\n",
    "import numpy as np\n",
    "from py2neo import Graph, Node, Relationship\n",
    "import csv\n",
    "graph = py2neo.Graph(\"bolt://localhost:7687\", auth=(\"neo4j\", \"password_tuts\"),name=\"neo4j\")\n",
    "query = \"\"\"\n",
    "MATCH (actor:Person)-[:ACTED_IN]->(movie)\n",
    "WITH actor, COUNT(movie) AS movieCount\n",
    "WHERE movieCount > 2\n",
    "RETURN actor.name AS ActorName, actor.born AS YearOfBirth\n",
    "\n",
    "\"\"\"\n",
    "results = graph.run(query)\n",
    "\n"
   ]
  },
  {
   "cell_type": "code",
   "execution_count": null,
   "id": "7b25e70f",
   "metadata": {},
   "outputs": [],
   "source": [
    "Résultats réportés depuis la console neo4j:\n",
    "\n",
    "ActorName\tYearOfBirth\n",
    "\"Keanu Reeves\"\t1964\n",
    "\"Carrie-Anne Moss\"\t1967\n",
    "\"Laurence Fishburne\"\t1961\n",
    "\"Hugo Weaving\"\t1960\n",
    "\"Tom Cruise\"\t1962\n",
    "\"Jack Nicholson\"\t1937\n",
    "\"Kevin Bacon\"\t1958\n",
    "\"Cuba Gooding Jr.\"\t1968\n",
    "\"Meg Ryan\"\t1961\n",
    "\"Helen Hunt\"\t1963\n",
    "\"Robin Williams\"\t1951\n",
    "\"Tom Hanks\"\t1956\n",
    "\"Gene Hackman\"\t1930\n",
    "\"Ben Miles\"\t1967\n",
    "\"Bill Paxton\"\t1955\n",
    "\"Keanu Reeves\"\t1964\n",
    "\"Carrie-Anne Moss\"\t1967\n",
    "\"Laurence Fishburne\"\t1961\n",
    "\"Hugo Weaving\"\t1960\n",
    "\"Tom Cruise\"\t1962\n",
    "\"Jack Nicholson\"\t1937\n",
    "\"Kevin Bacon\"\t1958\n",
    "\"Cuba Gooding Jr.\"\t1968\n",
    "\"Meg Ryan\"\t1961\n",
    "\"Helen Hunt\"\t1963\n",
    "\"Robin Williams\"\t1951\n",
    "\"Tom Hanks\"\t1956\n",
    "\"Gene Hackman\"\t1930\n",
    "\"Ben Miles\"\t1967\n",
    "\"Bill Paxton\"\t1955 #30 acteurs"
   ]
  },
  {
   "cell_type": "markdown",
   "id": "fd12d638",
   "metadata": {},
   "source": [
    "### 2: In how many movies did Tom hanks play ?"
   ]
  },
  {
   "cell_type": "code",
   "execution_count": null,
   "id": "8a3ba75e",
   "metadata": {},
   "outputs": [],
   "source": [
    "# Query executée sur neo4j:\n",
    "MATCH (tom:Person {name: \"Tom Hanks\"})-[:ACTED_IN]->(movie)\n",
    "RETURN COUNT(movie) AS NumberOfMovies "
   ]
  },
  {
   "cell_type": "code",
   "execution_count": null,
   "id": "7518ed53",
   "metadata": {},
   "outputs": [],
   "source": [
    "NumberOfMovies\n",
    "36"
   ]
  },
  {
   "cell_type": "markdown",
   "id": "fb0fd43e",
   "metadata": {},
   "source": [
    "### 3: In average in how many movies do actors play in ?"
   ]
  },
  {
   "cell_type": "code",
   "execution_count": null,
   "id": "f15bcb4a",
   "metadata": {},
   "outputs": [],
   "source": [
    "# Query executée sur neo4j:\n",
    "MATCH (actor:Person)-[:ACTED_IN]->(movie)\n",
    "WITH actor, COUNT(movie) AS movieCount\n",
    "RETURN AVG(movieCount) AS AverageMoviesPerActor "
   ]
  },
  {
   "cell_type": "code",
   "execution_count": null,
   "id": "05c6acfd",
   "metadata": {},
   "outputs": [],
   "source": [
    "AverageMoviesPerActor\n",
    "1.6862745098039214"
   ]
  },
  {
   "cell_type": "markdown",
   "id": "30ebbf56",
   "metadata": {},
   "source": [
    "### 4: In average how many actors are there in a movie ?"
   ]
  },
  {
   "cell_type": "code",
   "execution_count": null,
   "id": "9fc7a459",
   "metadata": {},
   "outputs": [],
   "source": [
    "# Query executée sur neo4j:\n",
    "MATCH (m:Movie)\n",
    "RETURN AVG(size((m)<-[:ACTED_IN]-(:Person))) AS average_actors_per_movie"
   ]
  },
  {
   "cell_type": "code",
   "execution_count": null,
   "id": "a7ac70f5",
   "metadata": {},
   "outputs": [],
   "source": [
    "average_actors_per_movie\n",
    "4.526315789473683"
   ]
  },
  {
   "cell_type": "markdown",
   "id": "7a9785eb",
   "metadata": {},
   "source": [
    "### 5: In average how many writers is needed to write a movie ?"
   ]
  },
  {
   "cell_type": "code",
   "execution_count": null,
   "id": "a9a75b94",
   "metadata": {},
   "outputs": [],
   "source": [
    "# Query executée sur neo4j:\n",
    "MATCH (writer:Person)-[:WROTE]->(movie)\n",
    "WITH movie, COUNT(writer) AS writerCount\n",
    "RETURN AVG(writerCount) AS AverageWritersPerMovie "
   ]
  },
  {
   "cell_type": "code",
   "execution_count": null,
   "id": "0358aba9",
   "metadata": {},
   "outputs": [],
   "source": [
    "AverageWritersPerMovie\n",
    "1.2608695652173916"
   ]
  },
  {
   "cell_type": "markdown",
   "id": "0b1c5f66",
   "metadata": {},
   "source": [
    "### 6: What is the proportion of writers that also directed the movie ?"
   ]
  },
  {
   "cell_type": "code",
   "execution_count": null,
   "id": "31351232",
   "metadata": {},
   "outputs": [],
   "source": [
    "# Query executée sur neo4j:\n",
    "MATCH (writer:Person)-[:WROTE]->(movie)<-[:DIRECTED]-(director:Person)\n",
    "WITH writer, COUNT(DISTINCT movie) AS totalMovies, COUNT(DISTINCT CASE WHEN writer = director THEN movie END) AS moviesDirectedByWriter\n",
    "RETURN COUNT(writer) AS totalWriters, SUM(CASE WHEN moviesDirectedByWriter > 0 THEN 1 ELSE 0 END) AS writersWhoDirected,\n",
    "       toFloat(SUM(CASE WHEN moviesDirectedByWriter > 0 THEN 1 ELSE 0 END)) / COUNT(writer) AS proportion"
   ]
  },
  {
   "cell_type": "code",
   "execution_count": null,
   "id": "ba0b3cf6",
   "metadata": {},
   "outputs": [],
   "source": [
    "totalWriters: 23     \twritersWhoDirected: 12\t     proportion:  0.5217391304347826\n"
   ]
  },
  {
   "cell_type": "markdown",
   "id": "63fc7f77",
   "metadata": {},
   "source": [
    "### 7: Do an histogram of the year of release for the movies."
   ]
  },
  {
   "cell_type": "code",
   "execution_count": null,
   "id": "4681de93",
   "metadata": {},
   "outputs": [],
   "source": [
    "\n",
    "query = \"\"\"\n",
    "MATCH (movie:Movie)\n",
    "RETURN movie.released.year AS releaseYear, COUNT(*) AS count\n",
    "ORDER BY releaseYear\n",
    "\"\"\"\n",
    "\n",
    "# Exécuter la requête et récupérer les données\n",
    "result = graph.run(query)\n",
    "data = pd.DataFrame([dict(record) for record in result])\n",
    "\n",
    "# Créer le graphique à barres\n",
    "plt.bar(data[\"releaseYear\"], data[\"count\"])\n",
    "plt.xlabel('Année de sortie')\n",
    "plt.ylabel('Nombre de films')\n",
    "plt.title('Histogramme des années de sortie des films')\n",
    "\n",
    "# Afficher le graphique\n",
    "plt.show()\n"
   ]
  },
  {
   "cell_type": "markdown",
   "id": "4c6a2295",
   "metadata": {},
   "source": [
    "### 8: Who are the 10 actors with the most movie played in?"
   ]
  },
  {
   "cell_type": "code",
   "execution_count": null,
   "id": "962c088c",
   "metadata": {},
   "outputs": [],
   "source": [
    "# Query executée sur neo4j:\n",
    "MATCH (actor:Person)-[:ACTED_IN]->(movie)\n",
    "RETURN actor.name AS ActorName, COUNT(movie) AS MovieCount\n",
    "ORDER BY MovieCount DESC\n",
    "LIMIT 10"
   ]
  },
  {
   "cell_type": "code",
   "execution_count": null,
   "id": "685ed096",
   "metadata": {},
   "outputs": [],
   "source": [
    "\tActorName\tMovieCount\n",
    "\"Tom Hanks\"\t36\n",
    "\"Keanu Reeves\"\t21\n",
    "\"Meg Ryan\"\t15\n",
    "\"Hugo Weaving\"\t15\n",
    "\"Jack Nicholson\"\t15\n",
    "\"Cuba Gooding Jr.\"\t12\n",
    "\"Laurence Fishburne\"\t9\n",
    "\"Carrie-Anne Moss\"\t9\n",
    "\"Tom Cruise\"\t9\n",
    "\"Kevin Bacon\"\t9"
   ]
  },
  {
   "cell_type": "markdown",
   "id": "f003b0da",
   "metadata": {},
   "source": [
    "### 9: Delete every movie made by a director of your choosing"
   ]
  },
  {
   "cell_type": "code",
   "execution_count": null,
   "id": "1f8c25ed",
   "metadata": {},
   "outputs": [],
   "source": [
    "# Query executée sur neo4j:\n",
    "MATCH (director:Person {name: \"Lana Wachowski\"})-[:DIRECTED]->(movie:Movie)\n",
    "DETACH DELETE movie"
   ]
  },
  {
   "cell_type": "markdown",
   "id": "dea8bc4e",
   "metadata": {},
   "source": [
    "### 10: Give some statistics that you find interesting."
   ]
  },
  {
   "cell_type": "code",
   "execution_count": null,
   "id": "d568e262",
   "metadata": {},
   "outputs": [],
   "source": [
    "query = \"\"\"\n",
    "MATCH (movie:Movie)\n",
    "RETURN size((:Person)-[:ACTED_IN]->(movie)) AS degree\n",
    "\"\"\"\n",
    "data = graph.run(query).to_data_frame()\n",
    "ax = sns.distplot(data[\"degree\"],hist=False)\n",
    "ax.title.set_text(\"Density of degrees\")"
   ]
  },
  {
   "cell_type": "markdown",
   "id": "f4847e8e",
   "metadata": {},
   "source": [
    "### 11: Sandbox exercise: think of a problematic and try to answer it.\n",
    "### Trouver les acteurs avec lesquels Keanu Reeves n'a pas encore travaillé, mais dont les coacteurs ont travaillé et lui faire des recommandations."
   ]
  },
  {
   "cell_type": "code",
   "execution_count": null,
   "id": "96e64e4c",
   "metadata": {},
   "outputs": [],
   "source": [
    "# Query executée sur neo4j:\n",
    "MATCH (keanu:Person {name:\"Keanu Reeves\"})-[:ACTED_IN]->(m)<-[:ACTED_IN]-(coActors),\n",
    "  (coActors)-[:ACTED_IN]->(m2)<-[:ACTED_IN]-(cocoActors)\n",
    "WHERE NOT (keanu)-[:ACTED_IN]->()<-[:ACTED_IN]-(cocoActors) AND keanu <> cocoActors\n",
    "RETURN cocoActors.name AS Recommended, count(*) AS Strength ORDER BY Strength DESC\n"
   ]
  },
  {
   "cell_type": "code",
   "execution_count": null,
   "id": "04b547fa",
   "metadata": {},
   "outputs": [],
   "source": [
    "Recommended\tStrength\n",
    "\"Tom Hanks\"\t12\n",
    "\"Jim Broadbent\"\t9\n",
    "\"Halle Berry\"\t9\n",
    "\"Ben Miles\"\t9\n",
    "\"Natalie Portman\"\t9\n",
    "\"John Hurt\"\t9\n",
    "\"Stephen Rea\"\t9\n",
    "\"Danny DeVito\"\t6\n",
    "\"J.T. Walsh\"\t6\n",
    "\"Cuba Gooding Jr.\"\t6\n",
    "\"Clint Eastwood\"\t3\n",
    "\"Richard Harris\"\t3\n",
    "\"Robin Williams\"\t3\n",
    "\"Nathan Lane\"\t3\n",
    "\"John C. Reilly\"\t3\n",
    "\"Helen Hunt\"\t3\n",
    "\"Greg Kinnear\"\t3\n",
    "\"James Marshall\"\t3\n",
    "\"Kevin Pollak\"\t3\n",
    "\"Aaron Sorkin\"\t3\n",
    "\"Christopher Guest\"\t3\n",
    "\"Noah Wyle\"\t3\n",
    "\"Kiefer Sutherland\"\t3\n",
    "\"Kevin Bacon\"\t3\n",
    "\"Demi Moore\"\t3\n",
    "\"Tom Cruise\"\t3\n",
    "\"Liv Tyler\"\t3"
   ]
  },
  {
   "cell_type": "markdown",
   "id": "9983df93",
   "metadata": {},
   "source": [
    "### Real World application 5\n",
    "You will work on a Twitch dataset found here. The goal is to learn more about the feat&fun on Twitch. First thing to do is create the network on Neo4j. Insert the node from Twitch/FR_target and then the edges from Twitch/FR_edges.csv in neo4j. Answer the following using cypher queries\n",
    "\n",
    "1. Give the IDs of the top 10 streamers that have atleast one collaboration.\n",
    "\n",
    "2. Create a density of node degrees. Do you observe a power scale law ? What does it mean ?\n",
    "\n",
    "3. How many streamers has the tag \"mature\" ?\n",
    "\n",
    "4. Is the collaboration correlated to the \"mature\" tag ?\n",
    "\n",
    "5. Do partners collaborate more than non partners ?\n",
    "\n",
    "6. Sandbox exercise: think of a problematic and try to answer it."
   ]
  },
  {
   "cell_type": "markdown",
   "id": "200911b1",
   "metadata": {},
   "source": [
    "### 1 Give the IDs of the top 10 streamers that have atleast one collaboration."
   ]
  },
  {
   "cell_type": "code",
   "execution_count": 27,
   "id": "6ccb1d9e",
   "metadata": {},
   "outputs": [],
   "source": [
    "graph = py2neo.Graph(\"bolt://localhost:7687\", auth=(\"neo4j\", \"password_tuts\"), name=\"twitch\")\n",
    "with open('C:/Users/Georgiana/Downloads/FR_target.csv', 'r') as file:\n",
    "    for line in file:\n",
    "        id, days, mature, views, partner, new_id = line.strip().split(',')  \n",
    "        graph.run(\n",
    "            \"CREATE (:TwitchUser {id: $id, days: $days, mature: $mature, views: $views, partner:$partner, new_id:$new_id})\",\n",
    "            {\"id\": id, \"days\": days, \"mature\": mature, \"views\": views, \"partner\":partner, \"new_id\":new_id}\n",
    "        )\n"
   ]
  },
  {
   "cell_type": "code",
   "execution_count": 28,
   "id": "bed6019c",
   "metadata": {},
   "outputs": [
    {
     "ename": "KeyboardInterrupt",
     "evalue": "",
     "output_type": "error",
     "traceback": [
      "\u001b[1;31m---------------------------------------------------------------------------\u001b[0m",
      "\u001b[1;31mKeyboardInterrupt\u001b[0m                         Traceback (most recent call last)",
      "Cell \u001b[1;32mIn[28], line 5\u001b[0m\n\u001b[0;32m      3\u001b[0m \u001b[38;5;28;01mfor\u001b[39;00m line \u001b[38;5;129;01min\u001b[39;00m file:\n\u001b[0;32m      4\u001b[0m     source_id, target_id \u001b[38;5;241m=\u001b[39m line\u001b[38;5;241m.\u001b[39mstrip()\u001b[38;5;241m.\u001b[39msplit(\u001b[38;5;124m'\u001b[39m\u001b[38;5;124m,\u001b[39m\u001b[38;5;124m'\u001b[39m)  \n\u001b[1;32m----> 5\u001b[0m     graph\u001b[38;5;241m.\u001b[39mrun(\n\u001b[0;32m      6\u001b[0m         \u001b[38;5;124m\"\u001b[39m\u001b[38;5;124mMATCH (source:TwitchUser \u001b[39m\u001b[38;5;124m{\u001b[39m\u001b[38;5;124mnew_id: $source_id}) \u001b[39m\u001b[38;5;124m\"\u001b[39m\n\u001b[0;32m      7\u001b[0m         \u001b[38;5;124m\"\u001b[39m\u001b[38;5;124mMATCH (target:TwitchUser \u001b[39m\u001b[38;5;124m{\u001b[39m\u001b[38;5;124mnew_id: $target_id}) \u001b[39m\u001b[38;5;124m\"\u001b[39m\n\u001b[0;32m      8\u001b[0m         \u001b[38;5;124m\"\u001b[39m\u001b[38;5;124mCREATE (source)-[:FOLLOWS]->(target)\u001b[39m\u001b[38;5;124m\"\u001b[39m,\n\u001b[0;32m      9\u001b[0m         {\u001b[38;5;124m\"\u001b[39m\u001b[38;5;124msource_id\u001b[39m\u001b[38;5;124m\"\u001b[39m: source_id, \u001b[38;5;124m\"\u001b[39m\u001b[38;5;124mtarget_id\u001b[39m\u001b[38;5;124m\"\u001b[39m: target_id}\n\u001b[0;32m     10\u001b[0m     )\n",
      "File \u001b[1;32m~\\anaconda3\\Lib\\site-packages\\py2neo\\database.py:405\u001b[0m, in \u001b[0;36mGraph.run\u001b[1;34m(self, cypher, parameters, **kwparameters)\u001b[0m\n\u001b[0;32m    395\u001b[0m \u001b[38;5;28;01mdef\u001b[39;00m \u001b[38;5;21mrun\u001b[39m(\u001b[38;5;28mself\u001b[39m, cypher, parameters\u001b[38;5;241m=\u001b[39m\u001b[38;5;28;01mNone\u001b[39;00m, \u001b[38;5;241m*\u001b[39m\u001b[38;5;241m*\u001b[39mkwparameters):\n\u001b[0;32m    396\u001b[0m \u001b[38;5;250m    \u001b[39m\u001b[38;5;124;03m\"\"\" Run a single read/write query within an auto-commit\u001b[39;00m\n\u001b[0;32m    397\u001b[0m \u001b[38;5;124;03m    :class:`~py2neo.Transaction`.\u001b[39;00m\n\u001b[0;32m    398\u001b[0m \n\u001b[1;32m   (...)\u001b[0m\n\u001b[0;32m    403\u001b[0m \u001b[38;5;124;03m    :return:\u001b[39;00m\n\u001b[0;32m    404\u001b[0m \u001b[38;5;124;03m    \"\"\"\u001b[39;00m\n\u001b[1;32m--> 405\u001b[0m     \u001b[38;5;28;01mreturn\u001b[39;00m \u001b[38;5;28mself\u001b[39m\u001b[38;5;241m.\u001b[39mauto()\u001b[38;5;241m.\u001b[39mrun(cypher, parameters, \u001b[38;5;241m*\u001b[39m\u001b[38;5;241m*\u001b[39mkwparameters)\n",
      "File \u001b[1;32m~\\anaconda3\\Lib\\site-packages\\py2neo\\database.py:992\u001b[0m, in \u001b[0;36mTransaction.run\u001b[1;34m(self, cypher, parameters, **kwparameters)\u001b[0m\n\u001b[0;32m    988\u001b[0m     \u001b[38;5;28;01melse\u001b[39;00m:\n\u001b[0;32m    989\u001b[0m         result \u001b[38;5;241m=\u001b[39m \u001b[38;5;28mself\u001b[39m\u001b[38;5;241m.\u001b[39m_connector\u001b[38;5;241m.\u001b[39mauto_run(cypher, parameters,\n\u001b[0;32m    990\u001b[0m                                           graph_name\u001b[38;5;241m=\u001b[39m\u001b[38;5;28mself\u001b[39m\u001b[38;5;241m.\u001b[39mgraph\u001b[38;5;241m.\u001b[39mname,\n\u001b[0;32m    991\u001b[0m                                           readonly\u001b[38;5;241m=\u001b[39m\u001b[38;5;28mself\u001b[39m\u001b[38;5;241m.\u001b[39mreadonly)\n\u001b[1;32m--> 992\u001b[0m     \u001b[38;5;28mself\u001b[39m\u001b[38;5;241m.\u001b[39m_connector\u001b[38;5;241m.\u001b[39mpull(result, \u001b[38;5;241m-\u001b[39m\u001b[38;5;241m1\u001b[39m)\n\u001b[0;32m    993\u001b[0m     \u001b[38;5;28;01mreturn\u001b[39;00m Cursor(result, hydrant)\n\u001b[0;32m    994\u001b[0m \u001b[38;5;28;01mfinally\u001b[39;00m:\n",
      "File \u001b[1;32m~\\anaconda3\\Lib\\site-packages\\py2neo\\client\\__init__.py:1434\u001b[0m, in \u001b[0;36mConnector.pull\u001b[1;34m(self, result, n)\u001b[0m\n\u001b[0;32m   1432\u001b[0m cx \u001b[38;5;241m=\u001b[39m \u001b[38;5;28mself\u001b[39m\u001b[38;5;241m.\u001b[39m_reacquire(result\u001b[38;5;241m.\u001b[39mtransaction)\n\u001b[0;32m   1433\u001b[0m \u001b[38;5;28;01mtry\u001b[39;00m:\n\u001b[1;32m-> 1434\u001b[0m     cx\u001b[38;5;241m.\u001b[39mpull(result, n\u001b[38;5;241m=\u001b[39mn)\n\u001b[0;32m   1435\u001b[0m \u001b[38;5;28;01mexcept\u001b[39;00m (ConnectionUnavailable, ConnectionBroken):\n\u001b[0;32m   1436\u001b[0m     \u001b[38;5;28mself\u001b[39m\u001b[38;5;241m.\u001b[39mprune(cx\u001b[38;5;241m.\u001b[39mprofile)\n",
      "File \u001b[1;32m~\\anaconda3\\Lib\\site-packages\\py2neo\\client\\bolt.py:995\u001b[0m, in \u001b[0;36mBolt4x0.pull\u001b[1;34m(self, result, n, capacity)\u001b[0m\n\u001b[0;32m    993\u001b[0m result\u001b[38;5;241m.\u001b[39mappend(response, final\u001b[38;5;241m=\u001b[39m(n \u001b[38;5;241m==\u001b[39m \u001b[38;5;241m-\u001b[39m\u001b[38;5;241m1\u001b[39m))\n\u001b[0;32m    994\u001b[0m \u001b[38;5;28;01mtry\u001b[39;00m:\n\u001b[1;32m--> 995\u001b[0m     \u001b[38;5;28mself\u001b[39m\u001b[38;5;241m.\u001b[39m_sync(response)\n\u001b[0;32m    996\u001b[0m \u001b[38;5;28;01mexcept\u001b[39;00m BrokenWireError \u001b[38;5;28;01mas\u001b[39;00m error:\n\u001b[0;32m    997\u001b[0m     result\u001b[38;5;241m.\u001b[39mtransaction\u001b[38;5;241m.\u001b[39mmark_broken()\n",
      "File \u001b[1;32m~\\anaconda3\\Lib\\site-packages\\py2neo\\client\\bolt.py:799\u001b[0m, in \u001b[0;36mBolt1._sync\u001b[1;34m(self, *responses)\u001b[0m\n\u001b[0;32m    797\u001b[0m \u001b[38;5;28mself\u001b[39m\u001b[38;5;241m.\u001b[39msend()\n\u001b[0;32m    798\u001b[0m \u001b[38;5;28;01mfor\u001b[39;00m response \u001b[38;5;129;01min\u001b[39;00m responses:\n\u001b[1;32m--> 799\u001b[0m     \u001b[38;5;28mself\u001b[39m\u001b[38;5;241m.\u001b[39m_wait(response)\n",
      "File \u001b[1;32m~\\anaconda3\\Lib\\site-packages\\py2neo\\client\\bolt.py:794\u001b[0m, in \u001b[0;36mBolt1._wait\u001b[1;34m(self, response)\u001b[0m\n\u001b[0;32m    787\u001b[0m \u001b[38;5;250m\u001b[39m\u001b[38;5;124;03m\"\"\" Read all incoming responses up to and including a\u001b[39;00m\n\u001b[0;32m    788\u001b[0m \u001b[38;5;124;03mparticular response.\u001b[39;00m\n\u001b[0;32m    789\u001b[0m \n\u001b[0;32m    790\u001b[0m \u001b[38;5;124;03mThis method calls fetch, but does not raise an exception on\u001b[39;00m\n\u001b[0;32m    791\u001b[0m \u001b[38;5;124;03mFAILURE.\u001b[39;00m\n\u001b[0;32m    792\u001b[0m \u001b[38;5;124;03m\"\"\"\u001b[39;00m\n\u001b[0;32m    793\u001b[0m \u001b[38;5;28;01mwhile\u001b[39;00m \u001b[38;5;129;01mnot\u001b[39;00m response\u001b[38;5;241m.\u001b[39mfull() \u001b[38;5;129;01mand\u001b[39;00m \u001b[38;5;129;01mnot\u001b[39;00m response\u001b[38;5;241m.\u001b[39mdone():\n\u001b[1;32m--> 794\u001b[0m     \u001b[38;5;28mself\u001b[39m\u001b[38;5;241m.\u001b[39m_fetch()\n",
      "File \u001b[1;32m~\\anaconda3\\Lib\\site-packages\\py2neo\\client\\bolt.py:769\u001b[0m, in \u001b[0;36mBolt1._fetch\u001b[1;34m(self)\u001b[0m\n\u001b[0;32m    760\u001b[0m \u001b[38;5;28;01mdef\u001b[39;00m \u001b[38;5;21m_fetch\u001b[39m(\u001b[38;5;28mself\u001b[39m):\n\u001b[0;32m    761\u001b[0m \u001b[38;5;250m    \u001b[39m\u001b[38;5;124;03m\"\"\" Fetch and process the next incoming message.\u001b[39;00m\n\u001b[0;32m    762\u001b[0m \n\u001b[0;32m    763\u001b[0m \u001b[38;5;124;03m    This method does not raise an exception on receipt of a\u001b[39;00m\n\u001b[1;32m   (...)\u001b[0m\n\u001b[0;32m    767\u001b[0m \u001b[38;5;124;03m    failed state into an exception.\u001b[39;00m\n\u001b[0;32m    768\u001b[0m \u001b[38;5;124;03m    \"\"\"\u001b[39;00m\n\u001b[1;32m--> 769\u001b[0m     tag, fields \u001b[38;5;241m=\u001b[39m \u001b[38;5;28mself\u001b[39m\u001b[38;5;241m.\u001b[39mread_message()\n\u001b[0;32m    770\u001b[0m     \u001b[38;5;28;01mif\u001b[39;00m tag \u001b[38;5;241m==\u001b[39m \u001b[38;5;241m0x70\u001b[39m:\n\u001b[0;32m    771\u001b[0m         \u001b[38;5;28mself\u001b[39m\u001b[38;5;241m.\u001b[39m_responses\u001b[38;5;241m.\u001b[39mpopleft()\u001b[38;5;241m.\u001b[39mset_success(\u001b[38;5;241m*\u001b[39m\u001b[38;5;241m*\u001b[39mfields[\u001b[38;5;241m0\u001b[39m])\n",
      "File \u001b[1;32m~\\anaconda3\\Lib\\site-packages\\py2neo\\client\\bolt.py:696\u001b[0m, in \u001b[0;36mBolt1.read_message\u001b[1;34m(self)\u001b[0m\n\u001b[0;32m    695\u001b[0m \u001b[38;5;28;01mdef\u001b[39;00m \u001b[38;5;21mread_message\u001b[39m(\u001b[38;5;28mself\u001b[39m):\n\u001b[1;32m--> 696\u001b[0m     tag, fields \u001b[38;5;241m=\u001b[39m \u001b[38;5;28mself\u001b[39m\u001b[38;5;241m.\u001b[39m_reader\u001b[38;5;241m.\u001b[39mread_message()\n\u001b[0;32m    697\u001b[0m     \u001b[38;5;28;01mif\u001b[39;00m tag \u001b[38;5;241m==\u001b[39m \u001b[38;5;241m0x71\u001b[39m:\n\u001b[0;32m    698\u001b[0m         \u001b[38;5;66;03m# If a RECORD is received, check for more records\u001b[39;00m\n\u001b[0;32m    699\u001b[0m         \u001b[38;5;66;03m# in the buffer immediately following, and log and\u001b[39;00m\n\u001b[0;32m    700\u001b[0m         \u001b[38;5;66;03m# add them all at the same time\u001b[39;00m\n\u001b[0;32m    701\u001b[0m         \u001b[38;5;28;01mwhile\u001b[39;00m \u001b[38;5;28mself\u001b[39m\u001b[38;5;241m.\u001b[39m_reader\u001b[38;5;241m.\u001b[39mpeek_message() \u001b[38;5;241m==\u001b[39m \u001b[38;5;241m0x71\u001b[39m:\n",
      "File \u001b[1;32m~\\anaconda3\\Lib\\site-packages\\py2neo\\client\\bolt.py:156\u001b[0m, in \u001b[0;36mBoltMessageReader.read_message\u001b[1;34m(self)\u001b[0m\n\u001b[0;32m    154\u001b[0m \u001b[38;5;28;01mwhile\u001b[39;00m \u001b[38;5;28;01mTrue\u001b[39;00m:\n\u001b[0;32m    155\u001b[0m     \u001b[38;5;28;01mtry\u001b[39;00m:\n\u001b[1;32m--> 156\u001b[0m         hi, lo \u001b[38;5;241m=\u001b[39m \u001b[38;5;28mself\u001b[39m\u001b[38;5;241m.\u001b[39mwire\u001b[38;5;241m.\u001b[39mread(\u001b[38;5;241m2\u001b[39m)\n\u001b[0;32m    157\u001b[0m     \u001b[38;5;28;01mexcept\u001b[39;00m WireError \u001b[38;5;28;01mas\u001b[39;00m error:\n\u001b[0;32m    158\u001b[0m         raise_from(ConnectionBroken(\u001b[38;5;124m\"\u001b[39m\u001b[38;5;124mFailed to read message\u001b[39m\u001b[38;5;124m\"\u001b[39m), error)\n",
      "File \u001b[1;32m~\\anaconda3\\Lib\\site-packages\\py2neo\\wiring.py:117\u001b[0m, in \u001b[0;36mWire.read\u001b[1;34m(self, n)\u001b[0m\n\u001b[0;32m    115\u001b[0m requested \u001b[38;5;241m=\u001b[39m \u001b[38;5;28mmax\u001b[39m(required, \u001b[38;5;241m16384\u001b[39m)\n\u001b[0;32m    116\u001b[0m \u001b[38;5;28;01mtry\u001b[39;00m:\n\u001b[1;32m--> 117\u001b[0m     received \u001b[38;5;241m=\u001b[39m \u001b[38;5;28mself\u001b[39m\u001b[38;5;241m.\u001b[39m__socket\u001b[38;5;241m.\u001b[39mrecv(requested)\n\u001b[0;32m    118\u001b[0m \u001b[38;5;28;01mexcept\u001b[39;00m (\u001b[38;5;167;01mIOError\u001b[39;00m, \u001b[38;5;167;01mOSError\u001b[39;00m):\n\u001b[0;32m    119\u001b[0m     \u001b[38;5;28mself\u001b[39m\u001b[38;5;241m.\u001b[39m__mark_broken(\u001b[38;5;124m\"\u001b[39m\u001b[38;5;124mWire broken\u001b[39m\u001b[38;5;124m\"\u001b[39m)\n",
      "\u001b[1;31mKeyboardInterrupt\u001b[0m: "
     ]
    }
   ],
   "source": [
    "graph = py2neo.Graph(\"bolt://localhost:7687\", auth=(\"neo4j\", \"password_tuts\"), name=\"twitch\")\n",
    "with open('C:/Users/Georgiana/Downloads/FR_edges.csv', 'r') as file:\n",
    "    for line in file:\n",
    "        source_id, target_id = line.strip().split(',')  \n",
    "        graph.run(\n",
    "            \"MATCH (source:TwitchUser {new_id: $source_id}) \"\n",
    "            \"MATCH (target:TwitchUser {new_id: $target_id}) \"\n",
    "            \"CREATE (source)-[:FOLLOWS]->(target)\",\n",
    "            {\"source_id\": source_id, \"target_id\": target_id}\n",
    "        )\n"
   ]
  },
  {
   "cell_type": "code",
   "execution_count": 16,
   "id": "e8f3d30c",
   "metadata": {},
   "outputs": [
    {
     "name": "stdout",
     "output_type": "stream",
     "text": [
      "28575692\n",
      "41719107\n",
      "24147592\n",
      "89872865\n",
      "4102418\n",
      "42141251\n",
      "135468063\n",
      "40063341\n",
      "30709418\n",
      "84934385\n"
     ]
    }
   ],
   "source": [
    "query = \"\"\"\n",
    "MATCH (streamer:TwitchUser)-[:FOLLOWS]->(:TwitchUser)\n",
    "WITH streamer, count(*) AS collaborations\n",
    "WHERE collaborations > 0\n",
    "RETURN streamer.id AS streamer_id, collaborations\n",
    "ORDER BY collaborations DESC\n",
    "LIMIT 10\n",
    "\"\"\"\n",
    "\n",
    "# Exécution de la requête Cypher\n",
    "result = graph.run(query)\n",
    "\n",
    "# Affichage des résultats\n",
    "for record in result:\n",
    "    print(record[\"streamer_id\"])\n"
   ]
  },
  {
   "cell_type": "markdown",
   "id": "227d0d2a",
   "metadata": {},
   "source": [
    "### 2: Create a density of node degrees. Do you observe a power scale law ? What does it mean ?"
   ]
  },
  {
   "cell_type": "code",
   "execution_count": 19,
   "id": "1283b320",
   "metadata": {},
   "outputs": [
    {
     "data": {
      "image/png": "[encoded data removed]",
      "text/plain": [
       "<Figure size 640x480 with 1 Axes>"
      ]
     },
     "metadata": {},
     "output_type": "display_data"
    }
   ],
   "source": [
    "import pandas as pd\n",
    "import matplotlib.pyplot as plt \n",
    "query = \"\"\"\n",
    "MATCH (streamer:TwitchUser)\n",
    "RETURN size((streamer)-[:FOLLOWS]->()) AS degree, count(*) AS count\n",
    "ORDER BY degree\n",
    "\"\"\"\n",
    "result = graph.run(query)\n",
    "\n",
    "# Création d'un DataFrame pandas à partir des résultats de la requête\n",
    "data = pd.DataFrame([dict(record) for record in result])\n",
    "\n",
    "# Création de l'histogramme\n",
    "plt.bar(data[\"degree\"], data[\"count\"])\n",
    "plt.xlabel('Degree')\n",
    "plt.ylabel('Count')\n",
    "plt.title('Node Degree Distribution')\n",
    "plt.show()\n"
   ]
  },
  {
   "cell_type": "markdown",
   "id": "f4867859",
   "metadata": {},
   "source": [
    " Oui, la distribution suit une loi de puissance: il y a beaucoup de streamers avec peu de collaborations et très peu de\n",
    "streamers avec beaucoup de collaborations"
   ]
  },
  {
   "cell_type": "markdown",
   "id": "4fc1a6f4",
   "metadata": {},
   "source": [
    "### 3: How many streamers has the tag \"mature\" ?"
   ]
  },
  {
   "cell_type": "code",
   "execution_count": 27,
   "id": "5af42acd",
   "metadata": {},
   "outputs": [
    {
     "name": "stdout",
     "output_type": "stream",
     "text": [
      "Nombre de streamers avec la propriété 'mature' définie à True: 2416\n"
     ]
    }
   ],
   "source": [
    "query = \"\"\"\n",
    "MATCH (streamer:TwitchUser)\n",
    "WHERE streamer.mature = 'True'\n",
    "RETURN COUNT(streamer) AS mature_streamers\n",
    "\"\"\"\n",
    "\n",
    "result = graph.run(query)\n",
    "record = result.next()\n",
    "mature_streamers = record[\"mature_streamers\"]\n",
    "\n",
    "print(\"Nombre de streamers avec la propriété 'mature' définie à True:\", mature_streamers)\n"
   ]
  },
  {
   "cell_type": "markdown",
   "id": "faba997c",
   "metadata": {},
   "source": [
    "### 4: Is the collaboration correlated to the \"mature\" tag ?"
   ]
  },
  {
   "cell_type": "code",
   "execution_count": 36,
   "id": "48bae949",
   "metadata": {},
   "outputs": [
    {
     "name": "stdout",
     "output_type": "stream",
     "text": [
      "Nombre total de collaborations des streamers avec mature=True avec les autres: 33369\n",
      "Nombre total de collaborations des streamers avec mature=False avec les autres: 52618\n"
     ]
    }
   ],
   "source": [
    "query_true = \"\"\"\n",
    "MATCH (streamer:TwitchUser {mature: 'True'})-[:FOLLOWS]->(other:TwitchUser)\n",
    "RETURN COUNT(*) AS total_collaborations_true\n",
    "\"\"\"\n",
    "\n",
    "result_true = graph.run(query_true)\n",
    "\n",
    "record_true = result_true.next()\n",
    "\n",
    "# Nombre total de collaborations des streamers avec mature=True\n",
    "total_collaborations_true = record_true[\"total_collaborations_true\"]\n",
    "\n",
    "query_false = \"\"\"\n",
    "MATCH (streamer:TwitchUser {mature: 'False'})-[:FOLLOWS]->(other:TwitchUser)\n",
    "RETURN COUNT(*) AS total_collaborations_false\n",
    "\"\"\"\n",
    "\n",
    "\n",
    "result_false = graph.run(query_false)\n",
    "\n",
    "\n",
    "record_false = result_false.next()\n",
    "\n",
    "# Nombre total de collaborations des streamers avec mature=False\n",
    "total_collaborations_false = record_false[\"total_collaborations_false\"]\n",
    "\n",
    "\n",
    "print(\"Nombre total de collaborations des streamers avec mature=True avec les autres:\", total_collaborations_true)\n",
    "print(\"Nombre total de collaborations des streamers avec mature=False avec les autres:\", total_collaborations_false)\n"
   ]
  },
  {
   "cell_type": "markdown",
   "id": "e659072b",
   "metadata": {},
   "source": [
    "Dans le sous-echantillon que j'ai importé il apparait que les streamers\n",
    "avec le tag mature False ont plus de collaborations que ceux avec le tag True."
   ]
  },
  {
   "cell_type": "markdown",
   "id": "bfb88e85",
   "metadata": {},
   "source": [
    "### 5: Do partners collaborate more than non partners ?"
   ]
  },
  {
   "cell_type": "code",
   "execution_count": 43,
   "id": "4dfe2e32",
   "metadata": {},
   "outputs": [
    {
     "name": "stdout",
     "output_type": "stream",
     "text": [
      "Nombre total de collaborations des streamers avec partner=True avec les autres: 29598\n",
      "Nombre total de collaborations des streamers avec partner=False avec les autres: 56389\n"
     ]
    }
   ],
   "source": [
    "query_true = \"\"\"\n",
    "MATCH (streamer:TwitchUser {partner: 'True'})-[:FOLLOWS]->(other:TwitchUser)\n",
    "RETURN COUNT(*) AS total_collaborations_partners\n",
    "\"\"\"\n",
    "\n",
    "# Exécution de la requête Cypher\n",
    "result_true = graph.run(query_true)\n",
    "\n",
    "# Récupérer le premier enregistrement dans le curseur\n",
    "record_true = result_true.next()\n",
    "\n",
    "# Nombre total de collaborations des streamers avec partner=True\n",
    "total_collaborations_partners = record_true[\"total_collaborations_partners\"]\n",
    "\n",
    "# Requête Cypher pour compter le nombre total de collaborations des streamers avec partner=False\n",
    "query_false = \"\"\"\n",
    "MATCH (streamer:TwitchUser {partner: 'False'})-[:FOLLOWS]->(other:TwitchUser)\n",
    "RETURN COUNT(*) AS total_collaborations_nonpartners\n",
    "\"\"\"\n",
    "\n",
    "# Exécution de la requête Cypher\n",
    "result_false = graph.run(query_false)\n",
    "\n",
    "# Récupérer le premier enregistrement dans le curseur\n",
    "record_false = result_false.next()\n",
    "\n",
    "# Nombre total de collaborations des streamers avec partner=False\n",
    "total_collaborations_nonpartners = record_false[\"total_collaborations_nonpartners\"]\n",
    "\n",
    "# Affichage des résultats\n",
    "print(\"Nombre total de collaborations des streamers avec partner=True avec les autres:\", total_collaborations_partners)\n",
    "print(\"Nombre total de collaborations des streamers avec partner=False avec les autres:\", total_collaborations_nonpartners)\n",
    "\n"
   ]
  },
  {
   "cell_type": "markdown",
   "id": "ab463fdb",
   "metadata": {},
   "source": [
    " Les streamers avec partner=False ont plus de collaborations que ceux avec partner=True (pour le sous-echantillon importé)"
   ]
  },
  {
   "cell_type": "markdown",
   "id": "75c20010",
   "metadata": {},
   "source": [
    "### 6: Sandbox exercise: think of a problematic and try to answer it.\n",
    "### Le nombre de views est-il correlé au nombre de collaborations?"
   ]
  },
  {
   "cell_type": "code",
   "execution_count": 46,
   "id": "2e996ae1",
   "metadata": {},
   "outputs": [
    {
     "name": "stdout",
     "output_type": "stream",
     "text": [
      "Type de données de la colonne 'collaborations': int64\n",
      "Type de données de la colonne 'views': object\n",
      "0.3755309782511905\n"
     ]
    }
   ],
   "source": [
    "query = \"\"\"\n",
    "MATCH (streamer:TwitchUser)\n",
    "OPTIONAL MATCH (streamer)-[:FOLLOWS]->(other:TwitchUser)\n",
    "RETURN streamer.views AS views, COUNT(other) AS collaborations\n",
    "\"\"\"\n",
    "\n",
    "# Exécution de la requête Cypher\n",
    "result = graph.run(query)\n",
    "\n",
    "# Conversion des résultats en DataFrame pandas\n",
    "data = pd.DataFrame([dict(record) for record in result])\n",
    "\n",
    "# Conversion des colonnes en types numériques si nécessaire\n",
    "data[\"collaborations\"] = pd.to_numeric(data[\"collaborations\"], errors='coerce')\n",
    "data[\"views\"] = pd.to_numeric(data[\"views\"], errors='coerce')\n",
    "\n",
    "# Suppression des lignes avec des valeurs manquantes\n",
    "data.dropna(inplace=True)\n",
    "\n",
    "# Calcul du coefficient de corrélation de Pearson entre collaborations et views\n",
    "pearson_corr, _ = pearsonr(data[\"collaborations\"], data[\"views\"])\n",
    "print(pearson_corr) \n",
    "\n",
    "# correlation de 0.4 entre le nombre de views et le nombre de collaborations, donc positive mais\n",
    "# pas très forte"
   ]
  },
  {
   "cell_type": "markdown",
   "id": "52188b88",
   "metadata": {},
   "source": [
    "### Real World application 6\n",
    "\n",
    "You will work on a stackoverflow dataset found [here](https://www.kaggle.com/stackoverflow/stack-overflow-tag-network). First thing to do is create the network on Neo4j. You can find the characteristics of the nodes in stack_network_nodes.csv.\n",
    "Once the node are create you can create the edges between them, you can find them in stack_network_links.csv. The weight of the edge is the column value. Answer the following making use of cypher queries.\n",
    "\n",
    "1) What are the 10 most popular keywords ?\n",
    "\n",
    "2) What are the top 10 Co-occurence ?\n",
    "\n",
    "3) How many keywords are in group 1 ?\n",
    "\n",
    "3) Is the Co-occurence correlated to the \"group\" of the keyword ?  \n",
    "\n",
    "4) Sandbox exercise: think of a problematic and try to answer it."
   ]
  },
  {
   "cell_type": "code",
   "execution_count": 28,
   "id": "2e8fe50d",
   "metadata": {},
   "outputs": [],
   "source": [
    "import pandas as pd\n",
    "from py2neo import Graph, Node, Relationship\n",
    "csv_file = \"C:/Users/Georgiana/Downloads/stack_network_nodes.csv\"\n",
    "\n",
    "data = pd.read_csv(csv_file)\n",
    "\n",
    "# Connexion à la base de données Neo4j\n",
    "graph = Graph(\"bolt://localhost:7687\", auth=(\"neo4j\", \"password_tuts\"), name=\"stack\")\n",
    "\n",
    "# Créer les nœuds dans Neo4j à partir des données du fichier CSV\n",
    "for index, row in data.iterrows():\n",
    "    name = row['name']\n",
    "    group = row['group']\n",
    "    nodesize = row['nodesize']\n",
    "    \n",
    "    # Créer un nœud avec les attributs correspondants\n",
    "    node = Node(\"Node\", name=name, group=group, nodesize=nodesize)\n",
    "    \n",
    "    # Ajouter le nœud à la base de données\n",
    "    graph.create(node)"
   ]
  },
  {
   "cell_type": "code",
   "execution_count": 29,
   "id": "338ab9cd",
   "metadata": {},
   "outputs": [],
   "source": [
    "from py2neo import Graph, NodeMatcher, Relationship\n",
    "csv_links_file = \"C:/Users/Georgiana/Downloads/stack_network_links.csv\"\n",
    "\n",
    "# Lire le fichier CSV des liens avec pandas\n",
    "links_data = pd.read_csv(csv_links_file)\n",
    "graph = Graph(\"bolt://localhost:7687\", auth=(\"neo4j\", \"password_tuts\"), name=\"stack\")\n",
    "\n",
    "node_matcher = NodeMatcher(graph)\n",
    "node_ids = {node[\"name\"]: node.identity for node in node_matcher.match(\"Node\")}\n",
    "\n",
    "# Créer les arêtes dans Neo4j à partir des données du fichier CSV des liens\n",
    "for index, row in links_data.iterrows():\n",
    "    source_name = row['source']\n",
    "    target_name = row['target']\n",
    "    value = row['value']\n",
    "    \n",
    "    # Récupérer les ID des nœuds source et cible\n",
    "    source_id = node_ids.get(source_name)\n",
    "    target_id = node_ids.get(target_name)\n",
    "    \n",
    "    # Vérifier si les nœuds source et cible existent dans la base de données\n",
    "    if source_id is not None and target_id is not None:\n",
    "        # Créer la relation entre les nœuds source et cible avec le poids correspondant\n",
    "        relation = Relationship(graph.nodes[source_id], \"LINKS_TO\", graph.nodes[target_id], weight=value)\n",
    "        \n",
    "        # Ajouter la relation à la base de données\n",
    "        graph.create(relation)"
   ]
  },
  {
   "cell_type": "markdown",
   "id": "f445b82f",
   "metadata": {},
   "source": [
    "### 1: What are the 10 most popular keywords ?"
   ]
  },
  {
   "cell_type": "code",
   "execution_count": 30,
   "id": "99d6fcc8",
   "metadata": {},
   "outputs": [
    {
     "name": "stdout",
     "output_type": "stream",
     "text": [
      "javascript : 1947.48\n",
      "java : 1831.9499999999998\n",
      "python : 1316.01\n",
      "php : 1083.66\n",
      "css : 1023.51\n",
      "c# : 963.39\n",
      "html : 817.3499999999999\n",
      "c++ : 804.33\n",
      "android : 689.58\n",
      "jquery : 624.87\n"
     ]
    }
   ],
   "source": [
    "import py2neo\n",
    "from py2neo import Graph, NodeMatcher, Relationship\n",
    "graph = Graph(\"bolt://localhost:7687\", auth=(\"neo4j\", \"password_tuts\"), name=\"stack\")\n",
    "query = \"\"\"\n",
    "MATCH (t)\n",
    "RETURN t.name AS tag, sum(t.nodesize) AS popularite\n",
    "ORDER BY popularite DESC\n",
    "LIMIT 10\n",
    "\"\"\"\n",
    "\n",
    "# Exécution de la requête et récupération des résultats\n",
    "result = graph.run(query)\n",
    "\n",
    "# Affichage des résultats\n",
    "for record in result:\n",
    "    print(record[\"tag\"], \":\", record[\"popularite\"])"
   ]
  },
  {
   "cell_type": "markdown",
   "id": "e4a8b2a5",
   "metadata": {},
   "source": [
    "### 2: What are the top 10 Co-occurence ?"
   ]
  },
  {
   "cell_type": "markdown",
   "id": "28bf417e",
   "metadata": {},
   "source": [
    "### 3: How many keywords are in group 1 ?"
   ]
  },
  {
   "cell_type": "code",
   "execution_count": 37,
   "id": "40ee9b23",
   "metadata": {},
   "outputs": [
    {
     "name": "stdout",
     "output_type": "stream",
     "text": [
      "html and jquery : 4 co-occurrences\n",
      "html and php : 4 co-occurrences\n",
      "html and mysql : 4 co-occurrences\n",
      "html and sass : 4 co-occurrences\n",
      "css and html : 4 co-occurrences\n",
      "css and html5 : 4 co-occurrences\n",
      "css and javascript : 4 co-occurrences\n",
      "css and jquery : 4 co-occurrences\n",
      "css and php : 4 co-occurrences\n",
      "html and javascript : 4 co-occurrences\n"
     ]
    }
   ],
   "source": [
    "graph = Graph(\"bolt://localhost:7687\", auth=(\"neo4j\", \"password_tuts\"), name=\"stack\")\n",
    "query = \"\"\"\n",
    "MATCH (k1:Node)-[:LINKS_TO]-(k2:Node)\n",
    "WHERE k1.name < k2.name\n",
    "RETURN k1.name AS KeyWord1, k2.name AS KeyWord2, COUNT(*) AS co_occurrences\n",
    "ORDER BY co_occurrences DESC\n",
    "LIMIT 10\n",
    "\"\"\"\n",
    "\n",
    "# Exécution de la requête et récupération des résultats\n",
    "result = graph.run(query)\n",
    "\n",
    "# Affichage des résultats\n",
    "for record in result:\n",
    "    print(record[\"KeyWord1\"], \"and\", record[\"KeyWord2\"], \":\", record[\"co_occurrences\"], \"co-occurrences\")"
   ]
  },
  {
   "cell_type": "code",
   "execution_count": 39,
   "id": "b6401e40",
   "metadata": {},
   "outputs": [
    {
     "name": "stdout",
     "output_type": "stream",
     "text": [
      "Nombre de mots-clés dans le groupe 1: 30\n"
     ]
    }
   ],
   "source": [
    "query = \"\"\"\n",
    "MATCH (n:Node)\n",
    "WHERE n.group= 1\n",
    "RETURN COUNT(n) AS keyword_count\n",
    "\"\"\"\n",
    "\n",
    "# Exécution de la requête et récupération du résultat\n",
    "result = graph.run(query)\n",
    "\n",
    "# Récupération du nombre de mots-clés dans le groupe 1 à partir du résultat\n",
    "keyword_count = result.evaluate()\n",
    "\n",
    "print(\"Nombre de mots-clés dans le groupe 1:\", keyword_count)"
   ]
  },
  {
   "cell_type": "markdown",
   "id": "757f774e",
   "metadata": {},
   "source": [
    "### 4: Is the Co-occurence correlated to the \"group\" of the keyword ?"
   ]
  },
  {
   "cell_type": "code",
   "execution_count": 20,
   "id": "eeed5054",
   "metadata": {},
   "outputs": [
    {
     "name": "stdout",
     "output_type": "stream",
     "text": [
      "Co-occurence dans le meme groupe: 440\n",
      "Co-occurence dans le meme groupe: 50\n"
     ]
    }
   ],
   "source": [
    "# co occurence dans le meme groupe:\n",
    "query1 = \"\"\"\n",
    "MATCH (t1:Node)-[:LINKS_TO]->(t2:Node)\n",
    "WHERE t1.group=t2.group\n",
    "RETURN COUNT(*) AS co_occurrences_group\n",
    "\"\"\"\n",
    "\n",
    "# co occurence en dehors du meme groupe:\n",
    "query2 = \"\"\"\n",
    "MATCH (t1:Node)-[:LINKS_TO]->(t2:Node)\n",
    "WHERE t1.group<>t2.group\n",
    "RETURN COUNT(*) AS co_occurrences_NONgroup\n",
    "\"\"\"\n",
    "result_group=graph.run(query1).evaluate()\n",
    "result_groupNo=graph.run(query2).evaluate()\n",
    "print(\"Co-occurence dans le meme groupe:\", result_group)\n",
    "print(\"Co-occurence dans le meme groupe:\", result_groupNo)"
   ]
  },
  {
   "cell_type": "markdown",
   "id": "e6f197cd",
   "metadata": {},
   "source": [
    "### 5: Sandbox exercise: think of a problematic and try to answer it.\n",
    "### Give the density of degrees."
   ]
  },
  {
   "cell_type": "code",
   "execution_count": 58,
   "id": "93e04dfa",
   "metadata": {},
   "outputs": [
    {
     "data": {
      "image/png": "[encoded data removed]",
      "text/plain": [
       "<Figure size 640x480 with 1 Axes>"
      ]
     },
     "metadata": {},
     "output_type": "display_data"
    }
   ],
   "source": [
    "import matplotlib.pyplot as plt\n",
    "\n",
    "query = \"\"\"\n",
    "MATCH (n)\n",
    "RETURN size((n)-->()) AS degree\n",
    "\"\"\"\n",
    "\n",
    "result = graph.run(query)\n",
    "\n",
    "# Extract degrees from the result\n",
    "degrees = [record[\"degree\"] for record in result]\n",
    "\n",
    "# Plot the degree distribution\n",
    "plt.hist(degrees, bins=range(min(degrees), max(degrees) + 1, 1), edgecolor='black')\n",
    "plt.xlabel('Degree')\n",
    "plt.ylabel('Frequency')\n",
    "plt.title('Degree Distribution')\n",
    "plt.show()"
   ]
  },
  {
   "cell_type": "markdown",
   "id": "a486d495",
   "metadata": {},
   "source": [
    "Ca suit une loi de puissance."
   ]
  },
  {
   "cell_type": "code",
   "execution_count": null,
   "id": "6cd33de2",
   "metadata": {},
   "outputs": [],
   "source": []
  }
 ],
 "metadata": {
  "kernelspec": {
   "display_name": "Python 3 (ipykernel)",
   "language": "python",
   "name": "python3"
  },
  "language_info": {
   "codemirror_mode": {
    "name": "ipython",
    "version": 3
   },
   "file_extension": ".py",
   "mimetype": "text/x-python",
   "name": "python",
   "nbconvert_exporter": "python",
   "pygments_lexer": "ipython3",
   "version": "3.11.5"
  }
 },
 "nbformat": 4,
 "nbformat_minor": 5
}
